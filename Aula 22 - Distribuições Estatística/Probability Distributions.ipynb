{
 "cells": [
  {
   "cell_type": "markdown",
   "metadata": {},
   "source": [
    "## Discrete Distributions\n",
    "### Probability Mass Function "
   ]
  },
  {
   "cell_type": "code",
   "execution_count": 13,
   "metadata": {
    "scrolled": true
   },
   "outputs": [
    {
     "name": "stdout",
     "output_type": "stream",
     "text": [
      "Dice - 6 faces: pmf(X)\n",
      " {1: 1/6, 2: 1/6, 3: 1/6, 4: 1/6, 5: 1/6, 6: 1/6}\n"
     ]
    }
   ],
   "source": [
    "# pmf - probability mass function\n",
    "from sympy.stats import Die, density, FiniteRV\n",
    "\n",
    "X = Die('X',6)\n",
    "print(\"Dice - 6 faces: pmf(X)\\n\",density(X).dict)"
   ]
  },
  {
   "cell_type": "code",
   "execution_count": 14,
   "metadata": {},
   "outputs": [
    {
     "name": "stdout",
     "output_type": "stream",
     "text": [
      "Biased Dice - 6 faces: pmf(Y)\n",
      " {1: 0.2, 2: 0.1, 3: 0.3, 4: 0.1, 5: 0.2, 6: 0.1}\n"
     ]
    }
   ],
   "source": [
    "# pmf - probability mass function\n",
    "pmf = {1: 0.2, 2: 0.1, 3: 0.3, 4: 0.1, 5: 0.2, 6: 0.1}\n",
    "Y = FiniteRV('Y',pmf)\n",
    "print(\"Biased Dice - 6 faces: pmf(Y)\\n\",density(Y).dict)"
   ]
  },
  {
   "cell_type": "markdown",
   "metadata": {},
   "source": [
    "### Cumulative Distribution Function"
   ]
  },
  {
   "cell_type": "code",
   "execution_count": 15,
   "metadata": {},
   "outputs": [
    {
     "name": "stdout",
     "output_type": "stream",
     "text": [
      "Dice - 6 faces: pmf(X)\n",
      " {1: 1/6, 2: 1/6, 3: 1/6, 4: 1/6, 5: 1/6, 6: 1/6}\n",
      "Dice - 6 faces: cdf(X)\n",
      " {1: 1/6, 2: 1/3, 3: 1/2, 4: 2/3, 5: 5/6, 6: 1}\n"
     ]
    }
   ],
   "source": [
    "# cdf - cumulative distribution function\n",
    "from sympy.stats import cdf\n",
    "\n",
    "print(\"Dice - 6 faces: pmf(X)\\n\",density(X).dict)\n",
    "print(\"Dice - 6 faces: cdf(X)\\n\", cdf(X))"
   ]
  },
  {
   "cell_type": "code",
   "execution_count": 16,
   "metadata": {},
   "outputs": [
    {
     "name": "stdout",
     "output_type": "stream",
     "text": [
      "Biased Dice - 6 faces: pmf(Y)\n",
      " {1: 0.2, 2: 0.1, 3: 0.3, 4: 0.1, 5: 0.2, 6: 0.1}\n",
      "Biased Dice - 6 faces: cdf(Y)\n",
      " {1: 0.200000000000000, 2: 0.300000000000000, 3: 0.600000000000000, 4: 0.700000000000000, 5: 0.900000000000000, 6: 1.00000000000000}\n"
     ]
    }
   ],
   "source": [
    "print(\"Biased Dice - 6 faces: pmf(Y)\\n\",density(Y).dict)\n",
    "print(\"Biased Dice - 6 faces: cdf(Y)\\n\", cdf(Y))"
   ]
  },
  {
   "cell_type": "markdown",
   "metadata": {},
   "source": [
    "<br>\n",
    "<div class=\"alert alert-info\">\n",
    "<b>Exercise start </b>\n",
    "</div>\n",
    "\n",
    "1. Using cdf create a function that generate randomly a face of a 8 faces dice. \n",
    "    - face = my_dice(n,cdf)\n"
   ]
  },
  {
   "cell_type": "code",
   "execution_count": 25,
   "metadata": {
    "scrolled": true
   },
   "outputs": [
    {
     "data": {
      "text/plain": [
       "{1: 1/8, 2: 1/4, 3: 3/8, 4: 1/2, 5: 5/8, 6: 3/4, 7: 7/8, 8: 1}"
      ]
     },
     "execution_count": 25,
     "metadata": {},
     "output_type": "execute_result"
    }
   ],
   "source": [
    "cdf(Dado)"
   ]
  },
  {
   "cell_type": "code",
   "execution_count": 33,
   "metadata": {},
   "outputs": [
    {
     "name": "stdout",
     "output_type": "stream",
     "text": [
      "0.9207519175910039\n",
      "8\n"
     ]
    }
   ],
   "source": [
    "import random, numpy\n",
    "from sympy.stats import Die, density, FiniteRV, cdf\n",
    "Dado = Die('Dado',8)\n",
    "\n",
    "def my_dice(X,cdf):\n",
    "    for keys in cdf:\n",
    "        if(keys >1):\n",
    "            if(X > cdf[keys-1] and X <= cdf[keys]):\n",
    "                return keys\n",
    "        else:\n",
    "            if(X <= cdf[keys]):\n",
    "                return keys\n",
    "            \n",
    "X =  random.random()\n",
    "print(X)\n",
    "face = my_dice(X,cdf(Dado))\n",
    "print(face)"
   ]
  },
  {
   "cell_type": "markdown",
   "metadata": {},
   "source": [
    "## Bernoulli Distribution\n",
    "\n",
    "$$\n",
    "\\begin{eqnarray*}\n",
    "P(X = x)  \\Leftrightarrow  f(x)  & = &\n",
    "\\begin{cases}\n",
    "               \\displaystyle q, \\ \\ \\ x = 0\\\\\n",
    "               p, \\ \\ \\ x = 1\n",
    "\\end{cases}\\\\\n",
    "P(X \\leq x) \\Leftrightarrow  F(x)  & = &\n",
    "\\begin{cases}\n",
    "               0, \\ \\ \\ x < 0\\\\\n",
    "               q, \\ \\ \\ 0 \\leq x < 1\\\\\n",
    "               1, \\ \\ \\ x \\geq 1\n",
    "\\end{cases}\n",
    "\\end{eqnarray*}\n",
    "$$"
   ]
  },
  {
   "cell_type": "code",
   "execution_count": 37,
   "metadata": {},
   "outputs": [
    {
     "name": "stdout",
     "output_type": "stream",
     "text": [
      "Bernoulli pmf(x):\n",
      " {1: 0.750000000000000, 0: 0.250000000000000}\n",
      "Bernoulli cdf(x): \n",
      " {0: 0.250000000000000, 1: 1.00000000000000}\n"
     ]
    }
   ],
   "source": [
    "from sympy.stats import Bernoulli, density, cdf\n",
    "from sympy import S\n",
    "\n",
    "X = Bernoulli('X', 3/4)\n",
    "print(\"Bernoulli pmf(x):\\n\", density(X).dict)\n",
    "print(\"Bernoulli cdf(x): \\n\", cdf(X))"
   ]
  },
  {
   "cell_type": "markdown",
   "metadata": {},
   "source": [
    "## Binomial Distribution\n",
    "\n",
    "$$\n",
    "\\begin{eqnarray*}\n",
    "P(X = k)  \\Leftrightarrow  f(k,n,p)  & = &\n",
    "\\begin{cases}\n",
    "               \\displaystyle \\binom{n}{k}p^k(1-p)^{n-k} \\ \\ \\ 0 \\leq k \\leq n\\\\\n",
    "               \\textrm{caso contrário}\n",
    "\\end{cases}\\\\\n",
    "P(X \\leq x) \\Leftrightarrow  F(k,n,p)  & = &\n",
    "               \\displaystyle \\sum_{i=0}^{k}\\binom{n}{i}p^k(1-p)^{n-k} \n",
    "\\end{eqnarray*}\n",
    "$$"
   ]
  },
  {
   "cell_type": "code",
   "execution_count": 38,
   "metadata": {},
   "outputs": [
    {
     "data": {
      "text/html": [
       "\n",
       "    <div class=\"bk-root\">\n",
       "        <a href=\"https://bokeh.pydata.org\" target=\"_blank\" class=\"bk-logo bk-logo-small bk-logo-notebook\"></a>\n",
       "        <span id=\"ea039a35-e6d0-4e04-aff1-b8af5a32a0e0\">Loading BokehJS ...</span>\n",
       "    </div>"
      ]
     },
     "metadata": {},
     "output_type": "display_data"
    },
    {
     "data": {
      "application/javascript": [
       "\n",
       "(function(root) {\n",
       "  function now() {\n",
       "    return new Date();\n",
       "  }\n",
       "\n",
       "  var force = true;\n",
       "\n",
       "  if (typeof (root._bokeh_onload_callbacks) === \"undefined\" || force === true) {\n",
       "    root._bokeh_onload_callbacks = [];\n",
       "    root._bokeh_is_loading = undefined;\n",
       "  }\n",
       "\n",
       "  var JS_MIME_TYPE = 'application/javascript';\n",
       "  var HTML_MIME_TYPE = 'text/html';\n",
       "  var EXEC_MIME_TYPE = 'application/vnd.bokehjs_exec.v0+json';\n",
       "  var CLASS_NAME = 'output_bokeh rendered_html';\n",
       "\n",
       "  /**\n",
       "   * Render data to the DOM node\n",
       "   */\n",
       "  function render(props, node) {\n",
       "    var script = document.createElement(\"script\");\n",
       "    node.appendChild(script);\n",
       "  }\n",
       "\n",
       "  /**\n",
       "   * Handle when an output is cleared or removed\n",
       "   */\n",
       "  function handleClearOutput(event, handle) {\n",
       "    var cell = handle.cell;\n",
       "\n",
       "    var id = cell.output_area._bokeh_element_id;\n",
       "    var server_id = cell.output_area._bokeh_server_id;\n",
       "    // Clean up Bokeh references\n",
       "    if (id !== undefined) {\n",
       "      Bokeh.index[id].model.document.clear();\n",
       "      delete Bokeh.index[id];\n",
       "    }\n",
       "\n",
       "    if (server_id !== undefined) {\n",
       "      // Clean up Bokeh references\n",
       "      var cmd = \"from bokeh.io.state import curstate; print(curstate().uuid_to_server['\" + server_id + \"'].get_sessions()[0].document.roots[0]._id)\";\n",
       "      cell.notebook.kernel.execute(cmd, {\n",
       "        iopub: {\n",
       "          output: function(msg) {\n",
       "            var element_id = msg.content.text.trim();\n",
       "            Bokeh.index[element_id].model.document.clear();\n",
       "            delete Bokeh.index[element_id];\n",
       "          }\n",
       "        }\n",
       "      });\n",
       "      // Destroy server and session\n",
       "      var cmd = \"import bokeh.io.notebook as ion; ion.destroy_server('\" + server_id + \"')\";\n",
       "      cell.notebook.kernel.execute(cmd);\n",
       "    }\n",
       "  }\n",
       "\n",
       "  /**\n",
       "   * Handle when a new output is added\n",
       "   */\n",
       "  function handleAddOutput(event, handle) {\n",
       "    var output_area = handle.output_area;\n",
       "    var output = handle.output;\n",
       "\n",
       "    // limit handleAddOutput to display_data with EXEC_MIME_TYPE content only\n",
       "    if ((output.output_type != \"display_data\") || (!output.data.hasOwnProperty(EXEC_MIME_TYPE))) {\n",
       "      return\n",
       "    }\n",
       "\n",
       "    var toinsert = output_area.element.find(\".\" + CLASS_NAME.split(' ')[0]);\n",
       "\n",
       "    if (output.metadata[EXEC_MIME_TYPE][\"id\"] !== undefined) {\n",
       "      toinsert[0].firstChild.textContent = output.data[JS_MIME_TYPE];\n",
       "      // store reference to embed id on output_area\n",
       "      output_area._bokeh_element_id = output.metadata[EXEC_MIME_TYPE][\"id\"];\n",
       "    }\n",
       "    if (output.metadata[EXEC_MIME_TYPE][\"server_id\"] !== undefined) {\n",
       "      var bk_div = document.createElement(\"div\");\n",
       "      bk_div.innerHTML = output.data[HTML_MIME_TYPE];\n",
       "      var script_attrs = bk_div.children[0].attributes;\n",
       "      for (var i = 0; i < script_attrs.length; i++) {\n",
       "        toinsert[0].firstChild.setAttribute(script_attrs[i].name, script_attrs[i].value);\n",
       "      }\n",
       "      // store reference to server id on output_area\n",
       "      output_area._bokeh_server_id = output.metadata[EXEC_MIME_TYPE][\"server_id\"];\n",
       "    }\n",
       "  }\n",
       "\n",
       "  function register_renderer(events, OutputArea) {\n",
       "\n",
       "    function append_mime(data, metadata, element) {\n",
       "      // create a DOM node to render to\n",
       "      var toinsert = this.create_output_subarea(\n",
       "        metadata,\n",
       "        CLASS_NAME,\n",
       "        EXEC_MIME_TYPE\n",
       "      );\n",
       "      this.keyboard_manager.register_events(toinsert);\n",
       "      // Render to node\n",
       "      var props = {data: data, metadata: metadata[EXEC_MIME_TYPE]};\n",
       "      render(props, toinsert[0]);\n",
       "      element.append(toinsert);\n",
       "      return toinsert\n",
       "    }\n",
       "\n",
       "    /* Handle when an output is cleared or removed */\n",
       "    events.on('clear_output.CodeCell', handleClearOutput);\n",
       "    events.on('delete.Cell', handleClearOutput);\n",
       "\n",
       "    /* Handle when a new output is added */\n",
       "    events.on('output_added.OutputArea', handleAddOutput);\n",
       "\n",
       "    /**\n",
       "     * Register the mime type and append_mime function with output_area\n",
       "     */\n",
       "    OutputArea.prototype.register_mime_type(EXEC_MIME_TYPE, append_mime, {\n",
       "      /* Is output safe? */\n",
       "      safe: true,\n",
       "      /* Index of renderer in `output_area.display_order` */\n",
       "      index: 0\n",
       "    });\n",
       "  }\n",
       "\n",
       "  // register the mime type if in Jupyter Notebook environment and previously unregistered\n",
       "  if (root.Jupyter !== undefined) {\n",
       "    var events = require('base/js/events');\n",
       "    var OutputArea = require('notebook/js/outputarea').OutputArea;\n",
       "\n",
       "    if (OutputArea.prototype.mime_types().indexOf(EXEC_MIME_TYPE) == -1) {\n",
       "      register_renderer(events, OutputArea);\n",
       "    }\n",
       "  }\n",
       "\n",
       "  \n",
       "  if (typeof (root._bokeh_timeout) === \"undefined\" || force === true) {\n",
       "    root._bokeh_timeout = Date.now() + 5000;\n",
       "    root._bokeh_failed_load = false;\n",
       "  }\n",
       "\n",
       "  var NB_LOAD_WARNING = {'data': {'text/html':\n",
       "     \"<div style='background-color: #fdd'>\\n\"+\n",
       "     \"<p>\\n\"+\n",
       "     \"BokehJS does not appear to have successfully loaded. If loading BokehJS from CDN, this \\n\"+\n",
       "     \"may be due to a slow or bad network connection. Possible fixes:\\n\"+\n",
       "     \"</p>\\n\"+\n",
       "     \"<ul>\\n\"+\n",
       "     \"<li>re-rerun `output_notebook()` to attempt to load from CDN again, or</li>\\n\"+\n",
       "     \"<li>use INLINE resources instead, as so:</li>\\n\"+\n",
       "     \"</ul>\\n\"+\n",
       "     \"<code>\\n\"+\n",
       "     \"from bokeh.resources import INLINE\\n\"+\n",
       "     \"output_notebook(resources=INLINE)\\n\"+\n",
       "     \"</code>\\n\"+\n",
       "     \"</div>\"}};\n",
       "\n",
       "  function display_loaded() {\n",
       "    var el = document.getElementById(\"ea039a35-e6d0-4e04-aff1-b8af5a32a0e0\");\n",
       "    if (el != null) {\n",
       "      el.textContent = \"BokehJS is loading...\";\n",
       "    }\n",
       "    if (root.Bokeh !== undefined) {\n",
       "      if (el != null) {\n",
       "        el.textContent = \"BokehJS \" + root.Bokeh.version + \" successfully loaded.\";\n",
       "      }\n",
       "    } else if (Date.now() < root._bokeh_timeout) {\n",
       "      setTimeout(display_loaded, 100)\n",
       "    }\n",
       "  }\n",
       "\n",
       "\n",
       "  function run_callbacks() {\n",
       "    try {\n",
       "      root._bokeh_onload_callbacks.forEach(function(callback) { callback() });\n",
       "    }\n",
       "    finally {\n",
       "      delete root._bokeh_onload_callbacks\n",
       "    }\n",
       "    console.info(\"Bokeh: all callbacks have finished\");\n",
       "  }\n",
       "\n",
       "  function load_libs(js_urls, callback) {\n",
       "    root._bokeh_onload_callbacks.push(callback);\n",
       "    if (root._bokeh_is_loading > 0) {\n",
       "      console.log(\"Bokeh: BokehJS is being loaded, scheduling callback at\", now());\n",
       "      return null;\n",
       "    }\n",
       "    if (js_urls == null || js_urls.length === 0) {\n",
       "      run_callbacks();\n",
       "      return null;\n",
       "    }\n",
       "    console.log(\"Bokeh: BokehJS not loaded, scheduling load and callback at\", now());\n",
       "    root._bokeh_is_loading = js_urls.length;\n",
       "    for (var i = 0; i < js_urls.length; i++) {\n",
       "      var url = js_urls[i];\n",
       "      var s = document.createElement('script');\n",
       "      s.src = url;\n",
       "      s.async = false;\n",
       "      s.onreadystatechange = s.onload = function() {\n",
       "        root._bokeh_is_loading--;\n",
       "        if (root._bokeh_is_loading === 0) {\n",
       "          console.log(\"Bokeh: all BokehJS libraries loaded\");\n",
       "          run_callbacks()\n",
       "        }\n",
       "      };\n",
       "      s.onerror = function() {\n",
       "        console.warn(\"failed to load library \" + url);\n",
       "      };\n",
       "      console.log(\"Bokeh: injecting script tag for BokehJS library: \", url);\n",
       "      document.getElementsByTagName(\"head\")[0].appendChild(s);\n",
       "    }\n",
       "  };var element = document.getElementById(\"ea039a35-e6d0-4e04-aff1-b8af5a32a0e0\");\n",
       "  if (element == null) {\n",
       "    console.log(\"Bokeh: ERROR: autoload.js configured with elementid 'ea039a35-e6d0-4e04-aff1-b8af5a32a0e0' but no matching script tag was found. \")\n",
       "    return false;\n",
       "  }\n",
       "\n",
       "  var js_urls = [\"https://cdn.pydata.org/bokeh/release/bokeh-0.12.13.min.js\", \"https://cdn.pydata.org/bokeh/release/bokeh-widgets-0.12.13.min.js\", \"https://cdn.pydata.org/bokeh/release/bokeh-tables-0.12.13.min.js\", \"https://cdn.pydata.org/bokeh/release/bokeh-gl-0.12.13.min.js\"];\n",
       "\n",
       "  var inline_js = [\n",
       "    function(Bokeh) {\n",
       "      Bokeh.set_log_level(\"info\");\n",
       "    },\n",
       "    \n",
       "    function(Bokeh) {\n",
       "      \n",
       "    },\n",
       "    function(Bokeh) {\n",
       "      console.log(\"Bokeh: injecting CSS: https://cdn.pydata.org/bokeh/release/bokeh-0.12.13.min.css\");\n",
       "      Bokeh.embed.inject_css(\"https://cdn.pydata.org/bokeh/release/bokeh-0.12.13.min.css\");\n",
       "      console.log(\"Bokeh: injecting CSS: https://cdn.pydata.org/bokeh/release/bokeh-widgets-0.12.13.min.css\");\n",
       "      Bokeh.embed.inject_css(\"https://cdn.pydata.org/bokeh/release/bokeh-widgets-0.12.13.min.css\");\n",
       "      console.log(\"Bokeh: injecting CSS: https://cdn.pydata.org/bokeh/release/bokeh-tables-0.12.13.min.css\");\n",
       "      Bokeh.embed.inject_css(\"https://cdn.pydata.org/bokeh/release/bokeh-tables-0.12.13.min.css\");\n",
       "    }\n",
       "  ];\n",
       "\n",
       "  function run_inline_js() {\n",
       "    \n",
       "    if ((root.Bokeh !== undefined) || (force === true)) {\n",
       "      for (var i = 0; i < inline_js.length; i++) {\n",
       "        inline_js[i].call(root, root.Bokeh);\n",
       "      }if (force === true) {\n",
       "        display_loaded();\n",
       "      }} else if (Date.now() < root._bokeh_timeout) {\n",
       "      setTimeout(run_inline_js, 100);\n",
       "    } else if (!root._bokeh_failed_load) {\n",
       "      console.log(\"Bokeh: BokehJS failed to load within specified timeout.\");\n",
       "      root._bokeh_failed_load = true;\n",
       "    } else if (force !== true) {\n",
       "      var cell = $(document.getElementById(\"ea039a35-e6d0-4e04-aff1-b8af5a32a0e0\")).parents('.cell').data().cell;\n",
       "      cell.output_area.append_execute_result(NB_LOAD_WARNING)\n",
       "    }\n",
       "\n",
       "  }\n",
       "\n",
       "  if (root._bokeh_is_loading === 0) {\n",
       "    console.log(\"Bokeh: BokehJS loaded, going straight to plotting\");\n",
       "    run_inline_js();\n",
       "  } else {\n",
       "    load_libs(js_urls, function() {\n",
       "      console.log(\"Bokeh: BokehJS plotting callback run at\", now());\n",
       "      run_inline_js();\n",
       "    });\n",
       "  }\n",
       "}(window));"
      ],
      "application/vnd.bokehjs_load.v0+json": "\n(function(root) {\n  function now() {\n    return new Date();\n  }\n\n  var force = true;\n\n  if (typeof (root._bokeh_onload_callbacks) === \"undefined\" || force === true) {\n    root._bokeh_onload_callbacks = [];\n    root._bokeh_is_loading = undefined;\n  }\n\n  \n\n  \n  if (typeof (root._bokeh_timeout) === \"undefined\" || force === true) {\n    root._bokeh_timeout = Date.now() + 5000;\n    root._bokeh_failed_load = false;\n  }\n\n  var NB_LOAD_WARNING = {'data': {'text/html':\n     \"<div style='background-color: #fdd'>\\n\"+\n     \"<p>\\n\"+\n     \"BokehJS does not appear to have successfully loaded. If loading BokehJS from CDN, this \\n\"+\n     \"may be due to a slow or bad network connection. Possible fixes:\\n\"+\n     \"</p>\\n\"+\n     \"<ul>\\n\"+\n     \"<li>re-rerun `output_notebook()` to attempt to load from CDN again, or</li>\\n\"+\n     \"<li>use INLINE resources instead, as so:</li>\\n\"+\n     \"</ul>\\n\"+\n     \"<code>\\n\"+\n     \"from bokeh.resources import INLINE\\n\"+\n     \"output_notebook(resources=INLINE)\\n\"+\n     \"</code>\\n\"+\n     \"</div>\"}};\n\n  function display_loaded() {\n    var el = document.getElementById(\"ea039a35-e6d0-4e04-aff1-b8af5a32a0e0\");\n    if (el != null) {\n      el.textContent = \"BokehJS is loading...\";\n    }\n    if (root.Bokeh !== undefined) {\n      if (el != null) {\n        el.textContent = \"BokehJS \" + root.Bokeh.version + \" successfully loaded.\";\n      }\n    } else if (Date.now() < root._bokeh_timeout) {\n      setTimeout(display_loaded, 100)\n    }\n  }\n\n\n  function run_callbacks() {\n    try {\n      root._bokeh_onload_callbacks.forEach(function(callback) { callback() });\n    }\n    finally {\n      delete root._bokeh_onload_callbacks\n    }\n    console.info(\"Bokeh: all callbacks have finished\");\n  }\n\n  function load_libs(js_urls, callback) {\n    root._bokeh_onload_callbacks.push(callback);\n    if (root._bokeh_is_loading > 0) {\n      console.log(\"Bokeh: BokehJS is being loaded, scheduling callback at\", now());\n      return null;\n    }\n    if (js_urls == null || js_urls.length === 0) {\n      run_callbacks();\n      return null;\n    }\n    console.log(\"Bokeh: BokehJS not loaded, scheduling load and callback at\", now());\n    root._bokeh_is_loading = js_urls.length;\n    for (var i = 0; i < js_urls.length; i++) {\n      var url = js_urls[i];\n      var s = document.createElement('script');\n      s.src = url;\n      s.async = false;\n      s.onreadystatechange = s.onload = function() {\n        root._bokeh_is_loading--;\n        if (root._bokeh_is_loading === 0) {\n          console.log(\"Bokeh: all BokehJS libraries loaded\");\n          run_callbacks()\n        }\n      };\n      s.onerror = function() {\n        console.warn(\"failed to load library \" + url);\n      };\n      console.log(\"Bokeh: injecting script tag for BokehJS library: \", url);\n      document.getElementsByTagName(\"head\")[0].appendChild(s);\n    }\n  };var element = document.getElementById(\"ea039a35-e6d0-4e04-aff1-b8af5a32a0e0\");\n  if (element == null) {\n    console.log(\"Bokeh: ERROR: autoload.js configured with elementid 'ea039a35-e6d0-4e04-aff1-b8af5a32a0e0' but no matching script tag was found. \")\n    return false;\n  }\n\n  var js_urls = [\"https://cdn.pydata.org/bokeh/release/bokeh-0.12.13.min.js\", \"https://cdn.pydata.org/bokeh/release/bokeh-widgets-0.12.13.min.js\", \"https://cdn.pydata.org/bokeh/release/bokeh-tables-0.12.13.min.js\", \"https://cdn.pydata.org/bokeh/release/bokeh-gl-0.12.13.min.js\"];\n\n  var inline_js = [\n    function(Bokeh) {\n      Bokeh.set_log_level(\"info\");\n    },\n    \n    function(Bokeh) {\n      \n    },\n    function(Bokeh) {\n      console.log(\"Bokeh: injecting CSS: https://cdn.pydata.org/bokeh/release/bokeh-0.12.13.min.css\");\n      Bokeh.embed.inject_css(\"https://cdn.pydata.org/bokeh/release/bokeh-0.12.13.min.css\");\n      console.log(\"Bokeh: injecting CSS: https://cdn.pydata.org/bokeh/release/bokeh-widgets-0.12.13.min.css\");\n      Bokeh.embed.inject_css(\"https://cdn.pydata.org/bokeh/release/bokeh-widgets-0.12.13.min.css\");\n      console.log(\"Bokeh: injecting CSS: https://cdn.pydata.org/bokeh/release/bokeh-tables-0.12.13.min.css\");\n      Bokeh.embed.inject_css(\"https://cdn.pydata.org/bokeh/release/bokeh-tables-0.12.13.min.css\");\n    }\n  ];\n\n  function run_inline_js() {\n    \n    if ((root.Bokeh !== undefined) || (force === true)) {\n      for (var i = 0; i < inline_js.length; i++) {\n        inline_js[i].call(root, root.Bokeh);\n      }if (force === true) {\n        display_loaded();\n      }} else if (Date.now() < root._bokeh_timeout) {\n      setTimeout(run_inline_js, 100);\n    } else if (!root._bokeh_failed_load) {\n      console.log(\"Bokeh: BokehJS failed to load within specified timeout.\");\n      root._bokeh_failed_load = true;\n    } else if (force !== true) {\n      var cell = $(document.getElementById(\"ea039a35-e6d0-4e04-aff1-b8af5a32a0e0\")).parents('.cell').data().cell;\n      cell.output_area.append_execute_result(NB_LOAD_WARNING)\n    }\n\n  }\n\n  if (root._bokeh_is_loading === 0) {\n    console.log(\"Bokeh: BokehJS loaded, going straight to plotting\");\n    run_inline_js();\n  } else {\n    load_libs(js_urls, function() {\n      console.log(\"Bokeh: BokehJS plotting callback run at\", now());\n      run_inline_js();\n    });\n  }\n}(window));"
     },
     "metadata": {},
     "output_type": "display_data"
    }
   ],
   "source": [
    "import numpy as np\n",
    "from scipy.stats import binom, geom\n",
    "from bokeh.plotting import Figure\n",
    "\n",
    "from bokeh.io import show,output_notebook\n",
    "from bokeh.models import HoverTool\n",
    "from bokeh.layouts import row\n",
    "\n",
    "import random\n",
    "output_notebook()"
   ]
  },
  {
   "cell_type": "code",
   "execution_count": 39,
   "metadata": {
    "scrolled": true
   },
   "outputs": [
    {
     "data": {
      "text/html": [
       "\n",
       "<div class=\"bk-root\">\n",
       "    <div class=\"bk-plotdiv\" id=\"a68d89d3-3990-4aa2-96e5-15faec110291\"></div>\n",
       "</div>"
      ]
     },
     "metadata": {},
     "output_type": "display_data"
    },
    {
     "data": {
      "application/javascript": [
       "(function(root) {\n",
       "  function embed_document(root) {\n",
       "    \n",
       "  var docs_json = {\"19c3e0ce-5d47-4ed3-8846-17bf13a6fbbd\":{\"roots\":{\"references\":[{\"attributes\":{\"source\":{\"id\":\"2fb4ef7f-60aa-4805-9a6d-f69296b01e36\",\"type\":\"ColumnDataSource\"}},\"id\":\"664ea731-a1e6-46c3-8af6-07a1594340f9\",\"type\":\"CDSView\"},{\"attributes\":{\"fill_alpha\":{\"value\":0.1},\"fill_color\":{\"value\":\"#1f77b4\"},\"line_alpha\":{\"value\":0.1},\"line_color\":{\"value\":\"#1f77b4\"},\"size\":{\"units\":\"screen\",\"value\":7},\"x\":{\"field\":\"x\"},\"y\":{\"field\":\"y\"}},\"id\":\"9dbcf14e-90b3-4b4c-a20d-a57208f3fd05\",\"type\":\"Circle\"},{\"attributes\":{\"fill_alpha\":{\"value\":0.1},\"fill_color\":{\"value\":\"#1f77b4\"},\"line_alpha\":{\"value\":0.1},\"line_color\":{\"value\":\"#1f77b4\"},\"size\":{\"units\":\"screen\",\"value\":7},\"x\":{\"field\":\"x\"},\"y\":{\"field\":\"y\"}},\"id\":\"6717c7e8-8acc-4ef7-a707-827621ecdbc7\",\"type\":\"Circle\"},{\"attributes\":{\"fill_color\":{\"value\":\"red\"},\"line_color\":{\"value\":\"red\"},\"size\":{\"units\":\"screen\",\"value\":7},\"x\":{\"field\":\"x\"},\"y\":{\"field\":\"y\"}},\"id\":\"4a608792-854d-4fb0-976e-af6cf1d763e2\",\"type\":\"Circle\"},{\"attributes\":{},\"id\":\"ba338fdd-82c5-4e52-92fa-07c5f16e0a40\",\"type\":\"PanTool\"},{\"attributes\":{\"fill_color\":{\"value\":\"red\"},\"line_color\":{\"value\":\"red\"},\"size\":{\"units\":\"screen\",\"value\":7},\"x\":{\"field\":\"x\"},\"y\":{\"field\":\"y\"}},\"id\":\"79acf7c9-b555-4193-a32d-d6cf0e57c09a\",\"type\":\"Circle\"},{\"attributes\":{\"data_source\":{\"id\":\"01b2884a-796c-44eb-bbf1-a288cc8c52a9\",\"type\":\"ColumnDataSource\"},\"glyph\":{\"id\":\"de44fc3d-adcc-469f-819f-fae6a0a5dab9\",\"type\":\"Segment\"},\"hover_glyph\":null,\"muted_glyph\":null,\"nonselection_glyph\":{\"id\":\"75fcd34a-dfe2-41c5-bc93-333246e88d52\",\"type\":\"Segment\"},\"selection_glyph\":null,\"view\":{\"id\":\"bbbeba5c-ae6d-440f-bb4e-fa1682e5a2b7\",\"type\":\"CDSView\"}},\"id\":\"f99ca22f-bc85-4e7f-aa61-893457695671\",\"type\":\"GlyphRenderer\"},{\"attributes\":{\"axis_label\":\"k\",\"formatter\":{\"id\":\"dfad5cb1-e387-4a7c-a795-03b9d505bac5\",\"type\":\"BasicTickFormatter\"},\"plot\":{\"id\":\"4982174a-264d-437d-8e88-c01c0c38c81c\",\"subtype\":\"Figure\",\"type\":\"Plot\"},\"ticker\":{\"id\":\"ecd888e8-3cd9-460f-b1c3-52b09b226820\",\"type\":\"BasicTicker\"}},\"id\":\"99d54afd-4b96-42bf-8f25-cae06e4da187\",\"type\":\"LinearAxis\"},{\"attributes\":{\"line_color\":{\"value\":\"dodgerblue\"},\"line_width\":{\"value\":3},\"x0\":{\"field\":\"x0\"},\"x1\":{\"field\":\"x1\"},\"y0\":{\"value\":0},\"y1\":{\"field\":\"y1\"}},\"id\":\"47e0bddb-0e6d-4fd4-b87b-8a3161b7b374\",\"type\":\"Segment\"},{\"attributes\":{\"callback\":null,\"column_names\":[\"x\",\"y\"],\"data\":{\"x\":[0,1,2,3,4,5,6,7,8,9,10,11,12,13,14,15,16,17,18,19,20],\"y\":{\"__ndarray__\":\"NWBteTYrwz2i7IrPs40cPi5VCl+xQWQ+YeNsXrY1oj4B9PzyiUfXPgu9eutPgwY/QnOoW6QbMT+sZ9eEAvRUPzgeFLzAC3U/ygN5J2mOkT+XBfw4do6oPxMaqm5KA70/a6E7nzImzT+uyzwDXhbZPzR4EBUXreI/bpolFlZm6D+6WJqxvpLsP239ZnpS3e4/ej1hgW/B7z+9P4iidvnvPwAAAAAAAPA/\",\"dtype\":\"float64\",\"shape\":[21]}}},\"id\":\"bc643e82-75c9-44dc-9ff2-f0abb7367f64\",\"type\":\"ColumnDataSource\"},{\"attributes\":{\"source\":{\"id\":\"3c67f8f1-c83c-4d93-943f-39078ea4b91f\",\"type\":\"ColumnDataSource\"}},\"id\":\"f8f14302-04b5-4f47-a111-f1e2aa769371\",\"type\":\"CDSView\"},{\"attributes\":{\"fill_color\":{\"value\":\"dodgerblue\"},\"line_color\":{\"value\":\"dodgerblue\"},\"size\":{\"units\":\"screen\",\"value\":7},\"x\":{\"field\":\"x\"},\"y\":{\"field\":\"y\"}},\"id\":\"f4483bf9-02d3-43af-a07e-62e8f6d77aae\",\"type\":\"Circle\"},{\"attributes\":{\"callback\":null,\"column_names\":[\"x\",\"y\"],\"data\":{\"x\":[0,1,2,3,4,5,6,7,8,9,10,11,12,13,14,15,16,17,18,19,20],\"y\":{\"__ndarray__\":\"L2BteTYrwz2bgb8bWvQbPsr9jcBDXWM+AT58SJvxoD6FVy8n0wDVPnMeG61emgM/ETdyvHSWLD/eSu1tGa1QP4uIvDWAnW8/avjn8PGWiD9TB39Kg46fPz4XLFIPvLA/vCjNzxpJvT/q9T1niQbFP2pJyE2gh8g/wohUBPzkxj8Y+dJtorHAP50lZUaeVLI/oQFI36CDnD8LIYGTkAN8P8kNAd91JUo/\",\"dtype\":\"float64\",\"shape\":[21]}}},\"id\":\"3c67f8f1-c83c-4d93-943f-39078ea4b91f\",\"type\":\"ColumnDataSource\"},{\"attributes\":{},\"id\":\"fa822125-a12c-46b9-9403-a0ea4965ebcf\",\"type\":\"WheelZoomTool\"},{\"attributes\":{},\"id\":\"bb45da17-9834-4f3f-b8d9-75ed351e130a\",\"type\":\"BasicTickFormatter\"},{\"attributes\":{\"axis_label\":\"F(k,n,p)\",\"formatter\":{\"id\":\"bb45da17-9834-4f3f-b8d9-75ed351e130a\",\"type\":\"BasicTickFormatter\"},\"plot\":{\"id\":\"a47971f3-68df-4fdd-960b-fe9b80c0fd8a\",\"subtype\":\"Figure\",\"type\":\"Plot\"},\"ticker\":{\"id\":\"96a1bfaa-6e52-41a3-abb5-61c4ef771616\",\"type\":\"BasicTicker\"}},\"id\":\"a10c7316-0181-4a43-b42a-4cbf36c5243f\",\"type\":\"LinearAxis\"},{\"attributes\":{},\"id\":\"a63253a6-104b-4f1f-98ac-0c50c292363b\",\"type\":\"BasicTickFormatter\"},{\"attributes\":{\"source\":{\"id\":\"9fbf056d-6319-4c70-840e-990be90716c3\",\"type\":\"ColumnDataSource\"}},\"id\":\"01f0e17b-c5b1-4c24-9ecb-fcff692b9de6\",\"type\":\"CDSView\"},{\"attributes\":{\"line_alpha\":{\"value\":0.1},\"line_color\":{\"value\":\"#1f77b4\"},\"line_width\":{\"value\":3},\"x0\":{\"field\":\"x0\"},\"x1\":{\"field\":\"x1\"},\"y0\":{\"value\":0},\"y1\":{\"field\":\"y1\"}},\"id\":\"75fcd34a-dfe2-41c5-bc93-333246e88d52\",\"type\":\"Segment\"},{\"attributes\":{\"data_source\":{\"id\":\"3c67f8f1-c83c-4d93-943f-39078ea4b91f\",\"type\":\"ColumnDataSource\"},\"glyph\":{\"id\":\"4a608792-854d-4fb0-976e-af6cf1d763e2\",\"type\":\"Circle\"},\"hover_glyph\":null,\"muted_glyph\":null,\"nonselection_glyph\":{\"id\":\"fd79029e-e501-4c08-9c01-e3fbd7dcf6e1\",\"type\":\"Circle\"},\"selection_glyph\":null,\"view\":{\"id\":\"f8f14302-04b5-4f47-a111-f1e2aa769371\",\"type\":\"CDSView\"}},\"id\":\"39dccede-d0ee-408d-b0c2-63cef30f6681\",\"type\":\"GlyphRenderer\"},{\"attributes\":{},\"id\":\"96a1bfaa-6e52-41a3-abb5-61c4ef771616\",\"type\":\"BasicTicker\"},{\"attributes\":{\"callback\":null,\"column_names\":[\"x\",\"y\"],\"data\":{\"x\":[0,1,2,3,4,5,6,7,8,9,10,11,12,13,14,15,16,17,18,19,20],\"y\":{\"__ndarray__\":\"AAAAAAAAsD7////////0PgIAAAAAYCo///////8bVT///////zN4PwAAAAAAMZU//f///3+FrT//////39fAPwEAAAA4HNA/+////5dc2j8CAAAAtNHiPwAAAADk8ec/AAAAAAjK6z8AAAAAqCfuPwAAAAB4Vu8/AAAAAJjP7z8AAAAAcvXvPwAAAABa/u8/AAAAANb/7z8AAAAA/v/vPwAAAAAAAPA/\",\"dtype\":\"float64\",\"shape\":[21]}}},\"id\":\"9fbf056d-6319-4c70-840e-990be90716c3\",\"type\":\"ColumnDataSource\"},{\"attributes\":{\"fill_alpha\":{\"value\":0.1},\"fill_color\":{\"value\":\"#1f77b4\"},\"line_alpha\":{\"value\":0.1},\"line_color\":{\"value\":\"#1f77b4\"},\"size\":{\"units\":\"screen\",\"value\":7},\"x\":{\"field\":\"x\"},\"y\":{\"field\":\"y\"}},\"id\":\"fd79029e-e501-4c08-9c01-e3fbd7dcf6e1\",\"type\":\"Circle\"},{\"attributes\":{\"callback\":null,\"column_names\":[\"x0\",\"x1\",\"y1\"],\"data\":{\"x0\":[0,1,2,3,4,5,6,7,8,9,10,11,12,13,14,15,16,17,18,19,20],\"x1\":[0,1,2,3,4,5,6,7,8,9,10,11,12,13,14,15,16,17,18,19,20],\"y1\":{\"__ndarray__\":\"AAAAAAAAsD79///////zPvr/////vyc/+f/////PUT/0/////+xyP9f/////R44/8P/////soj8NAAAAAO2yPwAAAAAgwb4/9f///7+AxD/5////n43GP/X///+/gMQ/AAAAACDBvj8NAAAAAO2yP/D/////7KI/1/////9Hjj/0/////+xyP/n/////z1E/+v////+/Jz/9///////zPgAAAAAAALA+\",\"dtype\":\"float64\",\"shape\":[21]}}},\"id\":\"043d5605-99df-4a79-b41d-8e0414eb9ed4\",\"type\":\"ColumnDataSource\"},{\"attributes\":{\"source\":{\"id\":\"bc643e82-75c9-44dc-9ff2-f0abb7367f64\",\"type\":\"ColumnDataSource\"}},\"id\":\"98d9f228-ebb7-4989-a82d-bcb2febc45a0\",\"type\":\"CDSView\"},{\"attributes\":{},\"id\":\"ecd888e8-3cd9-460f-b1c3-52b09b226820\",\"type\":\"BasicTicker\"},{\"attributes\":{\"plot\":{\"id\":\"4982174a-264d-437d-8e88-c01c0c38c81c\",\"subtype\":\"Figure\",\"type\":\"Plot\"},\"ticker\":{\"id\":\"ecd888e8-3cd9-460f-b1c3-52b09b226820\",\"type\":\"BasicTicker\"}},\"id\":\"cfbd5b3a-006d-46e4-ab36-2e6f5c59fddd\",\"type\":\"Grid\"},{\"attributes\":{},\"id\":\"997e389e-df9b-4093-944a-7389a6d0b687\",\"type\":\"SaveTool\"},{\"attributes\":{},\"id\":\"739c8304-7281-4cf3-a978-3a2350ae9c35\",\"type\":\"LinearScale\"},{\"attributes\":{\"label\":{\"value\":\"n=20,p=0.50\"},\"renderers\":[{\"id\":\"fdada09d-b283-45d0-b282-3cb31e6e2e7a\",\"type\":\"GlyphRenderer\"},{\"id\":\"b3a88950-d755-475d-982d-d986eff0cdb9\",\"type\":\"GlyphRenderer\"}]},\"id\":\"f3210858-5be1-4084-93b2-d16ab4508c2c\",\"type\":\"LegendItem\"},{\"attributes\":{},\"id\":\"5cd4e996-6c56-43d8-9ac2-0fc302fb0b79\",\"type\":\"PanTool\"},{\"attributes\":{\"fill_color\":{\"value\":\"dodgerblue\"},\"line_color\":{\"value\":\"dodgerblue\"},\"size\":{\"units\":\"screen\",\"value\":7},\"x\":{\"field\":\"x\"},\"y\":{\"field\":\"y\"}},\"id\":\"b483d9c9-3265-40fd-abe1-513eacc9bca5\",\"type\":\"Circle\"},{\"attributes\":{\"data_source\":{\"id\":\"043d5605-99df-4a79-b41d-8e0414eb9ed4\",\"type\":\"ColumnDataSource\"},\"glyph\":{\"id\":\"47e0bddb-0e6d-4fd4-b87b-8a3161b7b374\",\"type\":\"Segment\"},\"hover_glyph\":null,\"muted_glyph\":null,\"nonselection_glyph\":{\"id\":\"a39d3ab8-99a6-41f1-91b6-832e9a67780d\",\"type\":\"Segment\"},\"selection_glyph\":null,\"view\":{\"id\":\"b884b449-33b0-4114-a8a1-b62d747336a9\",\"type\":\"CDSView\"}},\"id\":\"b3a88950-d755-475d-982d-d986eff0cdb9\",\"type\":\"GlyphRenderer\"},{\"attributes\":{\"callback\":null,\"column_names\":[\"x0\",\"x1\",\"y1\"],\"data\":{\"x0\":[0,1,2,3,4,5,6,7,8,9,10,11,12,13,14,15,16,17,18,19,20],\"x1\":[0,1,2,3,4,5,6,7,8,9,10,11,12,13,14,15,16,17,18,19,20],\"y1\":{\"__ndarray__\":\"L2BteTYrwz2bgb8bWvQbPsr9jcBDXWM+AT58SJvxoD6FVy8n0wDVPnMeG61emgM/ETdyvHSWLD/eSu1tGa1QP4uIvDWAnW8/avjn8PGWiD9TB39Kg46fPz4XLFIPvLA/vCjNzxpJvT/q9T1niQbFP2pJyE2gh8g/wohUBPzkxj8Y+dJtorHAP50lZUaeVLI/oQFI36CDnD8LIYGTkAN8P8kNAd91JUo/\",\"dtype\":\"float64\",\"shape\":[21]}}},\"id\":\"01b2884a-796c-44eb-bbf1-a288cc8c52a9\",\"type\":\"ColumnDataSource\"},{\"attributes\":{\"plot\":null,\"text\":\"\"},\"id\":\"1849de7a-a79e-4ed9-b527-c7011457f152\",\"type\":\"Title\"},{\"attributes\":{\"callback\":null},\"id\":\"e154dad7-3458-46ee-b32b-32fc9bb2a088\",\"type\":\"DataRange1d\"},{\"attributes\":{\"line_alpha\":{\"value\":0.1},\"line_color\":{\"value\":\"#1f77b4\"},\"line_width\":{\"value\":3},\"x0\":{\"field\":\"x0\"},\"x1\":{\"field\":\"x1\"},\"y0\":{\"value\":0},\"y1\":{\"field\":\"y1\"}},\"id\":\"a39d3ab8-99a6-41f1-91b6-832e9a67780d\",\"type\":\"Segment\"},{\"attributes\":{},\"id\":\"d9d6afaf-7730-4081-b84f-6903932bc817\",\"type\":\"LinearScale\"},{\"attributes\":{\"line_color\":{\"value\":\"red\"},\"line_width\":{\"value\":3},\"x0\":{\"field\":\"x0\"},\"x1\":{\"field\":\"x1\"},\"y0\":{\"value\":0},\"y1\":{\"field\":\"y1\"}},\"id\":\"de44fc3d-adcc-469f-819f-fae6a0a5dab9\",\"type\":\"Segment\"},{\"attributes\":{},\"id\":\"192daa17-1c79-4ad8-b5e3-afc9d2c37b4d\",\"type\":\"BasicTicker\"},{\"attributes\":{},\"id\":\"6d1cd50a-3f69-4b17-8053-42d49e1e88ff\",\"type\":\"ResetTool\"},{\"attributes\":{},\"id\":\"5a00d3da-2916-43b4-a5a0-f332260175f4\",\"type\":\"BasicTicker\"},{\"attributes\":{\"callback\":null,\"tooltips\":[[\"\",\"$y\"]]},\"id\":\"66975c65-182f-4c73-b675-489380d60c43\",\"type\":\"HoverTool\"},{\"attributes\":{\"dimension\":1,\"plot\":{\"id\":\"4982174a-264d-437d-8e88-c01c0c38c81c\",\"subtype\":\"Figure\",\"type\":\"Plot\"},\"ticker\":{\"id\":\"192daa17-1c79-4ad8-b5e3-afc9d2c37b4d\",\"type\":\"BasicTicker\"}},\"id\":\"acdcdc1b-9f2d-43ec-97fd-b8e664618fca\",\"type\":\"Grid\"},{\"attributes\":{\"source\":{\"id\":\"01b2884a-796c-44eb-bbf1-a288cc8c52a9\",\"type\":\"ColumnDataSource\"}},\"id\":\"bbbeba5c-ae6d-440f-bb4e-fa1682e5a2b7\",\"type\":\"CDSView\"},{\"attributes\":{},\"id\":\"dfad5cb1-e387-4a7c-a795-03b9d505bac5\",\"type\":\"BasicTickFormatter\"},{\"attributes\":{\"click_policy\":\"hide\",\"items\":[{\"id\":\"f3210858-5be1-4084-93b2-d16ab4508c2c\",\"type\":\"LegendItem\"},{\"id\":\"854fbe12-5f32-4958-9bce-1f8d4e6ba181\",\"type\":\"LegendItem\"}],\"location\":\"top_left\",\"plot\":{\"id\":\"4982174a-264d-437d-8e88-c01c0c38c81c\",\"subtype\":\"Figure\",\"type\":\"Plot\"}},\"id\":\"1654ce03-0a5c-43a5-8b85-fb0d8698bea4\",\"type\":\"Legend\"},{\"attributes\":{\"data_source\":{\"id\":\"bc643e82-75c9-44dc-9ff2-f0abb7367f64\",\"type\":\"ColumnDataSource\"},\"glyph\":{\"id\":\"79acf7c9-b555-4193-a32d-d6cf0e57c09a\",\"type\":\"Circle\"},\"hover_glyph\":null,\"muted_glyph\":null,\"nonselection_glyph\":{\"id\":\"25206161-a364-42e2-b77d-618afd809633\",\"type\":\"Circle\"},\"selection_glyph\":null,\"view\":{\"id\":\"98d9f228-ebb7-4989-a82d-bcb2febc45a0\",\"type\":\"CDSView\"}},\"id\":\"bd5b42c5-cd9a-41f9-8276-6381eeca8ecf\",\"type\":\"GlyphRenderer\"},{\"attributes\":{\"callback\":null,\"column_names\":[\"x\",\"y\"],\"data\":{\"x\":[0,1,2,3,4,5,6,7,8,9,10,11,12,13,14,15,16,17,18,19,20],\"y\":{\"__ndarray__\":\"AAAAAAAAsD79///////zPvr/////vyc/+f/////PUT/0/////+xyP9f/////R44/8P/////soj8NAAAAAO2yPwAAAAAgwb4/9f///7+AxD/5////n43GP/X///+/gMQ/AAAAACDBvj8NAAAAAO2yP/D/////7KI/1/////9Hjj/0/////+xyP/n/////z1E/+v////+/Jz/9///////zPgAAAAAAALA+\",\"dtype\":\"float64\",\"shape\":[21]}}},\"id\":\"2fb4ef7f-60aa-4805-9a6d-f69296b01e36\",\"type\":\"ColumnDataSource\"},{\"attributes\":{},\"id\":\"69d020a0-45b8-44d0-a2f0-c81fd3417128\",\"type\":\"BasicTickFormatter\"},{\"attributes\":{\"axis_label\":\"k\",\"formatter\":{\"id\":\"69d020a0-45b8-44d0-a2f0-c81fd3417128\",\"type\":\"BasicTickFormatter\"},\"plot\":{\"id\":\"a47971f3-68df-4fdd-960b-fe9b80c0fd8a\",\"subtype\":\"Figure\",\"type\":\"Plot\"},\"ticker\":{\"id\":\"5a00d3da-2916-43b4-a5a0-f332260175f4\",\"type\":\"BasicTicker\"}},\"id\":\"3813b784-6b25-413d-9010-8827f4807be0\",\"type\":\"LinearAxis\"},{\"attributes\":{\"data_source\":{\"id\":\"9fbf056d-6319-4c70-840e-990be90716c3\",\"type\":\"ColumnDataSource\"},\"glyph\":{\"id\":\"f4483bf9-02d3-43af-a07e-62e8f6d77aae\",\"type\":\"Circle\"},\"hover_glyph\":null,\"muted_glyph\":null,\"nonselection_glyph\":{\"id\":\"6717c7e8-8acc-4ef7-a707-827621ecdbc7\",\"type\":\"Circle\"},\"selection_glyph\":null,\"view\":{\"id\":\"01f0e17b-c5b1-4c24-9ecb-fcff692b9de6\",\"type\":\"CDSView\"}},\"id\":\"aaa0ee99-7ee5-44f5-9b76-1280005a27b5\",\"type\":\"GlyphRenderer\"},{\"attributes\":{\"active_drag\":\"auto\",\"active_inspect\":\"auto\",\"active_scroll\":\"auto\",\"active_tap\":\"auto\",\"tools\":[{\"id\":\"66975c65-182f-4c73-b675-489380d60c43\",\"type\":\"HoverTool\"},{\"id\":\"5cd4e996-6c56-43d8-9ac2-0fc302fb0b79\",\"type\":\"PanTool\"},{\"id\":\"fa822125-a12c-46b9-9403-a0ea4965ebcf\",\"type\":\"WheelZoomTool\"},{\"id\":\"6d1cd50a-3f69-4b17-8053-42d49e1e88ff\",\"type\":\"ResetTool\"},{\"id\":\"997e389e-df9b-4093-944a-7389a6d0b687\",\"type\":\"SaveTool\"}]},\"id\":\"3ed05d5d-19fe-4238-af9b-84c0bbab0dbd\",\"type\":\"Toolbar\"},{\"attributes\":{\"label\":{\"value\":\"n=20,p=0.70\"},\"renderers\":[{\"id\":\"39dccede-d0ee-408d-b0c2-63cef30f6681\",\"type\":\"GlyphRenderer\"},{\"id\":\"f99ca22f-bc85-4e7f-aa61-893457695671\",\"type\":\"GlyphRenderer\"}]},\"id\":\"854fbe12-5f32-4958-9bce-1f8d4e6ba181\",\"type\":\"LegendItem\"},{\"attributes\":{},\"id\":\"a45ef2d8-9b4a-4329-8d7f-d748a2e4de50\",\"type\":\"ResetTool\"},{\"attributes\":{\"fill_alpha\":{\"value\":0.1},\"fill_color\":{\"value\":\"#1f77b4\"},\"line_alpha\":{\"value\":0.1},\"line_color\":{\"value\":\"#1f77b4\"},\"size\":{\"units\":\"screen\",\"value\":7},\"x\":{\"field\":\"x\"},\"y\":{\"field\":\"y\"}},\"id\":\"25206161-a364-42e2-b77d-618afd809633\",\"type\":\"Circle\"},{\"attributes\":{\"below\":[{\"id\":\"99d54afd-4b96-42bf-8f25-cae06e4da187\",\"type\":\"LinearAxis\"}],\"left\":[{\"id\":\"e3aa467e-7516-483f-acac-b316cb382524\",\"type\":\"LinearAxis\"}],\"plot_height\":300,\"plot_width\":400,\"renderers\":[{\"id\":\"99d54afd-4b96-42bf-8f25-cae06e4da187\",\"type\":\"LinearAxis\"},{\"id\":\"cfbd5b3a-006d-46e4-ab36-2e6f5c59fddd\",\"type\":\"Grid\"},{\"id\":\"e3aa467e-7516-483f-acac-b316cb382524\",\"type\":\"LinearAxis\"},{\"id\":\"acdcdc1b-9f2d-43ec-97fd-b8e664618fca\",\"type\":\"Grid\"},{\"id\":\"1654ce03-0a5c-43a5-8b85-fb0d8698bea4\",\"type\":\"Legend\"},{\"id\":\"fdada09d-b283-45d0-b282-3cb31e6e2e7a\",\"type\":\"GlyphRenderer\"},{\"id\":\"b3a88950-d755-475d-982d-d986eff0cdb9\",\"type\":\"GlyphRenderer\"},{\"id\":\"39dccede-d0ee-408d-b0c2-63cef30f6681\",\"type\":\"GlyphRenderer\"},{\"id\":\"f99ca22f-bc85-4e7f-aa61-893457695671\",\"type\":\"GlyphRenderer\"}],\"title\":{\"id\":\"35ce382e-2abc-4fc9-a19a-5deef49a5993\",\"type\":\"Title\"},\"toolbar\":{\"id\":\"431b02a9-7265-4bc3-93cb-df33703db775\",\"type\":\"Toolbar\"},\"x_range\":{\"id\":\"e154dad7-3458-46ee-b32b-32fc9bb2a088\",\"type\":\"DataRange1d\"},\"x_scale\":{\"id\":\"796a15d7-729d-4cdf-8762-696552b13832\",\"type\":\"LinearScale\"},\"y_range\":{\"id\":\"9fbc1e4e-f29e-4e0c-a66c-9a44a82c2eb4\",\"type\":\"DataRange1d\"},\"y_scale\":{\"id\":\"d9d6afaf-7730-4081-b84f-6903932bc817\",\"type\":\"LinearScale\"}},\"id\":\"4982174a-264d-437d-8e88-c01c0c38c81c\",\"subtype\":\"Figure\",\"type\":\"Plot\"},{\"attributes\":{},\"id\":\"573d64fb-2f61-468a-8c8a-1576c04ee0e1\",\"type\":\"LinearScale\"},{\"attributes\":{\"below\":[{\"id\":\"3813b784-6b25-413d-9010-8827f4807be0\",\"type\":\"LinearAxis\"}],\"left\":[{\"id\":\"a10c7316-0181-4a43-b42a-4cbf36c5243f\",\"type\":\"LinearAxis\"}],\"plot_height\":300,\"plot_width\":400,\"renderers\":[{\"id\":\"3813b784-6b25-413d-9010-8827f4807be0\",\"type\":\"LinearAxis\"},{\"id\":\"b6c5cdb9-28be-4cae-9e88-0908e66e8462\",\"type\":\"Grid\"},{\"id\":\"a10c7316-0181-4a43-b42a-4cbf36c5243f\",\"type\":\"LinearAxis\"},{\"id\":\"645c003d-b6d9-4933-8227-c3d060ef4070\",\"type\":\"Grid\"},{\"id\":\"aaa0ee99-7ee5-44f5-9b76-1280005a27b5\",\"type\":\"GlyphRenderer\"},{\"id\":\"bd5b42c5-cd9a-41f9-8276-6381eeca8ecf\",\"type\":\"GlyphRenderer\"}],\"title\":{\"id\":\"1849de7a-a79e-4ed9-b527-c7011457f152\",\"type\":\"Title\"},\"toolbar\":{\"id\":\"3ed05d5d-19fe-4238-af9b-84c0bbab0dbd\",\"type\":\"Toolbar\"},\"x_range\":{\"id\":\"e154dad7-3458-46ee-b32b-32fc9bb2a088\",\"type\":\"DataRange1d\"},\"x_scale\":{\"id\":\"739c8304-7281-4cf3-a978-3a2350ae9c35\",\"type\":\"LinearScale\"},\"y_range\":{\"id\":\"0b4a6224-36dc-43d7-837c-faf33f895099\",\"type\":\"Range1d\"},\"y_scale\":{\"id\":\"573d64fb-2f61-468a-8c8a-1576c04ee0e1\",\"type\":\"LinearScale\"}},\"id\":\"a47971f3-68df-4fdd-960b-fe9b80c0fd8a\",\"subtype\":\"Figure\",\"type\":\"Plot\"},{\"attributes\":{\"plot\":{\"id\":\"a47971f3-68df-4fdd-960b-fe9b80c0fd8a\",\"subtype\":\"Figure\",\"type\":\"Plot\"},\"ticker\":{\"id\":\"5a00d3da-2916-43b4-a5a0-f332260175f4\",\"type\":\"BasicTicker\"}},\"id\":\"b6c5cdb9-28be-4cae-9e88-0908e66e8462\",\"type\":\"Grid\"},{\"attributes\":{\"source\":{\"id\":\"043d5605-99df-4a79-b41d-8e0414eb9ed4\",\"type\":\"ColumnDataSource\"}},\"id\":\"b884b449-33b0-4114-a8a1-b62d747336a9\",\"type\":\"CDSView\"},{\"attributes\":{\"axis_label\":\"f(k,n,p)\",\"formatter\":{\"id\":\"a63253a6-104b-4f1f-98ac-0c50c292363b\",\"type\":\"BasicTickFormatter\"},\"plot\":{\"id\":\"4982174a-264d-437d-8e88-c01c0c38c81c\",\"subtype\":\"Figure\",\"type\":\"Plot\"},\"ticker\":{\"id\":\"192daa17-1c79-4ad8-b5e3-afc9d2c37b4d\",\"type\":\"BasicTicker\"}},\"id\":\"e3aa467e-7516-483f-acac-b316cb382524\",\"type\":\"LinearAxis\"},{\"attributes\":{\"plot\":null,\"text\":\"Binomial Distribution\"},\"id\":\"35ce382e-2abc-4fc9-a19a-5deef49a5993\",\"type\":\"Title\"},{\"attributes\":{},\"id\":\"4d7197c9-829f-470c-ad2f-b2455fd400b0\",\"type\":\"WheelZoomTool\"},{\"attributes\":{\"active_drag\":\"auto\",\"active_inspect\":\"auto\",\"active_scroll\":\"auto\",\"active_tap\":\"auto\",\"tools\":[{\"id\":\"ba338fdd-82c5-4e52-92fa-07c5f16e0a40\",\"type\":\"PanTool\"},{\"id\":\"4d7197c9-829f-470c-ad2f-b2455fd400b0\",\"type\":\"WheelZoomTool\"},{\"id\":\"a45ef2d8-9b4a-4329-8d7f-d748a2e4de50\",\"type\":\"ResetTool\"},{\"id\":\"52b60293-3818-414b-88cf-6cbadc8adf71\",\"type\":\"SaveTool\"}]},\"id\":\"431b02a9-7265-4bc3-93cb-df33703db775\",\"type\":\"Toolbar\"},{\"attributes\":{},\"id\":\"796a15d7-729d-4cdf-8762-696552b13832\",\"type\":\"LinearScale\"},{\"attributes\":{\"callback\":null},\"id\":\"9fbc1e4e-f29e-4e0c-a66c-9a44a82c2eb4\",\"type\":\"DataRange1d\"},{\"attributes\":{\"dimension\":1,\"plot\":{\"id\":\"a47971f3-68df-4fdd-960b-fe9b80c0fd8a\",\"subtype\":\"Figure\",\"type\":\"Plot\"},\"ticker\":{\"id\":\"96a1bfaa-6e52-41a3-abb5-61c4ef771616\",\"type\":\"BasicTicker\"}},\"id\":\"645c003d-b6d9-4933-8227-c3d060ef4070\",\"type\":\"Grid\"},{\"attributes\":{\"children\":[{\"id\":\"4982174a-264d-437d-8e88-c01c0c38c81c\",\"subtype\":\"Figure\",\"type\":\"Plot\"},{\"id\":\"a47971f3-68df-4fdd-960b-fe9b80c0fd8a\",\"subtype\":\"Figure\",\"type\":\"Plot\"}]},\"id\":\"6640ae92-c316-4bc5-9fa9-e76622c060ec\",\"type\":\"Row\"},{\"attributes\":{\"callback\":null,\"end\":1.05,\"start\":-0.05},\"id\":\"0b4a6224-36dc-43d7-837c-faf33f895099\",\"type\":\"Range1d\"},{\"attributes\":{},\"id\":\"52b60293-3818-414b-88cf-6cbadc8adf71\",\"type\":\"SaveTool\"},{\"attributes\":{\"data_source\":{\"id\":\"2fb4ef7f-60aa-4805-9a6d-f69296b01e36\",\"type\":\"ColumnDataSource\"},\"glyph\":{\"id\":\"b483d9c9-3265-40fd-abe1-513eacc9bca5\",\"type\":\"Circle\"},\"hover_glyph\":null,\"muted_glyph\":null,\"nonselection_glyph\":{\"id\":\"9dbcf14e-90b3-4b4c-a20d-a57208f3fd05\",\"type\":\"Circle\"},\"selection_glyph\":null,\"view\":{\"id\":\"664ea731-a1e6-46c3-8af6-07a1594340f9\",\"type\":\"CDSView\"}},\"id\":\"fdada09d-b283-45d0-b282-3cb31e6e2e7a\",\"type\":\"GlyphRenderer\"}],\"root_ids\":[\"6640ae92-c316-4bc5-9fa9-e76622c060ec\"]},\"title\":\"Bokeh Application\",\"version\":\"0.12.13\"}};\n",
       "  var render_items = [{\"docid\":\"19c3e0ce-5d47-4ed3-8846-17bf13a6fbbd\",\"elementid\":\"a68d89d3-3990-4aa2-96e5-15faec110291\",\"modelid\":\"6640ae92-c316-4bc5-9fa9-e76622c060ec\"}];\n",
       "  root.Bokeh.embed.embed_items_notebook(docs_json, render_items);\n",
       "\n",
       "  }\n",
       "  if (root.Bokeh !== undefined) {\n",
       "    embed_document(root);\n",
       "  } else {\n",
       "    var attempts = 0;\n",
       "    var timer = setInterval(function(root) {\n",
       "      if (root.Bokeh !== undefined) {\n",
       "        embed_document(root);\n",
       "        clearInterval(timer);\n",
       "      }\n",
       "      attempts++;\n",
       "      if (attempts > 100) {\n",
       "        console.log(\"Bokeh: ERROR: Unable to run BokehJS code because BokehJS library is missing\")\n",
       "        clearInterval(timer);\n",
       "      }\n",
       "    }, 10, root)\n",
       "  }\n",
       "})(window);"
      ],
      "application/vnd.bokehjs_exec.v0+json": ""
     },
     "metadata": {
      "application/vnd.bokehjs_exec.v0+json": {
       "id": "6640ae92-c316-4bc5-9fa9-e76622c060ec"
      }
     },
     "output_type": "display_data"
    }
   ],
   "source": [
    "k = np.arange(21)\n",
    "n = 20\n",
    "p1 = 0.50\n",
    "p2 = 0.70\n",
    "\n",
    "# Tools for plots\n",
    "tools='pan,wheel_zoom,reset,save'\n",
    "\n",
    "# Set up plots\n",
    "fig_1 = Figure(width=400, height=300, tools=tools, title=\"Binomial Distribution\")\n",
    "fig_2 = Figure(width=400, height=300, tools=[tools,HoverTool(tooltips=[\n",
    "                (\"\", \"$y\")\n",
    "                ])], \n",
    "               y_range=[-0.05, 1.05])\n",
    "\n",
    "fig_1.xaxis.axis_label = 'k'\n",
    "fig_1.yaxis.axis_label = 'f(k,n,p)' \n",
    "\n",
    "fig_2.xaxis.axis_label = 'k'\n",
    "fig_2.yaxis.axis_label = 'F(k,n,p)'\n",
    "\n",
    "# Figure #1\n",
    "y1 = binom.pmf(k,n,p1)\n",
    "fig_1.circle(k, y1, size=7, color='dodgerblue',legend=\"n=20,p=0.50\")\n",
    "fig_1.segment(x0=k, x1=k, y0=0, y1=y1, line_width=3, \n",
    "              color='dodgerblue', legend=\"n=20,p=0.50\")\n",
    "\n",
    "y2 = binom.pmf(k,n,p2)\n",
    "fig_1.circle(k, y2, size=7, color='red',legend=\"n=20,p=0.70\")\n",
    "fig_1.segment(x0=k, x1=k, y0=0, y1=y2, line_width=3, \n",
    "              color='red', legend=\"n=20,p=0.70\")\n",
    "\n",
    "fig_1.legend.location = \"top_left\"\n",
    "fig_1.legend.click_policy=\"hide\"\n",
    "\n",
    "#Figure #2\n",
    "y3 = binom.cdf(k,n,p1)\n",
    "fig_2.circle(k, y3, size=7, color='dodgerblue')\n",
    "\n",
    "y4 = binom.cdf(k,n,p2)\n",
    "fig_2.circle(k, y4, size=7, color='red')\n",
    "\n",
    "# Link the x-axes\n",
    "fig_1.x_range = fig_2.x_range\n",
    "\n",
    "\n",
    "show(row([fig_1, fig_2]))"
   ]
  },
  {
   "cell_type": "markdown",
   "metadata": {},
   "source": [
    "In this example, we'll construct probability distributions. But first, let's look at the dataset we'll be using.\n",
    "\n",
    "In many countries, there are bikesharing programs where anyone can rent a bike from a depot, and return it at other depots throughout a city. There is one such program in Washington, D.C., in the US. We'll be looking at the number of bikes that were rented by day. Here are the relevant columns:\n",
    "\n",
    "- <span style=\"background-color: #F9EBEA; color:##C0392B\">dteday</span> the date that we're looking at.\n",
    "- <span style=\"background-color: #F9EBEA; color:##C0392B\">cnt</span> the total number of bikes rented.\n",
    "\n",
    "This data was collected by <span style=\"background-color: #F9EBEA; color:##C0392B\">Hadi Fanaee-T</span> at the <span style=\"background-color: #F9EBEA; color:##C0392B\">University of Porto</span>, and can be downloaded [here](http://archive.ics.uci.edu/ml/datasets/Bike+Sharing+Dataset)."
   ]
  },
  {
   "cell_type": "code",
   "execution_count": 40,
   "metadata": {
    "scrolled": true
   },
   "outputs": [
    {
     "data": {
      "text/html": [
       "<div>\n",
       "<style scoped>\n",
       "    .dataframe tbody tr th:only-of-type {\n",
       "        vertical-align: middle;\n",
       "    }\n",
       "\n",
       "    .dataframe tbody tr th {\n",
       "        vertical-align: top;\n",
       "    }\n",
       "\n",
       "    .dataframe thead th {\n",
       "        text-align: right;\n",
       "    }\n",
       "</style>\n",
       "<table border=\"1\" class=\"dataframe\">\n",
       "  <thead>\n",
       "    <tr style=\"text-align: right;\">\n",
       "      <th></th>\n",
       "      <th>instant</th>\n",
       "      <th>dteday</th>\n",
       "      <th>season</th>\n",
       "      <th>yr</th>\n",
       "      <th>mnth</th>\n",
       "      <th>holiday</th>\n",
       "      <th>weekday</th>\n",
       "      <th>workingday</th>\n",
       "      <th>weathersit</th>\n",
       "      <th>temp</th>\n",
       "      <th>atemp</th>\n",
       "      <th>hum</th>\n",
       "      <th>windspeed</th>\n",
       "      <th>casual</th>\n",
       "      <th>registered</th>\n",
       "      <th>cnt</th>\n",
       "    </tr>\n",
       "  </thead>\n",
       "  <tbody>\n",
       "    <tr>\n",
       "      <th>0</th>\n",
       "      <td>1</td>\n",
       "      <td>2011-01-01</td>\n",
       "      <td>1</td>\n",
       "      <td>0</td>\n",
       "      <td>1</td>\n",
       "      <td>0</td>\n",
       "      <td>6</td>\n",
       "      <td>0</td>\n",
       "      <td>2</td>\n",
       "      <td>0.344167</td>\n",
       "      <td>0.363625</td>\n",
       "      <td>0.805833</td>\n",
       "      <td>0.160446</td>\n",
       "      <td>331</td>\n",
       "      <td>654</td>\n",
       "      <td>985</td>\n",
       "    </tr>\n",
       "    <tr>\n",
       "      <th>1</th>\n",
       "      <td>2</td>\n",
       "      <td>2011-01-02</td>\n",
       "      <td>1</td>\n",
       "      <td>0</td>\n",
       "      <td>1</td>\n",
       "      <td>0</td>\n",
       "      <td>0</td>\n",
       "      <td>0</td>\n",
       "      <td>2</td>\n",
       "      <td>0.363478</td>\n",
       "      <td>0.353739</td>\n",
       "      <td>0.696087</td>\n",
       "      <td>0.248539</td>\n",
       "      <td>131</td>\n",
       "      <td>670</td>\n",
       "      <td>801</td>\n",
       "    </tr>\n",
       "    <tr>\n",
       "      <th>2</th>\n",
       "      <td>3</td>\n",
       "      <td>2011-01-03</td>\n",
       "      <td>1</td>\n",
       "      <td>0</td>\n",
       "      <td>1</td>\n",
       "      <td>0</td>\n",
       "      <td>1</td>\n",
       "      <td>1</td>\n",
       "      <td>1</td>\n",
       "      <td>0.196364</td>\n",
       "      <td>0.189405</td>\n",
       "      <td>0.437273</td>\n",
       "      <td>0.248309</td>\n",
       "      <td>120</td>\n",
       "      <td>1229</td>\n",
       "      <td>1349</td>\n",
       "    </tr>\n",
       "    <tr>\n",
       "      <th>3</th>\n",
       "      <td>4</td>\n",
       "      <td>2011-01-04</td>\n",
       "      <td>1</td>\n",
       "      <td>0</td>\n",
       "      <td>1</td>\n",
       "      <td>0</td>\n",
       "      <td>2</td>\n",
       "      <td>1</td>\n",
       "      <td>1</td>\n",
       "      <td>0.200000</td>\n",
       "      <td>0.212122</td>\n",
       "      <td>0.590435</td>\n",
       "      <td>0.160296</td>\n",
       "      <td>108</td>\n",
       "      <td>1454</td>\n",
       "      <td>1562</td>\n",
       "    </tr>\n",
       "    <tr>\n",
       "      <th>4</th>\n",
       "      <td>5</td>\n",
       "      <td>2011-01-05</td>\n",
       "      <td>1</td>\n",
       "      <td>0</td>\n",
       "      <td>1</td>\n",
       "      <td>0</td>\n",
       "      <td>3</td>\n",
       "      <td>1</td>\n",
       "      <td>1</td>\n",
       "      <td>0.226957</td>\n",
       "      <td>0.229270</td>\n",
       "      <td>0.436957</td>\n",
       "      <td>0.186900</td>\n",
       "      <td>82</td>\n",
       "      <td>1518</td>\n",
       "      <td>1600</td>\n",
       "    </tr>\n",
       "  </tbody>\n",
       "</table>\n",
       "</div>"
      ],
      "text/plain": [
       "   instant      dteday  season  yr  mnth  holiday  weekday  workingday  \\\n",
       "0        1  2011-01-01       1   0     1        0        6           0   \n",
       "1        2  2011-01-02       1   0     1        0        0           0   \n",
       "2        3  2011-01-03       1   0     1        0        1           1   \n",
       "3        4  2011-01-04       1   0     1        0        2           1   \n",
       "4        5  2011-01-05       1   0     1        0        3           1   \n",
       "\n",
       "   weathersit      temp     atemp       hum  windspeed  casual  registered  \\\n",
       "0           2  0.344167  0.363625  0.805833   0.160446     331         654   \n",
       "1           2  0.363478  0.353739  0.696087   0.248539     131         670   \n",
       "2           1  0.196364  0.189405  0.437273   0.248309     120        1229   \n",
       "3           1  0.200000  0.212122  0.590435   0.160296     108        1454   \n",
       "4           1  0.226957  0.229270  0.436957   0.186900      82        1518   \n",
       "\n",
       "    cnt  \n",
       "0   985  \n",
       "1   801  \n",
       "2  1349  \n",
       "3  1562  \n",
       "4  1600  "
      ]
     },
     "execution_count": 40,
     "metadata": {},
     "output_type": "execute_result"
    }
   ],
   "source": [
    "import pandas as pd\n",
    "bikes = pd.read_csv(\"bike_rental_day.csv\")\n",
    "bikes.head()"
   ]
  },
  {
   "cell_type": "markdown",
   "metadata": {},
   "source": [
    "<br>\n",
    "<div class=\"alert alert-info\">\n",
    "<b>Exercise Start.</b>\n",
    "</div>\n",
    "\n",
    "**Description**:\n",
    "\n",
    "1. Find the probability of there being more than <span style=\"background-color: #F9EBEA; color:##C0392B\">5000</span> riders in a single day (using the <span style=\"background-color: #F9EBEA; color:##C0392B\">cnt</span> column). \n",
    "2. Assign the result to <span style=\"background-color: #F9EBEA; color:##C0392B\">prob\\_over\\_5000</span>\n",
    "3. What is the probability that the bikesharing system has in a month at least 10 days with more than 5k riders?\n"
   ]
  },
  {
   "cell_type": "markdown",
   "metadata": {},
   "source": [
    "## Geometric Distribution\n",
    "\n",
    "\n",
    "$$\n",
    "\\begin{eqnarray*}\n",
    "P(X = k)  \\Leftrightarrow  f(k,p)  & = &\n",
    "\\begin{cases}\n",
    "               \\displaystyle (1-p)^{k-1}*p \\ \\ \\ k = 1,2,3,\\ldots \\\\\n",
    "               \\textrm{caso contrário}\n",
    "\\end{cases}\\\\\n",
    "P(X \\leq k) \\Leftrightarrow  F(k,p)  & = &\n",
    "               \\displaystyle \\sum_{i=1}^{k}  (1-p)^{k-1}*p \\\\\n",
    "               & = & 1 - (1-p)^k\n",
    "\\end{eqnarray*}\n",
    "$$"
   ]
  },
  {
   "cell_type": "code",
   "execution_count": 41,
   "metadata": {
    "scrolled": true
   },
   "outputs": [
    {
     "data": {
      "text/html": [
       "\n",
       "<div class=\"bk-root\">\n",
       "    <div class=\"bk-plotdiv\" id=\"dfa2f57c-20e7-4ec7-975a-f415efc04e8d\"></div>\n",
       "</div>"
      ]
     },
     "metadata": {},
     "output_type": "display_data"
    },
    {
     "data": {
      "application/javascript": [
       "(function(root) {\n",
       "  function embed_document(root) {\n",
       "    \n",
       "  var docs_json = {\"13e1d1f3-282d-4d5a-9bd7-91afef8f03de\":{\"roots\":{\"references\":[{\"attributes\":{\"plot\":{\"id\":\"f3b7edf1-e7a7-4dc4-b9cf-5ddf0945b97d\",\"subtype\":\"Figure\",\"type\":\"Plot\"},\"ticker\":{\"id\":\"a140ee27-a444-483c-b666-e16f9f77d668\",\"type\":\"BasicTicker\"}},\"id\":\"cfb9f45c-6ec2-4196-8d6f-45f16baa5807\",\"type\":\"Grid\"},{\"attributes\":{\"axis_label\":\"k\",\"formatter\":{\"id\":\"3377e447-e8c8-4981-9187-0bb03e1d69ff\",\"type\":\"BasicTickFormatter\"},\"plot\":{\"id\":\"f3b7edf1-e7a7-4dc4-b9cf-5ddf0945b97d\",\"subtype\":\"Figure\",\"type\":\"Plot\"},\"ticker\":{\"id\":\"a140ee27-a444-483c-b666-e16f9f77d668\",\"type\":\"BasicTicker\"}},\"id\":\"b639a5a7-2fde-4bfa-b504-fd8e2ce5163d\",\"type\":\"LinearAxis\"},{\"attributes\":{},\"id\":\"a140ee27-a444-483c-b666-e16f9f77d668\",\"type\":\"BasicTicker\"},{\"attributes\":{\"axis_label\":\"f(k,p)\",\"formatter\":{\"id\":\"95f9f5ec-84f7-4ed9-9cd0-fec8eae8a55a\",\"type\":\"BasicTickFormatter\"},\"plot\":{\"id\":\"f3b7edf1-e7a7-4dc4-b9cf-5ddf0945b97d\",\"subtype\":\"Figure\",\"type\":\"Plot\"},\"ticker\":{\"id\":\"80b27764-1621-4161-8dba-64586bc6ab73\",\"type\":\"BasicTicker\"}},\"id\":\"3754b3ad-c1da-4bae-9892-db57ed5fa6d6\",\"type\":\"LinearAxis\"},{\"attributes\":{},\"id\":\"80b27764-1621-4161-8dba-64586bc6ab73\",\"type\":\"BasicTicker\"},{\"attributes\":{\"dimension\":1,\"plot\":{\"id\":\"f3b7edf1-e7a7-4dc4-b9cf-5ddf0945b97d\",\"subtype\":\"Figure\",\"type\":\"Plot\"},\"ticker\":{\"id\":\"80b27764-1621-4161-8dba-64586bc6ab73\",\"type\":\"BasicTicker\"}},\"id\":\"fd5f57ad-e2b9-4b71-9eb6-f5738be0330f\",\"type\":\"Grid\"},{\"attributes\":{\"callback\":null,\"column_names\":[\"x\",\"y\"],\"data\":{\"x\":[1,2,3,4,5,6,7,8,9,10,11,12,13,14,15,16,17,18,19,20,21],\"y\":{\"__ndarray__\":\"MzMzMzMz0z/hehSuR+HKPzaJQWDl0MI/fybChqdXuj+MtFTejnCyP/YvEATI0Kk/LLtxnCUSoj/X0jgOm0yZP8nGJ72ftZE/TRae1RLLiD/PQoiV81qBP4hdWNEhTHg/eEEkrBcCcT+oW8y9us9nP/UMD7gCq2A/V0VIm9BVVz8jyuWfq1VQP/0aqKxW3kY/5BLceAkCQD8/5wB2QGk2P1fdmgsnYC8/\",\"dtype\":\"float64\",\"shape\":[21]}}},\"id\":\"8bbf9a49-c2f5-4899-b34f-c7efa570d965\",\"type\":\"ColumnDataSource\"},{\"attributes\":{},\"id\":\"dbb25bf1-d92d-4cba-a5ca-215d625d77f4\",\"type\":\"PanTool\"},{\"attributes\":{},\"id\":\"cc3f245f-d756-4cfc-98fd-e8df387b0981\",\"type\":\"LinearScale\"},{\"attributes\":{},\"id\":\"12de8b0c-4e8e-4a15-88e0-e38c78c2b8e5\",\"type\":\"WheelZoomTool\"},{\"attributes\":{},\"id\":\"806708e1-34c8-4150-81c7-87e154083573\",\"type\":\"ResetTool\"},{\"attributes\":{},\"id\":\"60bf3e2a-6078-4bfb-9f28-b4e5a11a5df6\",\"type\":\"SaveTool\"},{\"attributes\":{\"callback\":null},\"id\":\"140c8a45-b4cc-4125-9962-3ccd10c08ad6\",\"type\":\"DataRange1d\"},{\"attributes\":{\"active_drag\":\"auto\",\"active_inspect\":\"auto\",\"active_scroll\":\"auto\",\"active_tap\":\"auto\",\"tools\":[{\"id\":\"bd186f38-f014-40d9-a226-78e94ff07978\",\"type\":\"HoverTool\"},{\"id\":\"37fca432-715e-4849-875b-ab4758e917f3\",\"type\":\"PanTool\"},{\"id\":\"1d09da8f-a315-416b-86c4-4de706c7e297\",\"type\":\"WheelZoomTool\"},{\"id\":\"5d40c5dc-4362-4a84-9223-7c6b609f1089\",\"type\":\"ResetTool\"},{\"id\":\"75ac4525-cda9-4053-bdf2-73d3a0d1f70b\",\"type\":\"SaveTool\"}]},\"id\":\"bd32790d-0949-45bc-bd44-fada97c2b7c2\",\"type\":\"Toolbar\"},{\"attributes\":{\"callback\":null,\"end\":1.05,\"start\":-0.05},\"id\":\"81f99808-dd29-4391-8b39-04541346af5e\",\"type\":\"Range1d\"},{\"attributes\":{},\"id\":\"db8dbb4f-a7c6-4c4c-8a19-97f62327d6e2\",\"type\":\"LinearScale\"},{\"attributes\":{\"plot\":{\"id\":\"ec357c7e-5330-4b79-82ed-0e2f0672141b\",\"subtype\":\"Figure\",\"type\":\"Plot\"},\"ticker\":{\"id\":\"34e87666-38e9-41fb-b2b9-d57380eb5d91\",\"type\":\"BasicTicker\"}},\"id\":\"745cafac-9cda-4276-bcdc-1724dfec975c\",\"type\":\"Grid\"},{\"attributes\":{\"fill_alpha\":{\"value\":0.1},\"fill_color\":{\"value\":\"#1f77b4\"},\"line_alpha\":{\"value\":0.1},\"line_color\":{\"value\":\"#1f77b4\"},\"size\":{\"units\":\"screen\",\"value\":7},\"x\":{\"field\":\"x\"},\"y\":{\"field\":\"y\"}},\"id\":\"8de7b169-9223-445e-b667-a1e68685bd4d\",\"type\":\"Circle\"},{\"attributes\":{\"axis_label\":\"k\",\"formatter\":{\"id\":\"8fdaac2c-f926-471f-9ea6-12911fd82fa5\",\"type\":\"BasicTickFormatter\"},\"plot\":{\"id\":\"ec357c7e-5330-4b79-82ed-0e2f0672141b\",\"subtype\":\"Figure\",\"type\":\"Plot\"},\"ticker\":{\"id\":\"34e87666-38e9-41fb-b2b9-d57380eb5d91\",\"type\":\"BasicTicker\"}},\"id\":\"976d5a13-a163-45c0-8f2f-80b925e8d863\",\"type\":\"LinearAxis\"},{\"attributes\":{},\"id\":\"34e87666-38e9-41fb-b2b9-d57380eb5d91\",\"type\":\"BasicTicker\"},{\"attributes\":{\"axis_label\":\"F(k,p)\",\"formatter\":{\"id\":\"3925fbc4-054f-4b4f-8b2f-fd1de4a08d5e\",\"type\":\"BasicTickFormatter\"},\"plot\":{\"id\":\"ec357c7e-5330-4b79-82ed-0e2f0672141b\",\"subtype\":\"Figure\",\"type\":\"Plot\"},\"ticker\":{\"id\":\"54d64fa5-a7b5-4244-98cc-97ad5e9cd0e8\",\"type\":\"BasicTicker\"}},\"id\":\"871b1518-be97-4a3c-96c5-f975f4a49829\",\"type\":\"LinearAxis\"},{\"attributes\":{},\"id\":\"54d64fa5-a7b5-4244-98cc-97ad5e9cd0e8\",\"type\":\"BasicTicker\"},{\"attributes\":{\"dimension\":1,\"plot\":{\"id\":\"ec357c7e-5330-4b79-82ed-0e2f0672141b\",\"subtype\":\"Figure\",\"type\":\"Plot\"},\"ticker\":{\"id\":\"54d64fa5-a7b5-4244-98cc-97ad5e9cd0e8\",\"type\":\"BasicTicker\"}},\"id\":\"07f8cd4f-df20-48fd-893c-c69ee49465d8\",\"type\":\"Grid\"},{\"attributes\":{\"fill_color\":{\"value\":\"dodgerblue\"},\"line_color\":{\"value\":\"dodgerblue\"},\"size\":{\"units\":\"screen\",\"value\":7},\"x\":{\"field\":\"x\"},\"y\":{\"field\":\"y\"}},\"id\":\"8273d3ef-071d-40a0-95b2-722d5c5ac62a\",\"type\":\"Circle\"},{\"attributes\":{\"data_source\":{\"id\":\"8bbf9a49-c2f5-4899-b34f-c7efa570d965\",\"type\":\"ColumnDataSource\"},\"glyph\":{\"id\":\"8273d3ef-071d-40a0-95b2-722d5c5ac62a\",\"type\":\"Circle\"},\"hover_glyph\":null,\"muted_glyph\":null,\"nonselection_glyph\":{\"id\":\"8de7b169-9223-445e-b667-a1e68685bd4d\",\"type\":\"Circle\"},\"selection_glyph\":null,\"view\":{\"id\":\"6b2d772a-7bf4-4f5c-9f56-231cd6c90ab7\",\"type\":\"CDSView\"}},\"id\":\"4cef78d3-3d11-4fab-86ef-96a90c325212\",\"type\":\"GlyphRenderer\"},{\"attributes\":{},\"id\":\"3377e447-e8c8-4981-9187-0bb03e1d69ff\",\"type\":\"BasicTickFormatter\"},{\"attributes\":{},\"id\":\"37fca432-715e-4849-875b-ab4758e917f3\",\"type\":\"PanTool\"},{\"attributes\":{\"source\":{\"id\":\"8bbf9a49-c2f5-4899-b34f-c7efa570d965\",\"type\":\"ColumnDataSource\"}},\"id\":\"6b2d772a-7bf4-4f5c-9f56-231cd6c90ab7\",\"type\":\"CDSView\"},{\"attributes\":{},\"id\":\"1d09da8f-a315-416b-86c4-4de706c7e297\",\"type\":\"WheelZoomTool\"},{\"attributes\":{},\"id\":\"5d40c5dc-4362-4a84-9223-7c6b609f1089\",\"type\":\"ResetTool\"},{\"attributes\":{},\"id\":\"75ac4525-cda9-4053-bdf2-73d3a0d1f70b\",\"type\":\"SaveTool\"},{\"attributes\":{\"click_policy\":\"hide\",\"items\":[{\"id\":\"052b861f-e8ae-4448-89cc-cc86a9e52345\",\"type\":\"LegendItem\"},{\"id\":\"e8a876d8-7177-44dc-8689-4eecd40c4a32\",\"type\":\"LegendItem\"}],\"plot\":{\"id\":\"f3b7edf1-e7a7-4dc4-b9cf-5ddf0945b97d\",\"subtype\":\"Figure\",\"type\":\"Plot\"}},\"id\":\"74484f4c-5741-4808-bd3f-534dc87b0640\",\"type\":\"Legend\"},{\"attributes\":{},\"id\":\"95f9f5ec-84f7-4ed9-9cd0-fec8eae8a55a\",\"type\":\"BasicTickFormatter\"},{\"attributes\":{\"line_color\":{\"value\":\"dodgerblue\"},\"line_width\":{\"value\":3},\"x0\":{\"field\":\"x0\"},\"x1\":{\"field\":\"x1\"},\"y0\":{\"value\":0},\"y1\":{\"field\":\"y1\"}},\"id\":\"a26664df-1fbc-4dc0-ad4b-46c4e51c2125\",\"type\":\"Segment\"},{\"attributes\":{\"label\":{\"value\":\"p=0.30\"},\"renderers\":[{\"id\":\"4cef78d3-3d11-4fab-86ef-96a90c325212\",\"type\":\"GlyphRenderer\"},{\"id\":\"00e7554d-0057-4c49-9936-ac9c62be03c9\",\"type\":\"GlyphRenderer\"}]},\"id\":\"052b861f-e8ae-4448-89cc-cc86a9e52345\",\"type\":\"LegendItem\"},{\"attributes\":{\"data_source\":{\"id\":\"6f9c8aa2-5517-48b3-91d6-9e2de5aac7c5\",\"type\":\"ColumnDataSource\"},\"glyph\":{\"id\":\"a26664df-1fbc-4dc0-ad4b-46c4e51c2125\",\"type\":\"Segment\"},\"hover_glyph\":null,\"muted_glyph\":null,\"nonselection_glyph\":{\"id\":\"96e03eba-7414-4983-8839-2452aaafe1bd\",\"type\":\"Segment\"},\"selection_glyph\":null,\"view\":{\"id\":\"578e4b85-cb7a-49bf-b785-c68f809de4b7\",\"type\":\"CDSView\"}},\"id\":\"00e7554d-0057-4c49-9936-ac9c62be03c9\",\"type\":\"GlyphRenderer\"},{\"attributes\":{\"line_alpha\":{\"value\":0.1},\"line_color\":{\"value\":\"#1f77b4\"},\"line_width\":{\"value\":3},\"x0\":{\"field\":\"x0\"},\"x1\":{\"field\":\"x1\"},\"y0\":{\"value\":0},\"y1\":{\"field\":\"y1\"}},\"id\":\"96e03eba-7414-4983-8839-2452aaafe1bd\",\"type\":\"Segment\"},{\"attributes\":{\"callback\":null,\"column_names\":[\"x0\",\"x1\",\"y1\"],\"data\":{\"x0\":[1,2,3,4,5,6,7,8,9,10,11,12,13,14,15,16,17,18,19,20,21],\"x1\":[1,2,3,4,5,6,7,8,9,10,11,12,13,14,15,16,17,18,19,20,21],\"y1\":{\"__ndarray__\":\"ZmZmZmZm5j/iehSuR+HKP1XjpZvEILA/mt2Th4Vakz+61hcJbTl3P+A0tteC3ls/VLnT57S4QD/MRDEW2RAkP1wfO7Q3FAg/PL8TpQ/l7D5YDD+WPFbRPgRC5U3izbQ+oLWskA/3mD5bQM/gRfV9PgSNr1OQ+WE+0kJsZOCRRT7K6YF4QOIpPlvlm5CADw8+a1Yqveai8j3nmv/iFF3WPRftZRAZ1ro9\",\"dtype\":\"float64\",\"shape\":[21]}}},\"id\":\"6cc6760c-04e3-45f7-8c61-c5f3aca4a29a\",\"type\":\"ColumnDataSource\"},{\"attributes\":{\"fill_color\":{\"value\":\"red\"},\"line_color\":{\"value\":\"red\"},\"size\":{\"units\":\"screen\",\"value\":7},\"x\":{\"field\":\"x\"},\"y\":{\"field\":\"y\"}},\"id\":\"0249e064-0406-49b7-a848-14e9a62f91b6\",\"type\":\"Circle\"},{\"attributes\":{\"fill_alpha\":{\"value\":0.1},\"fill_color\":{\"value\":\"#1f77b4\"},\"line_alpha\":{\"value\":0.1},\"line_color\":{\"value\":\"#1f77b4\"},\"size\":{\"units\":\"screen\",\"value\":7},\"x\":{\"field\":\"x\"},\"y\":{\"field\":\"y\"}},\"id\":\"abe9b4f4-1b47-497b-b083-0f6e18ab596e\",\"type\":\"Circle\"},{\"attributes\":{\"callback\":null,\"column_names\":[\"x\",\"y\"],\"data\":{\"x\":[1,2,3,4,5,6,7,8,9,10,11,12,13,14,15,16,17,18,19,20,21],\"y\":{\"__ndarray__\":\"ZmZmZmZm5j/iehSuR+HKP1XjpZvEILA/mt2Th4Vakz+61hcJbTl3P+A0tteC3ls/VLnT57S4QD/MRDEW2RAkP1wfO7Q3FAg/PL8TpQ/l7D5YDD+WPFbRPgRC5U3izbQ+oLWskA/3mD5bQM/gRfV9PgSNr1OQ+WE+0kJsZOCRRT7K6YF4QOIpPlvlm5CADw8+a1Yqveai8j3nmv/iFF3WPRftZRAZ1ro9\",\"dtype\":\"float64\",\"shape\":[21]}}},\"id\":\"72e41f15-33c9-4dc5-80a5-e10d770f5d89\",\"type\":\"ColumnDataSource\"},{\"attributes\":{\"data_source\":{\"id\":\"72e41f15-33c9-4dc5-80a5-e10d770f5d89\",\"type\":\"ColumnDataSource\"},\"glyph\":{\"id\":\"0249e064-0406-49b7-a848-14e9a62f91b6\",\"type\":\"Circle\"},\"hover_glyph\":null,\"muted_glyph\":null,\"nonselection_glyph\":{\"id\":\"abe9b4f4-1b47-497b-b083-0f6e18ab596e\",\"type\":\"Circle\"},\"selection_glyph\":null,\"view\":{\"id\":\"7367abfa-f256-4217-8337-603d3fbd90f7\",\"type\":\"CDSView\"}},\"id\":\"3bc76307-28e8-4820-b8e2-263a7233df7e\",\"type\":\"GlyphRenderer\"},{\"attributes\":{\"source\":{\"id\":\"72e41f15-33c9-4dc5-80a5-e10d770f5d89\",\"type\":\"ColumnDataSource\"}},\"id\":\"7367abfa-f256-4217-8337-603d3fbd90f7\",\"type\":\"CDSView\"},{\"attributes\":{\"source\":{\"id\":\"6f9c8aa2-5517-48b3-91d6-9e2de5aac7c5\",\"type\":\"ColumnDataSource\"}},\"id\":\"578e4b85-cb7a-49bf-b785-c68f809de4b7\",\"type\":\"CDSView\"},{\"attributes\":{\"fill_color\":{\"value\":\"dodgerblue\"},\"line_color\":{\"value\":\"dodgerblue\"},\"size\":{\"units\":\"screen\",\"value\":7},\"x\":{\"field\":\"x\"},\"y\":{\"field\":\"y\"}},\"id\":\"592bbb48-e45b-4875-8459-c210cdaeb747\",\"type\":\"Circle\"},{\"attributes\":{\"fill_color\":{\"value\":\"red\"},\"line_color\":{\"value\":\"red\"},\"size\":{\"units\":\"screen\",\"value\":7},\"x\":{\"field\":\"x\"},\"y\":{\"field\":\"y\"}},\"id\":\"463846c4-7997-4b36-998a-5afb6ab58354\",\"type\":\"Circle\"},{\"attributes\":{\"label\":{\"value\":\"p=0.70\"},\"renderers\":[{\"id\":\"3bc76307-28e8-4820-b8e2-263a7233df7e\",\"type\":\"GlyphRenderer\"},{\"id\":\"7b28d595-990e-49cb-8ffc-ebfca5b1fb3c\",\"type\":\"GlyphRenderer\"}]},\"id\":\"e8a876d8-7177-44dc-8689-4eecd40c4a32\",\"type\":\"LegendItem\"},{\"attributes\":{\"line_color\":{\"value\":\"red\"},\"line_width\":{\"value\":3},\"x0\":{\"field\":\"x0\"},\"x1\":{\"field\":\"x1\"},\"y0\":{\"value\":0},\"y1\":{\"field\":\"y1\"}},\"id\":\"c727b0b8-814d-4de7-97f4-a8f4e944c6d0\",\"type\":\"Segment\"},{\"attributes\":{\"callback\":null,\"column_names\":[\"x\",\"y\"],\"data\":{\"x\":[1,2,3,4,5,6,7,8,9,10,11,12,13,14,15,16,17,18,19,20,21],\"y\":{\"__ndarray__\":\"MzMzMzMz0z9SuB6F61HgP58aL90kBuU/cF8HzhlR6D8B9tGpK5/qPwD5Eio4POw/tBTag1pd7T9L20tcvyfuP4EZNVpste4/2pGLpZgY7z/msuFzBF7vP6FjhLecju8/JKzc5qCw7z9/eJqhcMjvP4yHUqQb2e8/ryugjMbk7z+UHnBi8ezvP5tIG/io8u8/oH95eqn27z+9P4iidvnvP2r5+KRs++8/\",\"dtype\":\"float64\",\"shape\":[21]}}},\"id\":\"99a69621-28ba-4607-91b0-9d6a7507a0c7\",\"type\":\"ColumnDataSource\"},{\"attributes\":{},\"id\":\"9cabbf88-82db-429b-afa9-7a1719f3b7b2\",\"type\":\"LinearScale\"},{\"attributes\":{\"line_alpha\":{\"value\":0.1},\"line_color\":{\"value\":\"#1f77b4\"},\"line_width\":{\"value\":3},\"x0\":{\"field\":\"x0\"},\"x1\":{\"field\":\"x1\"},\"y0\":{\"value\":0},\"y1\":{\"field\":\"y1\"}},\"id\":\"97b98997-7744-4cb4-98b3-99efd252bf12\",\"type\":\"Segment\"},{\"attributes\":{\"plot\":null,\"text\":\"Geometric Distribution\"},\"id\":\"86b7c8e1-51e3-4808-9a6e-3103fed32a03\",\"type\":\"Title\"},{\"attributes\":{\"data_source\":{\"id\":\"6cc6760c-04e3-45f7-8c61-c5f3aca4a29a\",\"type\":\"ColumnDataSource\"},\"glyph\":{\"id\":\"c727b0b8-814d-4de7-97f4-a8f4e944c6d0\",\"type\":\"Segment\"},\"hover_glyph\":null,\"muted_glyph\":null,\"nonselection_glyph\":{\"id\":\"97b98997-7744-4cb4-98b3-99efd252bf12\",\"type\":\"Segment\"},\"selection_glyph\":null,\"view\":{\"id\":\"c7c48ce7-2830-4f04-ba41-6976e50231fb\",\"type\":\"CDSView\"}},\"id\":\"7b28d595-990e-49cb-8ffc-ebfca5b1fb3c\",\"type\":\"GlyphRenderer\"},{\"attributes\":{\"fill_alpha\":{\"value\":0.1},\"fill_color\":{\"value\":\"#1f77b4\"},\"line_alpha\":{\"value\":0.1},\"line_color\":{\"value\":\"#1f77b4\"},\"size\":{\"units\":\"screen\",\"value\":7},\"x\":{\"field\":\"x\"},\"y\":{\"field\":\"y\"}},\"id\":\"3bc13a0e-c883-4295-a73a-e38f0b2768ba\",\"type\":\"Circle\"},{\"attributes\":{\"data_source\":{\"id\":\"99a69621-28ba-4607-91b0-9d6a7507a0c7\",\"type\":\"ColumnDataSource\"},\"glyph\":{\"id\":\"592bbb48-e45b-4875-8459-c210cdaeb747\",\"type\":\"Circle\"},\"hover_glyph\":null,\"muted_glyph\":null,\"nonselection_glyph\":{\"id\":\"3bc13a0e-c883-4295-a73a-e38f0b2768ba\",\"type\":\"Circle\"},\"selection_glyph\":null,\"view\":{\"id\":\"2ecc678f-3c4d-45d2-b624-c95225f9d11c\",\"type\":\"CDSView\"}},\"id\":\"da0cdd5e-cd37-43c1-bb1f-c77a0e914d9a\",\"type\":\"GlyphRenderer\"},{\"attributes\":{\"source\":{\"id\":\"6cc6760c-04e3-45f7-8c61-c5f3aca4a29a\",\"type\":\"ColumnDataSource\"}},\"id\":\"c7c48ce7-2830-4f04-ba41-6976e50231fb\",\"type\":\"CDSView\"},{\"attributes\":{\"callback\":null,\"tooltips\":[[\"\",\"$y\"]]},\"id\":\"bd186f38-f014-40d9-a226-78e94ff07978\",\"type\":\"HoverTool\"},{\"attributes\":{\"callback\":null,\"column_names\":[\"x\",\"y\"],\"data\":{\"x\":[1,2,3,4,5,6,7,8,9,10,11,12,13,14,15,16,17,18,19,20,21],\"y\":{\"__ndarray__\":\"ZmZmZmZm5j8ehetRuB7tP4lBYOXQIu8/duCcEaW97z8jEK/rF+zvPz7rGi0H+u8/LOBUWjX+7z9AQ+Zndv/vPy0UxbjW/+8/QbnUnfP/7z9gBPNI/P/vPx1Or+L+/+8/ospnqv//7z9kVlLm///vP7jmS/j//+8/0V6w/f//7z/Ygk7////vP9rAyv///+8/qAbw////7z8yNfv////vP/aP/v///+8/\",\"dtype\":\"float64\",\"shape\":[21]}}},\"id\":\"cb7fa777-223b-4bb8-93fc-236d7b0aabd6\",\"type\":\"ColumnDataSource\"},{\"attributes\":{},\"id\":\"7c64f775-1de7-4626-a335-dd9e76203d61\",\"type\":\"LinearScale\"},{\"attributes\":{\"source\":{\"id\":\"99a69621-28ba-4607-91b0-9d6a7507a0c7\",\"type\":\"ColumnDataSource\"}},\"id\":\"2ecc678f-3c4d-45d2-b624-c95225f9d11c\",\"type\":\"CDSView\"},{\"attributes\":{},\"id\":\"3925fbc4-054f-4b4f-8b2f-fd1de4a08d5e\",\"type\":\"BasicTickFormatter\"},{\"attributes\":{\"plot\":null,\"text\":\"\"},\"id\":\"f0cb39b5-1419-472a-a57e-cce96eacb146\",\"type\":\"Title\"},{\"attributes\":{\"fill_alpha\":{\"value\":0.1},\"fill_color\":{\"value\":\"#1f77b4\"},\"line_alpha\":{\"value\":0.1},\"line_color\":{\"value\":\"#1f77b4\"},\"size\":{\"units\":\"screen\",\"value\":7},\"x\":{\"field\":\"x\"},\"y\":{\"field\":\"y\"}},\"id\":\"f888b9ac-5e65-474d-8265-e590a0631760\",\"type\":\"Circle\"},{\"attributes\":{\"callback\":null,\"column_names\":[\"x0\",\"x1\",\"y1\"],\"data\":{\"x0\":[1,2,3,4,5,6,7,8,9,10,11,12,13,14,15,16,17,18,19,20,21],\"x1\":[1,2,3,4,5,6,7,8,9,10,11,12,13,14,15,16,17,18,19,20,21],\"y1\":{\"__ndarray__\":\"MzMzMzMz0z/hehSuR+HKPzaJQWDl0MI/fybChqdXuj+MtFTejnCyP/YvEATI0Kk/LLtxnCUSoj/X0jgOm0yZP8nGJ72ftZE/TRae1RLLiD/PQoiV81qBP4hdWNEhTHg/eEEkrBcCcT+oW8y9us9nP/UMD7gCq2A/V0VIm9BVVz8jyuWfq1VQP/0aqKxW3kY/5BLceAkCQD8/5wB2QGk2P1fdmgsnYC8/\",\"dtype\":\"float64\",\"shape\":[21]}}},\"id\":\"6f9c8aa2-5517-48b3-91d6-9e2de5aac7c5\",\"type\":\"ColumnDataSource\"},{\"attributes\":{\"below\":[{\"id\":\"976d5a13-a163-45c0-8f2f-80b925e8d863\",\"type\":\"LinearAxis\"}],\"left\":[{\"id\":\"871b1518-be97-4a3c-96c5-f975f4a49829\",\"type\":\"LinearAxis\"}],\"plot_height\":300,\"plot_width\":400,\"renderers\":[{\"id\":\"976d5a13-a163-45c0-8f2f-80b925e8d863\",\"type\":\"LinearAxis\"},{\"id\":\"745cafac-9cda-4276-bcdc-1724dfec975c\",\"type\":\"Grid\"},{\"id\":\"871b1518-be97-4a3c-96c5-f975f4a49829\",\"type\":\"LinearAxis\"},{\"id\":\"07f8cd4f-df20-48fd-893c-c69ee49465d8\",\"type\":\"Grid\"},{\"id\":\"da0cdd5e-cd37-43c1-bb1f-c77a0e914d9a\",\"type\":\"GlyphRenderer\"},{\"id\":\"437695b8-8e24-498f-897c-5e60f2920126\",\"type\":\"GlyphRenderer\"}],\"title\":{\"id\":\"f0cb39b5-1419-472a-a57e-cce96eacb146\",\"type\":\"Title\"},\"toolbar\":{\"id\":\"bd32790d-0949-45bc-bd44-fada97c2b7c2\",\"type\":\"Toolbar\"},\"x_range\":{\"id\":\"140c8a45-b4cc-4125-9962-3ccd10c08ad6\",\"type\":\"DataRange1d\"},\"x_scale\":{\"id\":\"db8dbb4f-a7c6-4c4c-8a19-97f62327d6e2\",\"type\":\"LinearScale\"},\"y_range\":{\"id\":\"81f99808-dd29-4391-8b39-04541346af5e\",\"type\":\"Range1d\"},\"y_scale\":{\"id\":\"cc3f245f-d756-4cfc-98fd-e8df387b0981\",\"type\":\"LinearScale\"}},\"id\":\"ec357c7e-5330-4b79-82ed-0e2f0672141b\",\"subtype\":\"Figure\",\"type\":\"Plot\"},{\"attributes\":{},\"id\":\"8fdaac2c-f926-471f-9ea6-12911fd82fa5\",\"type\":\"BasicTickFormatter\"},{\"attributes\":{\"active_drag\":\"auto\",\"active_inspect\":\"auto\",\"active_scroll\":\"auto\",\"active_tap\":\"auto\",\"tools\":[{\"id\":\"dbb25bf1-d92d-4cba-a5ca-215d625d77f4\",\"type\":\"PanTool\"},{\"id\":\"12de8b0c-4e8e-4a15-88e0-e38c78c2b8e5\",\"type\":\"WheelZoomTool\"},{\"id\":\"806708e1-34c8-4150-81c7-87e154083573\",\"type\":\"ResetTool\"},{\"id\":\"60bf3e2a-6078-4bfb-9f28-b4e5a11a5df6\",\"type\":\"SaveTool\"}]},\"id\":\"5b952e99-f8c9-423e-873d-209e623342e2\",\"type\":\"Toolbar\"},{\"attributes\":{\"below\":[{\"id\":\"b639a5a7-2fde-4bfa-b504-fd8e2ce5163d\",\"type\":\"LinearAxis\"}],\"left\":[{\"id\":\"3754b3ad-c1da-4bae-9892-db57ed5fa6d6\",\"type\":\"LinearAxis\"}],\"plot_height\":300,\"plot_width\":400,\"renderers\":[{\"id\":\"b639a5a7-2fde-4bfa-b504-fd8e2ce5163d\",\"type\":\"LinearAxis\"},{\"id\":\"cfb9f45c-6ec2-4196-8d6f-45f16baa5807\",\"type\":\"Grid\"},{\"id\":\"3754b3ad-c1da-4bae-9892-db57ed5fa6d6\",\"type\":\"LinearAxis\"},{\"id\":\"fd5f57ad-e2b9-4b71-9eb6-f5738be0330f\",\"type\":\"Grid\"},{\"id\":\"74484f4c-5741-4808-bd3f-534dc87b0640\",\"type\":\"Legend\"},{\"id\":\"4cef78d3-3d11-4fab-86ef-96a90c325212\",\"type\":\"GlyphRenderer\"},{\"id\":\"00e7554d-0057-4c49-9936-ac9c62be03c9\",\"type\":\"GlyphRenderer\"},{\"id\":\"3bc76307-28e8-4820-b8e2-263a7233df7e\",\"type\":\"GlyphRenderer\"},{\"id\":\"7b28d595-990e-49cb-8ffc-ebfca5b1fb3c\",\"type\":\"GlyphRenderer\"}],\"title\":{\"id\":\"86b7c8e1-51e3-4808-9a6e-3103fed32a03\",\"type\":\"Title\"},\"toolbar\":{\"id\":\"5b952e99-f8c9-423e-873d-209e623342e2\",\"type\":\"Toolbar\"},\"x_range\":{\"id\":\"140c8a45-b4cc-4125-9962-3ccd10c08ad6\",\"type\":\"DataRange1d\"},\"x_scale\":{\"id\":\"9cabbf88-82db-429b-afa9-7a1719f3b7b2\",\"type\":\"LinearScale\"},\"y_range\":{\"id\":\"57a6e6ce-c383-4d34-8e1d-e1363b9475d4\",\"type\":\"DataRange1d\"},\"y_scale\":{\"id\":\"7c64f775-1de7-4626-a335-dd9e76203d61\",\"type\":\"LinearScale\"}},\"id\":\"f3b7edf1-e7a7-4dc4-b9cf-5ddf0945b97d\",\"subtype\":\"Figure\",\"type\":\"Plot\"},{\"attributes\":{\"source\":{\"id\":\"cb7fa777-223b-4bb8-93fc-236d7b0aabd6\",\"type\":\"ColumnDataSource\"}},\"id\":\"1fc915fc-b9e4-40cc-ba44-531d2baa54da\",\"type\":\"CDSView\"},{\"attributes\":{\"callback\":null},\"id\":\"57a6e6ce-c383-4d34-8e1d-e1363b9475d4\",\"type\":\"DataRange1d\"},{\"attributes\":{\"data_source\":{\"id\":\"cb7fa777-223b-4bb8-93fc-236d7b0aabd6\",\"type\":\"ColumnDataSource\"},\"glyph\":{\"id\":\"463846c4-7997-4b36-998a-5afb6ab58354\",\"type\":\"Circle\"},\"hover_glyph\":null,\"muted_glyph\":null,\"nonselection_glyph\":{\"id\":\"f888b9ac-5e65-474d-8265-e590a0631760\",\"type\":\"Circle\"},\"selection_glyph\":null,\"view\":{\"id\":\"1fc915fc-b9e4-40cc-ba44-531d2baa54da\",\"type\":\"CDSView\"}},\"id\":\"437695b8-8e24-498f-897c-5e60f2920126\",\"type\":\"GlyphRenderer\"},{\"attributes\":{\"children\":[{\"id\":\"f3b7edf1-e7a7-4dc4-b9cf-5ddf0945b97d\",\"subtype\":\"Figure\",\"type\":\"Plot\"},{\"id\":\"ec357c7e-5330-4b79-82ed-0e2f0672141b\",\"subtype\":\"Figure\",\"type\":\"Plot\"}]},\"id\":\"afa953e0-5175-41a5-803a-73f53d844364\",\"type\":\"Row\"}],\"root_ids\":[\"afa953e0-5175-41a5-803a-73f53d844364\"]},\"title\":\"Bokeh Application\",\"version\":\"0.12.13\"}};\n",
       "  var render_items = [{\"docid\":\"13e1d1f3-282d-4d5a-9bd7-91afef8f03de\",\"elementid\":\"dfa2f57c-20e7-4ec7-975a-f415efc04e8d\",\"modelid\":\"afa953e0-5175-41a5-803a-73f53d844364\"}];\n",
       "  root.Bokeh.embed.embed_items_notebook(docs_json, render_items);\n",
       "\n",
       "  }\n",
       "  if (root.Bokeh !== undefined) {\n",
       "    embed_document(root);\n",
       "  } else {\n",
       "    var attempts = 0;\n",
       "    var timer = setInterval(function(root) {\n",
       "      if (root.Bokeh !== undefined) {\n",
       "        embed_document(root);\n",
       "        clearInterval(timer);\n",
       "      }\n",
       "      attempts++;\n",
       "      if (attempts > 100) {\n",
       "        console.log(\"Bokeh: ERROR: Unable to run BokehJS code because BokehJS library is missing\")\n",
       "        clearInterval(timer);\n",
       "      }\n",
       "    }, 10, root)\n",
       "  }\n",
       "})(window);"
      ],
      "application/vnd.bokehjs_exec.v0+json": ""
     },
     "metadata": {
      "application/vnd.bokehjs_exec.v0+json": {
       "id": "afa953e0-5175-41a5-803a-73f53d844364"
      }
     },
     "output_type": "display_data"
    }
   ],
   "source": [
    "k = np.arange(21)+1\n",
    "p1 = 0.30\n",
    "p2 = 0.70\n",
    "\n",
    "# Tools for plots\n",
    "tools='pan,wheel_zoom,reset,save'\n",
    "\n",
    "# Set up plots\n",
    "fig_1 = Figure(width=400, height=300, tools=tools, title=\"Geometric Distribution\")\n",
    "fig_2 = Figure(width=400, height=300, tools=[tools,HoverTool(tooltips=[\n",
    "                (\"\", \"$y\")\n",
    "                ])], \n",
    "               y_range=[-0.05, 1.05])\n",
    "\n",
    "fig_1.xaxis.axis_label = 'k'\n",
    "fig_1.yaxis.axis_label = 'f(k,p)' \n",
    "\n",
    "fig_2.xaxis.axis_label = 'k'\n",
    "fig_2.yaxis.axis_label = 'F(k,p)'\n",
    "\n",
    "# Figure #1\n",
    "y1 = geom.pmf(k,p1)\n",
    "fig_1.circle(k, y1, size=7, color='dodgerblue',legend=\"p=0.30\")\n",
    "fig_1.segment(x0=k, x1=k, y0=0, y1=y1, line_width=3, \n",
    "              color='dodgerblue', legend=\"p=0.30\")\n",
    "\n",
    "y2 = geom.pmf(k,p2)\n",
    "fig_1.circle(k, y2, size=7, color='red',legend=\"p=0.70\")\n",
    "fig_1.segment(x0=k, x1=k, y0=0, y1=y2, line_width=3, \n",
    "              color='red', legend=\"p=0.70\")\n",
    "\n",
    "fig_1.legend.location = \"top_right\"\n",
    "fig_1.legend.click_policy=\"hide\"\n",
    "\n",
    "#Figure #2\n",
    "y3 = geom.cdf(k,p1)\n",
    "fig_2.circle(k, y3, size=7, color='dodgerblue')\n",
    "\n",
    "y4 = geom.cdf(k,p2)\n",
    "fig_2.circle(k, y4, size=7, color='red')\n",
    "\n",
    "# Link the x-axes\n",
    "fig_1.x_range = fig_2.x_range\n",
    "\n",
    "\n",
    "show(row([fig_1, fig_2]))"
   ]
  },
  {
   "cell_type": "markdown",
   "metadata": {},
   "source": [
    "# Continuous Distribution"
   ]
  },
  {
   "cell_type": "markdown",
   "metadata": {},
   "source": [
    "## Uniform distribution\n",
    "\n",
    "$$\n",
    "\\begin{eqnarray*}\n",
    "P(X = x)  \\Leftrightarrow  f(x)  & = &\n",
    "\\begin{cases}\n",
    "               \\displaystyle \\frac{1}{b-a} \\ \\ \\ a \\leq x \\leq b\\\\\n",
    "               \\textrm{caso contrário}\n",
    "\\end{cases}\\\\\n",
    "P(X \\leq x)  \\Leftrightarrow  F(x)  & = &\n",
    "\\begin{cases}\n",
    "               0 \\ \\ \\ \\ \\ \\ \\ \\  x \\leq a\\\\\n",
    "               \\frac{x-a}{b-a} \\ \\ \\ a \\leq x \\leq b\\\\\n",
    "               1 \\ \\ \\ \\ \\ \\ \\  x \\geq b\n",
    "\\end{cases}\n",
    "\\end{eqnarray*}\n",
    "$$"
   ]
  },
  {
   "cell_type": "code",
   "execution_count": 42,
   "metadata": {},
   "outputs": [
    {
     "data": {
      "text/html": [
       "\n",
       "<div class=\"bk-root\">\n",
       "    <div class=\"bk-plotdiv\" id=\"cd123fb3-89ab-4b76-a908-26156e5d2cb5\"></div>\n",
       "</div>"
      ]
     },
     "metadata": {},
     "output_type": "display_data"
    },
    {
     "data": {
      "application/javascript": [
       "(function(root) {\n",
       "  function embed_document(root) {\n",
       "    \n",
       "  var docs_json = {\"4a293a6f-ee83-4673-8f3a-69e8afdf7a6a\":{\"roots\":{\"references\":[{\"attributes\":{},\"id\":\"6b3854f8-fbea-4dfe-81c3-b217234cd2a6\",\"type\":\"PanTool\"},{\"attributes\":{},\"id\":\"fc72676a-166b-4dd5-877a-fe4a0d59e8cb\",\"type\":\"WheelZoomTool\"},{\"attributes\":{},\"id\":\"902f193c-31be-4915-83ac-1712f4761df8\",\"type\":\"BasicTicker\"},{\"attributes\":{\"axis_label\":\"f(x,(2,7))\",\"formatter\":{\"id\":\"b6aa0f1e-9c14-4037-8228-4da78f300d9c\",\"type\":\"BasicTickFormatter\"},\"plot\":{\"id\":\"1776ce4e-4b37-46f2-9396-777db22355da\",\"subtype\":\"Figure\",\"type\":\"Plot\"},\"ticker\":{\"id\":\"66a5647c-8ba4-4fca-9d4a-9ea8b2599108\",\"type\":\"BasicTicker\"}},\"id\":\"949f11ba-e3bb-442c-b83c-bdabf7aea1f1\",\"type\":\"LinearAxis\"},{\"attributes\":{\"data_source\":{\"id\":\"d04a9f58-a416-484c-ad3f-2c8d9983c364\",\"type\":\"ColumnDataSource\"},\"glyph\":{\"id\":\"c0e959e0-f4e0-418e-90a9-51e44201426b\",\"type\":\"Line\"},\"hover_glyph\":null,\"muted_glyph\":null,\"nonselection_glyph\":{\"id\":\"daad9449-3089-43ad-b060-e23fdc999332\",\"type\":\"Line\"},\"selection_glyph\":null,\"view\":{\"id\":\"8a3560ee-cb05-40bb-ad74-0ee9711aadde\",\"type\":\"CDSView\"}},\"id\":\"844817d4-4813-4067-a5dd-760b93c62081\",\"type\":\"GlyphRenderer\"},{\"attributes\":{\"below\":[{\"id\":\"e9a99a82-533b-462a-ba73-38ed8b9e74d5\",\"type\":\"LinearAxis\"}],\"left\":[{\"id\":\"ed3c2ae5-1cdc-474f-b33a-47a37e4e2c2d\",\"type\":\"LinearAxis\"}],\"plot_height\":300,\"plot_width\":400,\"renderers\":[{\"id\":\"e9a99a82-533b-462a-ba73-38ed8b9e74d5\",\"type\":\"LinearAxis\"},{\"id\":\"61926dbc-dba7-4359-af38-b41b91a9e1c9\",\"type\":\"Grid\"},{\"id\":\"ed3c2ae5-1cdc-474f-b33a-47a37e4e2c2d\",\"type\":\"LinearAxis\"},{\"id\":\"80cf87b0-f61e-437e-ba70-180a0c752f52\",\"type\":\"Grid\"},{\"id\":\"1e93b892-9a8f-48ba-8602-7c7f251a2c8b\",\"type\":\"Legend\"},{\"id\":\"844817d4-4813-4067-a5dd-760b93c62081\",\"type\":\"GlyphRenderer\"}],\"title\":{\"id\":\"10edbf00-40ae-4153-8f30-c3beeb35264d\",\"type\":\"Title\"},\"toolbar\":{\"id\":\"11db39ab-46f7-4680-86d2-ffe3bc90fc96\",\"type\":\"Toolbar\"},\"x_range\":{\"id\":\"bb535f11-2227-433c-9dcd-802c9f26d47d\",\"type\":\"Range1d\"},\"x_scale\":{\"id\":\"be21f439-007a-4219-8aae-f01581bb9bd3\",\"type\":\"LinearScale\"},\"y_range\":{\"id\":\"c9b0da3c-ad64-4f67-80ff-1bc8f195a5dd\",\"type\":\"Range1d\"},\"y_scale\":{\"id\":\"743475a4-8505-4cb5-9c14-aa848c60efef\",\"type\":\"LinearScale\"}},\"id\":\"421636fa-456d-4e7e-a689-9cf8104195ed\",\"subtype\":\"Figure\",\"type\":\"Plot\"},{\"attributes\":{\"label\":{\"value\":\"pdf\"},\"renderers\":[{\"id\":\"f323154c-7162-4078-a1ee-a8b88ac76353\",\"type\":\"GlyphRenderer\"}]},\"id\":\"5b04239c-5a18-4650-a32b-6bc6ec000657\",\"type\":\"LegendItem\"},{\"attributes\":{},\"id\":\"66a5647c-8ba4-4fca-9d4a-9ea8b2599108\",\"type\":\"BasicTicker\"},{\"attributes\":{\"click_policy\":\"hide\",\"items\":[{\"id\":\"5b04239c-5a18-4650-a32b-6bc6ec000657\",\"type\":\"LegendItem\"}],\"plot\":{\"id\":\"1776ce4e-4b37-46f2-9396-777db22355da\",\"subtype\":\"Figure\",\"type\":\"Plot\"}},\"id\":\"1f323e23-2aba-4868-937f-90f6f55cddfb\",\"type\":\"Legend\"},{\"attributes\":{\"dimension\":1,\"plot\":{\"id\":\"1776ce4e-4b37-46f2-9396-777db22355da\",\"subtype\":\"Figure\",\"type\":\"Plot\"},\"ticker\":{\"id\":\"66a5647c-8ba4-4fca-9d4a-9ea8b2599108\",\"type\":\"BasicTicker\"}},\"id\":\"02e42780-a5ec-4a8b-a4ba-0170c0d3b2bb\",\"type\":\"Grid\"},{\"attributes\":{\"callback\":null,\"end\":1.05,\"start\":-0.05},\"id\":\"c9b0da3c-ad64-4f67-80ff-1bc8f195a5dd\",\"type\":\"Range1d\"},{\"attributes\":{\"line_alpha\":0.1,\"line_color\":\"#1f77b4\",\"line_width\":3,\"x\":{\"field\":\"x\"},\"y\":{\"field\":\"y\"}},\"id\":\"26d5873f-984d-4998-9d90-b0a2261981d0\",\"type\":\"Line\"},{\"attributes\":{},\"id\":\"d06fa797-dc73-43a1-b6bb-c1a704602be4\",\"type\":\"ResetTool\"},{\"attributes\":{},\"id\":\"23695435-a001-4bc6-8e76-585820463fc3\",\"type\":\"ResetTool\"},{\"attributes\":{\"callback\":null,\"column_names\":[\"x\",\"y\"],\"data\":{\"x\":{\"__ndarray__\":\"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\",\"dtype\":\"float64\",\"shape\":[200]},\"y\":{\"__ndarray__\":\"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\",\"dtype\":\"float64\",\"shape\":[200]}}},\"id\":\"d04a9f58-a416-484c-ad3f-2c8d9983c364\",\"type\":\"ColumnDataSource\"},{\"attributes\":{},\"id\":\"f9233015-8fd0-4799-becf-fd0bf82aa64f\",\"type\":\"SaveTool\"},{\"attributes\":{\"callback\":null,\"end\":20},\"id\":\"bb535f11-2227-433c-9dcd-802c9f26d47d\",\"type\":\"Range1d\"},{\"attributes\":{},\"id\":\"b6aa0f1e-9c14-4037-8228-4da78f300d9c\",\"type\":\"BasicTickFormatter\"},{\"attributes\":{},\"id\":\"baaee11f-d5ac-42fa-9474-8f1ff6a198be\",\"type\":\"WheelZoomTool\"},{\"attributes\":{\"source\":{\"id\":\"d04a9f58-a416-484c-ad3f-2c8d9983c364\",\"type\":\"ColumnDataSource\"}},\"id\":\"8a3560ee-cb05-40bb-ad74-0ee9711aadde\",\"type\":\"CDSView\"},{\"attributes\":{\"plot\":{\"id\":\"421636fa-456d-4e7e-a689-9cf8104195ed\",\"subtype\":\"Figure\",\"type\":\"Plot\"},\"ticker\":{\"id\":\"9cccbb95-dda5-4f31-96a2-3eced883fc77\",\"type\":\"BasicTicker\"}},\"id\":\"61926dbc-dba7-4359-af38-b41b91a9e1c9\",\"type\":\"Grid\"},{\"attributes\":{},\"id\":\"11923b86-2db3-4e73-874d-f07b33b28181\",\"type\":\"BasicTicker\"},{\"attributes\":{\"line_alpha\":0.1,\"line_color\":\"#1f77b4\",\"line_width\":3,\"x\":{\"field\":\"x\"},\"y\":{\"field\":\"y\"}},\"id\":\"daad9449-3089-43ad-b060-e23fdc999332\",\"type\":\"Line\"},{\"attributes\":{\"source\":{\"id\":\"013edf59-10d2-44b4-8bfe-9b1b6a019e7e\",\"type\":\"ColumnDataSource\"}},\"id\":\"ea3ae47d-dfb9-4ddc-b0fc-96f37bbe5c4a\",\"type\":\"CDSView\"},{\"attributes\":{\"line_color\":\"dodgerblue\",\"line_width\":3,\"x\":{\"field\":\"x\"},\"y\":{\"field\":\"y\"}},\"id\":\"c0e959e0-f4e0-418e-90a9-51e44201426b\",\"type\":\"Line\"},{\"attributes\":{\"callback\":null,\"tooltips\":[[\"\",\"$y\"]]},\"id\":\"a5f0e5d6-d56d-4470-a274-41d8bffffad0\",\"type\":\"HoverTool\"},{\"attributes\":{\"items\":[{\"id\":\"927ccb86-80c6-4d6a-9d43-2a9ec7a204b2\",\"type\":\"LegendItem\"}],\"location\":\"bottom_right\",\"plot\":{\"id\":\"421636fa-456d-4e7e-a689-9cf8104195ed\",\"subtype\":\"Figure\",\"type\":\"Plot\"}},\"id\":\"1e93b892-9a8f-48ba-8602-7c7f251a2c8b\",\"type\":\"Legend\"},{\"attributes\":{},\"id\":\"b96c32fd-359f-4080-8e1f-ffd71b19af6e\",\"type\":\"SaveTool\"},{\"attributes\":{\"plot\":null,\"text\":\"Uniform Distribution\"},\"id\":\"69cb4404-489c-4d56-8c0e-94c562246c93\",\"type\":\"Title\"},{\"attributes\":{},\"id\":\"d60782ee-22a8-4846-8319-7fbb087a533d\",\"type\":\"BasicTickFormatter\"},{\"attributes\":{},\"id\":\"3b7303cf-04f6-4b8a-a976-e3e3c58f9dea\",\"type\":\"BasicTickFormatter\"},{\"attributes\":{},\"id\":\"c549f3bf-7c54-4418-84fe-47719cf8151c\",\"type\":\"BasicTickFormatter\"},{\"attributes\":{\"below\":[{\"id\":\"fc45ed2e-a525-4ea3-9092-797969a4dd6c\",\"type\":\"LinearAxis\"}],\"left\":[{\"id\":\"949f11ba-e3bb-442c-b83c-bdabf7aea1f1\",\"type\":\"LinearAxis\"}],\"plot_height\":300,\"plot_width\":400,\"renderers\":[{\"id\":\"fc45ed2e-a525-4ea3-9092-797969a4dd6c\",\"type\":\"LinearAxis\"},{\"id\":\"6cf26cc2-dc17-4965-b62e-a344b7ecbe73\",\"type\":\"Grid\"},{\"id\":\"949f11ba-e3bb-442c-b83c-bdabf7aea1f1\",\"type\":\"LinearAxis\"},{\"id\":\"02e42780-a5ec-4a8b-a4ba-0170c0d3b2bb\",\"type\":\"Grid\"},{\"id\":\"1f323e23-2aba-4868-937f-90f6f55cddfb\",\"type\":\"Legend\"},{\"id\":\"f323154c-7162-4078-a1ee-a8b88ac76353\",\"type\":\"GlyphRenderer\"}],\"title\":{\"id\":\"69cb4404-489c-4d56-8c0e-94c562246c93\",\"type\":\"Title\"},\"toolbar\":{\"id\":\"7a771da5-cb90-4822-875c-495979ac6b8a\",\"type\":\"Toolbar\"},\"x_range\":{\"id\":\"a0e5d40e-667c-4c3d-932d-4b06b937969d\",\"type\":\"Range1d\"},\"x_scale\":{\"id\":\"f3d2aa22-438c-4aaa-b9bd-e3f3358ce761\",\"type\":\"LinearScale\"},\"y_range\":{\"id\":\"2ed64715-8c90-4552-9dd0-bdabad705783\",\"type\":\"DataRange1d\"},\"y_scale\":{\"id\":\"8561c37f-bd72-495b-8b20-3e82d5e69fb9\",\"type\":\"LinearScale\"}},\"id\":\"1776ce4e-4b37-46f2-9396-777db22355da\",\"subtype\":\"Figure\",\"type\":\"Plot\"},{\"attributes\":{\"active_drag\":\"auto\",\"active_inspect\":\"auto\",\"active_scroll\":\"auto\",\"active_tap\":\"auto\",\"tools\":[{\"id\":\"1cd4e8be-88fe-42cf-81a8-b34c98a8014c\",\"type\":\"HoverTool\"},{\"id\":\"9685a694-317e-4835-9cfe-43313c02f6fa\",\"type\":\"PanTool\"},{\"id\":\"fc72676a-166b-4dd5-877a-fe4a0d59e8cb\",\"type\":\"WheelZoomTool\"},{\"id\":\"d06fa797-dc73-43a1-b6bb-c1a704602be4\",\"type\":\"ResetTool\"},{\"id\":\"b96c32fd-359f-4080-8e1f-ffd71b19af6e\",\"type\":\"SaveTool\"}]},\"id\":\"11db39ab-46f7-4680-86d2-ffe3bc90fc96\",\"type\":\"Toolbar\"},{\"attributes\":{},\"id\":\"be21f439-007a-4219-8aae-f01581bb9bd3\",\"type\":\"LinearScale\"},{\"attributes\":{\"label\":{\"value\":\"cdf\"},\"renderers\":[{\"id\":\"844817d4-4813-4067-a5dd-760b93c62081\",\"type\":\"GlyphRenderer\"}]},\"id\":\"927ccb86-80c6-4d6a-9d43-2a9ec7a204b2\",\"type\":\"LegendItem\"},{\"attributes\":{\"dimension\":1,\"plot\":{\"id\":\"421636fa-456d-4e7e-a689-9cf8104195ed\",\"subtype\":\"Figure\",\"type\":\"Plot\"},\"ticker\":{\"id\":\"11923b86-2db3-4e73-874d-f07b33b28181\",\"type\":\"BasicTicker\"}},\"id\":\"80cf87b0-f61e-437e-ba70-180a0c752f52\",\"type\":\"Grid\"},{\"attributes\":{\"callback\":null,\"tooltips\":[[\"\",\"$y\"]]},\"id\":\"1cd4e8be-88fe-42cf-81a8-b34c98a8014c\",\"type\":\"HoverTool\"},{\"attributes\":{\"axis_label\":\"F(x,(2,7))\",\"formatter\":{\"id\":\"d60782ee-22a8-4846-8319-7fbb087a533d\",\"type\":\"BasicTickFormatter\"},\"plot\":{\"id\":\"421636fa-456d-4e7e-a689-9cf8104195ed\",\"subtype\":\"Figure\",\"type\":\"Plot\"},\"ticker\":{\"id\":\"11923b86-2db3-4e73-874d-f07b33b28181\",\"type\":\"BasicTicker\"}},\"id\":\"ed3c2ae5-1cdc-474f-b33a-47a37e4e2c2d\",\"type\":\"LinearAxis\"},{\"attributes\":{},\"id\":\"8561c37f-bd72-495b-8b20-3e82d5e69fb9\",\"type\":\"LinearScale\"},{\"attributes\":{\"children\":[{\"id\":\"1776ce4e-4b37-46f2-9396-777db22355da\",\"subtype\":\"Figure\",\"type\":\"Plot\"},{\"id\":\"421636fa-456d-4e7e-a689-9cf8104195ed\",\"subtype\":\"Figure\",\"type\":\"Plot\"}]},\"id\":\"bbcaaa6e-ce64-4162-a79f-4ca084f2417a\",\"type\":\"Row\"},{\"attributes\":{\"plot\":null,\"text\":\"\"},\"id\":\"10edbf00-40ae-4153-8f30-c3beeb35264d\",\"type\":\"Title\"},{\"attributes\":{\"axis_label\":\"x\",\"formatter\":{\"id\":\"3b7303cf-04f6-4b8a-a976-e3e3c58f9dea\",\"type\":\"BasicTickFormatter\"},\"plot\":{\"id\":\"1776ce4e-4b37-46f2-9396-777db22355da\",\"subtype\":\"Figure\",\"type\":\"Plot\"},\"ticker\":{\"id\":\"902f193c-31be-4915-83ac-1712f4761df8\",\"type\":\"BasicTicker\"}},\"id\":\"fc45ed2e-a525-4ea3-9092-797969a4dd6c\",\"type\":\"LinearAxis\"},{\"attributes\":{},\"id\":\"743475a4-8505-4cb5-9c14-aa848c60efef\",\"type\":\"LinearScale\"},{\"attributes\":{\"callback\":null},\"id\":\"2ed64715-8c90-4552-9dd0-bdabad705783\",\"type\":\"DataRange1d\"},{\"attributes\":{},\"id\":\"9685a694-317e-4835-9cfe-43313c02f6fa\",\"type\":\"PanTool\"},{\"attributes\":{\"plot\":{\"id\":\"1776ce4e-4b37-46f2-9396-777db22355da\",\"subtype\":\"Figure\",\"type\":\"Plot\"},\"ticker\":{\"id\":\"902f193c-31be-4915-83ac-1712f4761df8\",\"type\":\"BasicTicker\"}},\"id\":\"6cf26cc2-dc17-4965-b62e-a344b7ecbe73\",\"type\":\"Grid\"},{\"attributes\":{\"data_source\":{\"id\":\"013edf59-10d2-44b4-8bfe-9b1b6a019e7e\",\"type\":\"ColumnDataSource\"},\"glyph\":{\"id\":\"8880cba5-42b7-496b-bd03-129bc85387b4\",\"type\":\"Line\"},\"hover_glyph\":null,\"muted_glyph\":null,\"nonselection_glyph\":{\"id\":\"26d5873f-984d-4998-9d90-b0a2261981d0\",\"type\":\"Line\"},\"selection_glyph\":null,\"view\":{\"id\":\"ea3ae47d-dfb9-4ddc-b0fc-96f37bbe5c4a\",\"type\":\"CDSView\"}},\"id\":\"f323154c-7162-4078-a1ee-a8b88ac76353\",\"type\":\"GlyphRenderer\"},{\"attributes\":{\"callback\":null,\"column_names\":[\"x\",\"y\"],\"data\":{\"x\":{\"__ndarray__\":\"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\",\"dtype\":\"float64\",\"shape\":[200]},\"y\":{\"__ndarray__\":\"AAAAAAAAAAAAAAAAAAAAAAAAAAAAAAAAAAAAAAAAAAAAAAAAAAAAAAAAAAAAAAAAAAAAAAAAAAAAAAAAAAAAAAAAAAAAAAAAAAAAAAAAAAAAAAAAAAAAAAAAAAAAAAAAAAAAAAAAAAAAAAAAAAAAAAAAAAAAAAAAAAAAAAAAAAAAAAAAAAAAAAAAAAAAAAAAAAAAAAAAAAAAAAAAAAAAAJqZmZmZmck/mpmZmZmZyT+amZmZmZnJP5qZmZmZmck/mpmZmZmZyT+amZmZmZnJP5qZmZmZmck/mpmZmZmZyT+amZmZmZnJP5qZmZmZmck/mpmZmZmZyT+amZmZmZnJP5qZmZmZmck/mpmZmZmZyT+amZmZmZnJP5qZmZmZmck/mpmZmZmZyT+amZmZmZnJP5qZmZmZmck/mpmZmZmZyT+amZmZmZnJP5qZmZmZmck/mpmZmZmZyT+amZmZmZnJP5qZmZmZmck/mpmZmZmZyT+amZmZmZnJP5qZmZmZmck/mpmZmZmZyT+amZmZmZnJP5qZmZmZmck/mpmZmZmZyT+amZmZmZnJP5qZmZmZmck/mpmZmZmZyT+amZmZmZnJP5qZmZmZmck/mpmZmZmZyT+amZmZmZnJP5qZmZmZmck/mpmZmZmZyT+amZmZmZnJP5qZmZmZmck/mpmZmZmZyT+amZmZmZnJP5qZmZmZmck/mpmZmZmZyT+amZmZmZnJP5qZmZmZmck/mpmZmZmZyT8AAAAAAAAAAAAAAAAAAAAAAAAAAAAAAAAAAAAAAAAAAAAAAAAAAAAAAAAAAAAAAAAAAAAAAAAAAAAAAAAAAAAAAAAAAAAAAAAAAAAAAAAAAAAAAAAAAAAAAAAAAAAAAAAAAAAAAAAAAAAAAAAAAAAAAAAAAAAAAAAAAAAAAAAAAAAAAAAAAAAAAAAAAAAAAAAAAAAAAAAAAAAAAAAAAAAAAAAAAAAAAAAAAAAAAAAAAAAAAAAAAAAAAAAAAAAAAAAAAAAAAAAAAAAAAAAAAAAAAAAAAAAAAAAAAAAAAAAAAAAAAAAAAAAAAAAAAAAAAAAAAAAAAAAAAAAAAAAAAAAAAAAAAAAAAAAAAAAAAAAAAAAAAAAAAAAAAAAAAAAAAAAAAAAAAAAAAAAAAAAAAAAAAAAAAAAAAAAAAAAAAAAAAAAAAAAAAAAAAAAAAAAAAAAAAAAAAAAAAAAAAAAAAAAAAAAAAAAAAAAAAAAAAAAAAAAAAAAAAAAAAAAAAAAAAAAAAAAAAAAAAAAAAAAAAAAAAAAAAAAAAAAAAAAAAAAAAAAAAAAAAAAAAAAAAAAAAAAAAAAAAAAAAAAAAAAAAAAAAAAAAAAAAAAAAAAAAAAAAAAAAAAAAAAAAAAAAAAAAAAAAAAAAAAAAAAAAAAAAAAAAAAAAAAAAAAAAAAAAAAAAAAAAAAAAAAAAAAAAAAAAAAAAAAAAAAAAAAAAAAAAAAAAAAAAAAAAAAAAAAAAAAAAAAAAAAAAAAAAAAAAAAAAAAAAAAAAAAAAAAAAAAAAAAAAAAAAAAAAAAAAAAAAAAAAAAAAAAAAAAAAAAAAAAAAAAAAAAAAAAAAAAAAAAAAAAAAAAAAAAAAAAAAAAAAAAAAAAAAAAAAAAAAAAAAAAAAAAAAAAAAAAAAAAAAAAAAAAAAAAAAAAAAAAAAAAAAAAAAAAAAAAAAAAAAAAAAAAAAAAAAAAAAAAAAAAAAAAAAAAAAAAAAAAAAAAAAAAAAAAAAAAAAAAAAAAAAAAAAAAAAAAAAAAAAAAAAAAAAAAAAAAAAAAAAAAAAAAAAAAAAAAAAAAAAAAAAAAAAAAAAAAAAAAAAAAAAAAAAAAAAAAAAAAAAAAAAAAAAAAAAAAAAAAAAAAAAAAAAAAAAAAAAAAAAAAAAAAAAAAAAAAAAAAAAAAAAAAAAAAAAAAAAAAAAAAAAAAAAAAAAAAAAAAAAAAAAAAAAAAAAAAAAAAAAAAAAAAAAAAAAAAAAAAAAAAAAAAAAAAAAAAAAAAAAAAAAAAAAAAAAAAAAAAAAAAAAAAAAAAAAAAAAAAAAAAAAAAAAAAAAAAAAAAAAAAAAAAAAAAAAAAAAAAAAAAAAAAAAAAAAAAAAAAAAAAAAAAAAAAAAAAAAA==\",\"dtype\":\"float64\",\"shape\":[200]}}},\"id\":\"013edf59-10d2-44b4-8bfe-9b1b6a019e7e\",\"type\":\"ColumnDataSource\"},{\"attributes\":{\"callback\":null,\"end\":20},\"id\":\"a0e5d40e-667c-4c3d-932d-4b06b937969d\",\"type\":\"Range1d\"},{\"attributes\":{},\"id\":\"9cccbb95-dda5-4f31-96a2-3eced883fc77\",\"type\":\"BasicTicker\"},{\"attributes\":{\"line_color\":\"dodgerblue\",\"line_width\":3,\"x\":{\"field\":\"x\"},\"y\":{\"field\":\"y\"}},\"id\":\"8880cba5-42b7-496b-bd03-129bc85387b4\",\"type\":\"Line\"},{\"attributes\":{\"axis_label\":\"x\",\"formatter\":{\"id\":\"c549f3bf-7c54-4418-84fe-47719cf8151c\",\"type\":\"BasicTickFormatter\"},\"plot\":{\"id\":\"421636fa-456d-4e7e-a689-9cf8104195ed\",\"subtype\":\"Figure\",\"type\":\"Plot\"},\"ticker\":{\"id\":\"9cccbb95-dda5-4f31-96a2-3eced883fc77\",\"type\":\"BasicTicker\"}},\"id\":\"e9a99a82-533b-462a-ba73-38ed8b9e74d5\",\"type\":\"LinearAxis\"},{\"attributes\":{},\"id\":\"f3d2aa22-438c-4aaa-b9bd-e3f3358ce761\",\"type\":\"LinearScale\"},{\"attributes\":{\"active_drag\":\"auto\",\"active_inspect\":\"auto\",\"active_scroll\":\"auto\",\"active_tap\":\"auto\",\"tools\":[{\"id\":\"a5f0e5d6-d56d-4470-a274-41d8bffffad0\",\"type\":\"HoverTool\"},{\"id\":\"6b3854f8-fbea-4dfe-81c3-b217234cd2a6\",\"type\":\"PanTool\"},{\"id\":\"baaee11f-d5ac-42fa-9474-8f1ff6a198be\",\"type\":\"WheelZoomTool\"},{\"id\":\"23695435-a001-4bc6-8e76-585820463fc3\",\"type\":\"ResetTool\"},{\"id\":\"f9233015-8fd0-4799-becf-fd0bf82aa64f\",\"type\":\"SaveTool\"}]},\"id\":\"7a771da5-cb90-4822-875c-495979ac6b8a\",\"type\":\"Toolbar\"}],\"root_ids\":[\"bbcaaa6e-ce64-4162-a79f-4ca084f2417a\"]},\"title\":\"Bokeh Application\",\"version\":\"0.12.13\"}};\n",
       "  var render_items = [{\"docid\":\"4a293a6f-ee83-4673-8f3a-69e8afdf7a6a\",\"elementid\":\"cd123fb3-89ab-4b76-a908-26156e5d2cb5\",\"modelid\":\"bbcaaa6e-ce64-4162-a79f-4ca084f2417a\"}];\n",
       "  root.Bokeh.embed.embed_items_notebook(docs_json, render_items);\n",
       "\n",
       "  }\n",
       "  if (root.Bokeh !== undefined) {\n",
       "    embed_document(root);\n",
       "  } else {\n",
       "    var attempts = 0;\n",
       "    var timer = setInterval(function(root) {\n",
       "      if (root.Bokeh !== undefined) {\n",
       "        embed_document(root);\n",
       "        clearInterval(timer);\n",
       "      }\n",
       "      attempts++;\n",
       "      if (attempts > 100) {\n",
       "        console.log(\"Bokeh: ERROR: Unable to run BokehJS code because BokehJS library is missing\")\n",
       "        clearInterval(timer);\n",
       "      }\n",
       "    }, 10, root)\n",
       "  }\n",
       "})(window);"
      ],
      "application/vnd.bokehjs_exec.v0+json": ""
     },
     "metadata": {
      "application/vnd.bokehjs_exec.v0+json": {
       "id": "bbcaaa6e-ce64-4162-a79f-4ca084f2417a"
      }
     },
     "output_type": "display_data"
    }
   ],
   "source": [
    "from scipy.stats import uniform\n",
    "\n",
    "x = np.linspace(0, 20, 200)\n",
    "\n",
    "# Tools for plots\n",
    "tools='pan,wheel_zoom,reset,save'\n",
    "\n",
    "# Set up plots\n",
    "fig_1 = Figure(width=400, height=300, tools=[tools,HoverTool(tooltips=[\n",
    "                (\"\", \"$y\")\n",
    "                ])], title=\"Uniform Distribution\",x_range=(0, 20))\n",
    "fig_2 = Figure(width=400, height=300, tools=[tools,HoverTool(tooltips=[\n",
    "                (\"\", \"$y\")\n",
    "                ])], \n",
    "               y_range=[-0.05, 1.05],x_range=(0, 20))\n",
    "\n",
    "fig_1.xaxis.axis_label = 'x'\n",
    "fig_1.yaxis.axis_label = 'f(x,(2,7))' \n",
    "\n",
    "fig_2.xaxis.axis_label = 'x'\n",
    "fig_2.yaxis.axis_label = 'F(x,(2,7))'\n",
    "\n",
    "# Figure #1\n",
    "y1 = uniform.pdf(x,2,5)\n",
    "fig_1.line(x, y1, line_width=3, color='dodgerblue',legend=\"pdf\")\n",
    "\n",
    "fig_1.legend.location = \"top_right\"\n",
    "fig_1.legend.click_policy=\"hide\"\n",
    "\n",
    "#Figure #2\n",
    "y2 = uniform.cdf(x,2,5)\n",
    "fig_2.line(x, y2, line_width=3, color='dodgerblue',legend=\"cdf\")\n",
    "fig_2.legend.location = \"bottom_right\"\n",
    "\n",
    "show(row([fig_1, fig_2]))"
   ]
  },
  {
   "cell_type": "markdown",
   "metadata": {},
   "source": [
    "## Exponential Distribution"
   ]
  },
  {
   "cell_type": "markdown",
   "metadata": {},
   "source": [
    "$$\n",
    "\\begin{eqnarray*}\n",
    "P(X = x)  \\Leftrightarrow  f(x,\\lambda)  & = &\n",
    "\\begin{cases}\n",
    "               \\displaystyle \\lambda e^{-\\lambda x} \\ \\ \\ x \\geq 0\\\\\n",
    "               0 \\ \\ \\ \\textrm{caso contrário}\n",
    "\\end{cases}\\\\\n",
    "P(X \\leq x)  \\Leftrightarrow  F(x,\\lambda)  & = &\n",
    "\\begin{cases}\n",
    "               1 - e^{-\\lambda x} \\ \\ \\  x \\geq 0\\\\ \n",
    "               0 \\ \\ \\ \\textrm{caso contrário}\n",
    "\\end{cases}\n",
    "\\end{eqnarray*}\n",
    "$$"
   ]
  },
  {
   "cell_type": "code",
   "execution_count": 43,
   "metadata": {},
   "outputs": [
    {
     "data": {
      "text/html": [
       "\n",
       "<div class=\"bk-root\">\n",
       "    <div class=\"bk-plotdiv\" id=\"518f3a2d-0ccc-4c53-867c-309cfa53036b\"></div>\n",
       "</div>"
      ]
     },
     "metadata": {},
     "output_type": "display_data"
    },
    {
     "data": {
      "application/javascript": [
       "(function(root) {\n",
       "  function embed_document(root) {\n",
       "    \n",
       "  var docs_json = {\"721832b6-4f98-4ac0-9db7-1c1c6a8df8c0\":{\"roots\":{\"references\":[{\"attributes\":{\"line_color\":\"green\",\"line_width\":3,\"x\":{\"field\":\"x\"},\"y\":{\"field\":\"y\"}},\"id\":\"587a48c0-78ac-4c68-89b2-99b171c62bfa\",\"type\":\"Line\"},{\"attributes\":{\"callback\":null,\"column_names\":[\"x\",\"y\"],\"data\":{\"x\":{\"__ndarray__\":\"AAAAAAAAAACFn1yIuhkUQIWfXIi6GSRASO+KzJcmLkCFn1yIuhk0QGbHcyopIDlASO+KzJcmPkCUC1E3g5ZBQIWfXIi6GURAdjNo2fGcRkBmx3MqKSBJQFdbf3tgo0tASO+KzJcmTkCcQcuO51RQQJQLUTeDllFAjdXW3x7YUkCFn1yIuhlUQH1p4jBWW1VAdjNo2fGcVkBu/e2Bjd5XQGbHcyopIFlAX5H50sRhWkBXW397YKNbQE8lBST85FxASO+KzJcmXkBAuRB1M2hfQJxBy47nVGBAmCYOY7X1YECUC1E3g5ZhQJHwkwtRN2JAjdXW3x7YYkCJuhm07HhjQIWfXIi6GWRAgYSfXIi6ZEB9aeIwVltlQHlOJQUk/GVAdjNo2fGcZkByGKutvz1nQG797YGN3mdAauIwVlt/aEBmx3MqKSBpQGKstv72wGlAX5H50sRhakBbdjynkgJrQFdbf3tgo2tAU0DCTy5EbEBPJQUk/ORsQEsKSPjJhW1ASO+KzJcmbkBE1M2gZcduQEC5EHUzaG9AHs+ppIAEcECcQcuO51RwQBq07HhOpXBAmCYOY7X1cEAWmS9NHEZxQJQLUTeDlnFAEn5yIermcUCR8JMLUTdyQA9jtfW3h3JAjdXW3x7YckALSPjJhShzQIm6GbTseHNABy07nlPJc0CFn1yIuhl0QAMSfnIhanRAgYSfXIi6dED/9sBG7wp1QH1p4jBWW3VA+9sDG72rdUB5TiUFJPx1QPjARu+KTHZAdjNo2fGcdkD0pYnDWO12QHIYq62/PXdA8IrMlyaOd0Bu/e2Bjd53QOxvD2z0LnhAauIwVlt/eEDoVFJAws94QGbHcyopIHlA5DmVFJBweUBirLb+9sB5QOAe2OhdEXpAX5H50sRhekDdAxu9K7J6QFt2PKeSAntA2ehdkflSe0BXW397YKN7QNXNoGXH83tAU0DCTy5EfEDRsuM5lZR8QE8lBST85HxAzZcmDmM1fUBLCkj4yYV9QMl8aeIw1n1ASO+KzJcmfkDGYay2/nZ+QETUzaBlx35AwkbviswXf0BAuRB1M2h/QL4rMl+auH9AHs+ppIAEgEBdiLoZtCyAQJxBy47nVIBA2/rbAxt9gEAatOx4TqWAQFlt/e2BzYBAmCYOY7X1gEDX3x7Y6B2BQBaZL00cRoFAVVJAwk9ugUCUC1E3g5aBQNPEYay2voFAEn5yIermgUBRN4OWHQ+CQJHwkwtRN4JA0KmkgIRfgkAPY7X1t4eCQE4cxmrrr4JAjdXW3x7YgkDMjudUUgCDQAtI+MmFKINASgEJP7lQg0CJuhm07HiDQMhzKikgoYNABy07nlPJg0BG5ksTh/GDQIWfXIi6GYRAxFht/e1BhEADEn5yIWqEQELLjudUkoRAgYSfXIi6hEDAPbDRu+KEQP/2wEbvCoVAPrDRuyIzhUB9aeIwVluFQLwi86WJg4VA+9sDG72rhUA6lRSQ8NOFQHlOJQUk/IVAuQc2elckhkD4wEbvikyGQDd6V2S+dIZAdjNo2fGchkC17HhOJcWGQPSlicNY7YZAM1+aOIwVh0ByGKutvz2HQLHRuyLzZYdA8IrMlyaOh0AvRN0MWraHQG797YGN3odArbb+9sAGiEDsbw9s9C6IQCspIOEnV4hAauIwVlt/iECpm0HLjqeIQOhUUkDCz4hAJw5jtfX3iEBmx3MqKSCJQKWAhJ9cSIlA5DmVFJBwiUAj86WJw5iJQGKstv72wIlAoWXHcyrpiUDgHtjoXRGKQCDY6F2ROYpAX5H50sRhikCeSgpI+ImKQN0DG70rsopAHL0rMl/aikBbdjynkgKLQJovTRzGKotA2ehdkflSi0AYom4GLXuLQFdbf3tgo4tAlhSQ8JPLi0DVzaBlx/OLQBSHsdr6G4xAU0DCTy5EjECS+dLEYWyMQNGy4zmVlIxAEGz0rsi8jEBPJQUk/OSMQI7eFZkvDY1AzZcmDmM1jUAMUTeDll2NQEsKSPjJhY1AisNYbf2tjUDJfGniMNaNQAg2eldk/o1ASO+KzJcmjkCHqJtBy06OQMZhrLb+do5ABRu9KzKfjkBE1M2gZceOQION3hWZ745AwkbviswXj0AAAAAAAECPQA==\",\"dtype\":\"float64\",\"shape\":[200]},\"y\":{\"__ndarray__\":\"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\",\"dtype\":\"float64\",\"shape\":[200]}}},\"id\":\"23ceafd7-b9a4-4a25-ba21-d2b780646ec7\",\"type\":\"ColumnDataSource\"},{\"attributes\":{\"line_alpha\":0.1,\"line_color\":\"#1f77b4\",\"line_width\":3,\"x\":{\"field\":\"x\"},\"y\":{\"field\":\"y\"}},\"id\":\"8b2e28fd-eba2-4685-89c2-e107b3231217\",\"type\":\"Line\"},{\"attributes\":{\"data_source\":{\"id\":\"27fbb619-dbdc-4946-8200-a84cac84bd93\",\"type\":\"ColumnDataSource\"},\"glyph\":{\"id\":\"587a48c0-78ac-4c68-89b2-99b171c62bfa\",\"type\":\"Line\"},\"hover_glyph\":null,\"muted_glyph\":null,\"nonselection_glyph\":{\"id\":\"8b2e28fd-eba2-4685-89c2-e107b3231217\",\"type\":\"Line\"},\"selection_glyph\":null,\"view\":{\"id\":\"f71559fe-1cf3-45b2-b264-a8b446ce820e\",\"type\":\"CDSView\"}},\"id\":\"7e84ec56-7087-43bc-86da-f330bf2b7bb7\",\"type\":\"GlyphRenderer\"},{\"attributes\":{\"source\":{\"id\":\"27fbb619-dbdc-4946-8200-a84cac84bd93\",\"type\":\"ColumnDataSource\"}},\"id\":\"f71559fe-1cf3-45b2-b264-a8b446ce820e\",\"type\":\"CDSView\"},{\"attributes\":{\"line_color\":\"dodgerblue\",\"line_width\":3,\"x\":{\"field\":\"x\"},\"y\":{\"field\":\"y\"}},\"id\":\"c9e8d130-d8d1-444c-a130-64de89380c86\",\"type\":\"Line\"},{\"attributes\":{\"label\":{\"value\":\"\\u03bb=0.0002\"},\"renderers\":[{\"id\":\"7e84ec56-7087-43bc-86da-f330bf2b7bb7\",\"type\":\"GlyphRenderer\"}]},\"id\":\"60c9d7bd-4f21-4eb1-9c1d-ed032ae7e71d\",\"type\":\"LegendItem\"},{\"attributes\":{\"line_alpha\":0.1,\"line_color\":\"#1f77b4\",\"line_width\":3,\"x\":{\"field\":\"x\"},\"y\":{\"field\":\"y\"}},\"id\":\"83cf7692-939f-40e5-8e03-53fb2cb71f78\",\"type\":\"Line\"},{\"attributes\":{},\"id\":\"09ecccf3-d05f-4d04-a8b5-afee6cc858de\",\"type\":\"BasicTickFormatter\"},{\"attributes\":{\"source\":{\"id\":\"23ceafd7-b9a4-4a25-ba21-d2b780646ec7\",\"type\":\"ColumnDataSource\"}},\"id\":\"d7cd3c64-f7f7-488b-a57e-2e4b5dc07c06\",\"type\":\"CDSView\"},{\"attributes\":{\"items\":[{\"id\":\"797ebe54-ee48-4a3d-ba30-afd2326112d0\",\"type\":\"LegendItem\"},{\"id\":\"4959b9ca-aef5-4587-aa75-e926bc400d45\",\"type\":\"LegendItem\"},{\"id\":\"511bc3e5-3a13-4d1f-b64d-0ed6d0337b04\",\"type\":\"LegendItem\"}],\"location\":\"bottom_right\",\"plot\":{\"id\":\"9bd5739e-c237-4e66-8c74-7821a041651d\",\"subtype\":\"Figure\",\"type\":\"Plot\"}},\"id\":\"ba638410-5693-47e4-8af1-c91c62c4a9e0\",\"type\":\"Legend\"},{\"attributes\":{\"data_source\":{\"id\":\"23ceafd7-b9a4-4a25-ba21-d2b780646ec7\",\"type\":\"ColumnDataSource\"},\"glyph\":{\"id\":\"c9e8d130-d8d1-444c-a130-64de89380c86\",\"type\":\"Line\"},\"hover_glyph\":null,\"muted_glyph\":null,\"nonselection_glyph\":{\"id\":\"83cf7692-939f-40e5-8e03-53fb2cb71f78\",\"type\":\"Line\"},\"selection_glyph\":null,\"view\":{\"id\":\"d7cd3c64-f7f7-488b-a57e-2e4b5dc07c06\",\"type\":\"CDSView\"}},\"id\":\"57b1a388-f1e0-417c-8258-4b1ff3511a1a\",\"type\":\"GlyphRenderer\"},{\"attributes\":{\"plot\":null,\"text\":\"\"},\"id\":\"19a64826-4408-488c-b197-9789abc30ad5\",\"type\":\"Title\"},{\"attributes\":{\"line_alpha\":0.1,\"line_color\":\"#1f77b4\",\"line_width\":3,\"x\":{\"field\":\"x\"},\"y\":{\"field\":\"y\"}},\"id\":\"f1f0df73-ee8c-4f8f-8e85-02e7cdc6ec1a\",\"type\":\"Line\"},{\"attributes\":{},\"id\":\"bb3bb579-31ea-43af-bf16-9185a178d696\",\"type\":\"BasicTickFormatter\"},{\"attributes\":{\"source\":{\"id\":\"126215b9-7c1d-4b8d-827e-c36c156ebe46\",\"type\":\"ColumnDataSource\"}},\"id\":\"cd090e79-bf50-489c-831e-77e996b68968\",\"type\":\"CDSView\"},{\"attributes\":{\"label\":{\"value\":\"\\u03bb=0.001\"},\"renderers\":[{\"id\":\"57b1a388-f1e0-417c-8258-4b1ff3511a1a\",\"type\":\"GlyphRenderer\"}]},\"id\":\"797ebe54-ee48-4a3d-ba30-afd2326112d0\",\"type\":\"LegendItem\"},{\"attributes\":{\"callback\":null,\"column_names\":[\"x\",\"y\"],\"data\":{\"x\":{\"__ndarray__\":\"AAAAAAAAAACFn1yIuhkUQIWfXIi6GSRASO+KzJcmLkCFn1yIuhk0QGbHcyopIDlASO+KzJcmPkCUC1E3g5ZBQIWfXIi6GURAdjNo2fGcRkBmx3MqKSBJQFdbf3tgo0tASO+KzJcmTkCcQcuO51RQQJQLUTeDllFAjdXW3x7YUkCFn1yIuhlUQH1p4jBWW1VAdjNo2fGcVkBu/e2Bjd5XQGbHcyopIFlAX5H50sRhWkBXW397YKNbQE8lBST85FxASO+KzJcmXkBAuRB1M2hfQJxBy47nVGBAmCYOY7X1YECUC1E3g5ZhQJHwkwtRN2JAjdXW3x7YYkCJuhm07HhjQIWfXIi6GWRAgYSfXIi6ZEB9aeIwVltlQHlOJQUk/GVAdjNo2fGcZkByGKutvz1nQG797YGN3mdAauIwVlt/aEBmx3MqKSBpQGKstv72wGlAX5H50sRhakBbdjynkgJrQFdbf3tgo2tAU0DCTy5EbEBPJQUk/ORsQEsKSPjJhW1ASO+KzJcmbkBE1M2gZcduQEC5EHUzaG9AHs+ppIAEcECcQcuO51RwQBq07HhOpXBAmCYOY7X1cEAWmS9NHEZxQJQLUTeDlnFAEn5yIermcUCR8JMLUTdyQA9jtfW3h3JAjdXW3x7YckALSPjJhShzQIm6GbTseHNABy07nlPJc0CFn1yIuhl0QAMSfnIhanRAgYSfXIi6dED/9sBG7wp1QH1p4jBWW3VA+9sDG72rdUB5TiUFJPx1QPjARu+KTHZAdjNo2fGcdkD0pYnDWO12QHIYq62/PXdA8IrMlyaOd0Bu/e2Bjd53QOxvD2z0LnhAauIwVlt/eEDoVFJAws94QGbHcyopIHlA5DmVFJBweUBirLb+9sB5QOAe2OhdEXpAX5H50sRhekDdAxu9K7J6QFt2PKeSAntA2ehdkflSe0BXW397YKN7QNXNoGXH83tAU0DCTy5EfEDRsuM5lZR8QE8lBST85HxAzZcmDmM1fUBLCkj4yYV9QMl8aeIw1n1ASO+KzJcmfkDGYay2/nZ+QETUzaBlx35AwkbviswXf0BAuRB1M2h/QL4rMl+auH9AHs+ppIAEgEBdiLoZtCyAQJxBy47nVIBA2/rbAxt9gEAatOx4TqWAQFlt/e2BzYBAmCYOY7X1gEDX3x7Y6B2BQBaZL00cRoFAVVJAwk9ugUCUC1E3g5aBQNPEYay2voFAEn5yIermgUBRN4OWHQ+CQJHwkwtRN4JA0KmkgIRfgkAPY7X1t4eCQE4cxmrrr4JAjdXW3x7YgkDMjudUUgCDQAtI+MmFKINASgEJP7lQg0CJuhm07HiDQMhzKikgoYNABy07nlPJg0BG5ksTh/GDQIWfXIi6GYRAxFht/e1BhEADEn5yIWqEQELLjudUkoRAgYSfXIi6hEDAPbDRu+KEQP/2wEbvCoVAPrDRuyIzhUB9aeIwVluFQLwi86WJg4VA+9sDG72rhUA6lRSQ8NOFQHlOJQUk/IVAuQc2elckhkD4wEbvikyGQDd6V2S+dIZAdjNo2fGchkC17HhOJcWGQPSlicNY7YZAM1+aOIwVh0ByGKutvz2HQLHRuyLzZYdA8IrMlyaOh0AvRN0MWraHQG797YGN3odArbb+9sAGiEDsbw9s9C6IQCspIOEnV4hAauIwVlt/iECpm0HLjqeIQOhUUkDCz4hAJw5jtfX3iEBmx3MqKSCJQKWAhJ9cSIlA5DmVFJBwiUAj86WJw5iJQGKstv72wIlAoWXHcyrpiUDgHtjoXRGKQCDY6F2ROYpAX5H50sRhikCeSgpI+ImKQN0DG70rsopAHL0rMl/aikBbdjynkgKLQJovTRzGKotA2ehdkflSi0AYom4GLXuLQFdbf3tgo4tAlhSQ8JPLi0DVzaBlx/OLQBSHsdr6G4xAU0DCTy5EjECS+dLEYWyMQNGy4zmVlIxAEGz0rsi8jEBPJQUk/OSMQI7eFZkvDY1AzZcmDmM1jUAMUTeDll2NQEsKSPjJhY1AisNYbf2tjUDJfGniMNaNQAg2eldk/o1ASO+KzJcmjkCHqJtBy06OQMZhrLb+do5ABRu9KzKfjkBE1M2gZceOQION3hWZ745AwkbviswXj0AAAAAAAECPQA==\",\"dtype\":\"float64\",\"shape\":[200]},\"y\":{\"__ndarray__\":\"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\",\"dtype\":\"float64\",\"shape\":[200]}}},\"id\":\"42d3580b-b2a2-4ceb-bceb-79766483719d\",\"type\":\"ColumnDataSource\"},{\"attributes\":{\"line_color\":\"red\",\"line_width\":3,\"x\":{\"field\":\"x\"},\"y\":{\"field\":\"y\"}},\"id\":\"dbc14adb-7b2d-4f6b-825c-98e0623ae355\",\"type\":\"Line\"},{\"attributes\":{\"below\":[{\"id\":\"3ce6fcb0-9909-4560-92f0-a89d7b7d3186\",\"type\":\"LinearAxis\"}],\"left\":[{\"id\":\"8b6f6630-ef11-49ed-bf98-354849215721\",\"type\":\"LinearAxis\"}],\"plot_height\":300,\"plot_width\":400,\"renderers\":[{\"id\":\"3ce6fcb0-9909-4560-92f0-a89d7b7d3186\",\"type\":\"LinearAxis\"},{\"id\":\"4a59d924-ce06-4e20-bc4e-c62a21d57320\",\"type\":\"Grid\"},{\"id\":\"8b6f6630-ef11-49ed-bf98-354849215721\",\"type\":\"LinearAxis\"},{\"id\":\"88b36aa0-cfbb-40af-a6a6-2a09a9639e61\",\"type\":\"Grid\"},{\"id\":\"bae753a9-0bd3-442c-8be4-d5355abf8c63\",\"type\":\"Legend\"},{\"id\":\"b198715a-7b48-4630-bbfa-0787a86f3a50\",\"type\":\"GlyphRenderer\"},{\"id\":\"a47a8c31-350b-44a0-a7db-b6e1ec758d0f\",\"type\":\"GlyphRenderer\"},{\"id\":\"7e84ec56-7087-43bc-86da-f330bf2b7bb7\",\"type\":\"GlyphRenderer\"}],\"title\":{\"id\":\"b58e8970-e1da-4d61-8b72-beab4e77ad6b\",\"type\":\"Title\"},\"toolbar\":{\"id\":\"aa06cc0c-4232-4a65-9965-1ff2ecfaa45b\",\"type\":\"Toolbar\"},\"x_range\":{\"id\":\"5e300a74-6c78-4238-8a03-99e9cbad6e14\",\"type\":\"DataRange1d\"},\"x_scale\":{\"id\":\"15965223-35f5-454d-a9b9-698618898e1c\",\"type\":\"LinearScale\"},\"y_range\":{\"id\":\"a643fe67-622c-4751-aaff-9e1e2b93a938\",\"type\":\"DataRange1d\"},\"y_scale\":{\"id\":\"a8787d24-2400-41ae-96de-7ab4f6add279\",\"type\":\"LinearScale\"}},\"id\":\"a4926dab-ac1e-4e50-8761-54a833aaedc5\",\"subtype\":\"Figure\",\"type\":\"Plot\"},{\"attributes\":{\"data_source\":{\"id\":\"126215b9-7c1d-4b8d-827e-c36c156ebe46\",\"type\":\"ColumnDataSource\"},\"glyph\":{\"id\":\"dbc14adb-7b2d-4f6b-825c-98e0623ae355\",\"type\":\"Line\"},\"hover_glyph\":null,\"muted_glyph\":null,\"nonselection_glyph\":{\"id\":\"f1f0df73-ee8c-4f8f-8e85-02e7cdc6ec1a\",\"type\":\"Line\"},\"selection_glyph\":null,\"view\":{\"id\":\"cd090e79-bf50-489c-831e-77e996b68968\",\"type\":\"CDSView\"}},\"id\":\"34efd1a4-3518-4b96-9302-04dd060e7e40\",\"type\":\"GlyphRenderer\"},{\"attributes\":{\"active_drag\":\"auto\",\"active_inspect\":\"auto\",\"active_scroll\":\"auto\",\"active_tap\":\"auto\",\"tools\":[{\"id\":\"328bc944-dc3d-4157-87e4-8ed357407430\",\"type\":\"HoverTool\"},{\"id\":\"9b52bfd4-4269-46c3-b75e-c53dc60b794c\",\"type\":\"PanTool\"},{\"id\":\"c10ba70a-16b9-425f-bc7c-58adf327cb5e\",\"type\":\"WheelZoomTool\"},{\"id\":\"9ec9cd79-bb86-44e5-b6f2-a192ac5495d2\",\"type\":\"ResetTool\"},{\"id\":\"d97b4ff2-8fcc-4822-b309-ccac7229435d\",\"type\":\"SaveTool\"}]},\"id\":\"bc3177d6-d550-4932-ba30-8a0ed2a3e1d2\",\"type\":\"Toolbar\"},{\"attributes\":{\"label\":{\"value\":\"\\u03bb=0.0001\"},\"renderers\":[{\"id\":\"34efd1a4-3518-4b96-9302-04dd060e7e40\",\"type\":\"GlyphRenderer\"}]},\"id\":\"4959b9ca-aef5-4587-aa75-e926bc400d45\",\"type\":\"LegendItem\"},{\"attributes\":{\"callback\":null,\"tooltips\":[[\"\",\"($x,$y)\"]]},\"id\":\"328bc944-dc3d-4157-87e4-8ed357407430\",\"type\":\"HoverTool\"},{\"attributes\":{\"plot\":null,\"text\":\"Exponential Distribution\"},\"id\":\"b58e8970-e1da-4d61-8b72-beab4e77ad6b\",\"type\":\"Title\"},{\"attributes\":{\"line_alpha\":0.1,\"line_color\":\"#1f77b4\",\"line_width\":3,\"x\":{\"field\":\"x\"},\"y\":{\"field\":\"y\"}},\"id\":\"2a19fa26-d028-4e63-a076-f65f728e619d\",\"type\":\"Line\"},{\"attributes\":{\"children\":[{\"id\":\"a4926dab-ac1e-4e50-8761-54a833aaedc5\",\"subtype\":\"Figure\",\"type\":\"Plot\"},{\"id\":\"9bd5739e-c237-4e66-8c74-7821a041651d\",\"subtype\":\"Figure\",\"type\":\"Plot\"}]},\"id\":\"a7e4fcbb-b4b7-4fa1-9d8d-941cbb663f4d\",\"type\":\"Row\"},{\"attributes\":{\"callback\":null,\"tooltips\":[[\"\",\"($x,$y)\"]]},\"id\":\"c689c18c-41df-4d41-beba-338a1802723e\",\"type\":\"HoverTool\"},{\"attributes\":{\"callback\":null},\"id\":\"5e300a74-6c78-4238-8a03-99e9cbad6e14\",\"type\":\"DataRange1d\"},{\"attributes\":{\"source\":{\"id\":\"42d3580b-b2a2-4ceb-bceb-79766483719d\",\"type\":\"ColumnDataSource\"}},\"id\":\"b4ce9038-e5d2-4ad5-aa90-c39af2d217a9\",\"type\":\"CDSView\"},{\"attributes\":{\"active_drag\":\"auto\",\"active_inspect\":\"auto\",\"active_scroll\":\"auto\",\"active_tap\":\"auto\",\"tools\":[{\"id\":\"c689c18c-41df-4d41-beba-338a1802723e\",\"type\":\"HoverTool\"},{\"id\":\"459db0f3-9757-471e-8480-c2ad9d878983\",\"type\":\"PanTool\"},{\"id\":\"4a8c095e-ec71-4cd4-a4dc-c67545a206e7\",\"type\":\"WheelZoomTool\"},{\"id\":\"a10d62a0-6cec-4f7d-8e53-474f2409bf22\",\"type\":\"ResetTool\"},{\"id\":\"629b3975-2f21-435f-a682-e9a671bcf35f\",\"type\":\"SaveTool\"}]},\"id\":\"aa06cc0c-4232-4a65-9965-1ff2ecfaa45b\",\"type\":\"Toolbar\"},{\"attributes\":{\"line_color\":\"green\",\"line_width\":3,\"x\":{\"field\":\"x\"},\"y\":{\"field\":\"y\"}},\"id\":\"5d10ee06-b25a-4f45-ae5d-6f70d5370844\",\"type\":\"Line\"},{\"attributes\":{\"data_source\":{\"id\":\"42d3580b-b2a2-4ceb-bceb-79766483719d\",\"type\":\"ColumnDataSource\"},\"glyph\":{\"id\":\"5d10ee06-b25a-4f45-ae5d-6f70d5370844\",\"type\":\"Line\"},\"hover_glyph\":null,\"muted_glyph\":null,\"nonselection_glyph\":{\"id\":\"2a19fa26-d028-4e63-a076-f65f728e619d\",\"type\":\"Line\"},\"selection_glyph\":null,\"view\":{\"id\":\"b4ce9038-e5d2-4ad5-aa90-c39af2d217a9\",\"type\":\"CDSView\"}},\"id\":\"76c0768a-b832-4538-a5df-9ce2b58547d3\",\"type\":\"GlyphRenderer\"},{\"attributes\":{\"line_alpha\":0.1,\"line_color\":\"#1f77b4\",\"line_width\":3,\"x\":{\"field\":\"x\"},\"y\":{\"field\":\"y\"}},\"id\":\"108ed42f-e360-4048-ada3-7ec2099fb70e\",\"type\":\"Line\"},{\"attributes\":{\"callback\":null},\"id\":\"a643fe67-622c-4751-aaff-9e1e2b93a938\",\"type\":\"DataRange1d\"},{\"attributes\":{\"label\":{\"value\":\"\\u03bb=0.0002\"},\"renderers\":[{\"id\":\"76c0768a-b832-4538-a5df-9ce2b58547d3\",\"type\":\"GlyphRenderer\"}]},\"id\":\"511bc3e5-3a13-4d1f-b64d-0ed6d0337b04\",\"type\":\"LegendItem\"},{\"attributes\":{},\"id\":\"15965223-35f5-454d-a9b9-698618898e1c\",\"type\":\"LinearScale\"},{\"attributes\":{},\"id\":\"a8787d24-2400-41ae-96de-7ab4f6add279\",\"type\":\"LinearScale\"},{\"attributes\":{\"plot\":{\"id\":\"a4926dab-ac1e-4e50-8761-54a833aaedc5\",\"subtype\":\"Figure\",\"type\":\"Plot\"},\"ticker\":{\"id\":\"0ddd7d5a-b7fa-4f69-9c0b-6eaea891f75d\",\"type\":\"BasicTicker\"}},\"id\":\"4a59d924-ce06-4e20-bc4e-c62a21d57320\",\"type\":\"Grid\"},{\"attributes\":{\"axis_label\":\"x\",\"formatter\":{\"id\":\"72d25cbb-677c-447d-a291-023e73cc66f1\",\"type\":\"BasicTickFormatter\"},\"plot\":{\"id\":\"a4926dab-ac1e-4e50-8761-54a833aaedc5\",\"subtype\":\"Figure\",\"type\":\"Plot\"},\"ticker\":{\"id\":\"0ddd7d5a-b7fa-4f69-9c0b-6eaea891f75d\",\"type\":\"BasicTicker\"}},\"id\":\"3ce6fcb0-9909-4560-92f0-a89d7b7d3186\",\"type\":\"LinearAxis\"},{\"attributes\":{},\"id\":\"0ddd7d5a-b7fa-4f69-9c0b-6eaea891f75d\",\"type\":\"BasicTicker\"},{\"attributes\":{\"axis_label\":\"f(x,\\u03bb)\",\"formatter\":{\"id\":\"299767a2-e07d-4986-b9f6-cffdc14ed2a2\",\"type\":\"BasicTickFormatter\"},\"plot\":{\"id\":\"a4926dab-ac1e-4e50-8761-54a833aaedc5\",\"subtype\":\"Figure\",\"type\":\"Plot\"},\"ticker\":{\"id\":\"068851af-1ab7-4175-b92e-5cb3d6f2241a\",\"type\":\"BasicTicker\"}},\"id\":\"8b6f6630-ef11-49ed-bf98-354849215721\",\"type\":\"LinearAxis\"},{\"attributes\":{},\"id\":\"068851af-1ab7-4175-b92e-5cb3d6f2241a\",\"type\":\"BasicTicker\"},{\"attributes\":{\"dimension\":1,\"plot\":{\"id\":\"a4926dab-ac1e-4e50-8761-54a833aaedc5\",\"subtype\":\"Figure\",\"type\":\"Plot\"},\"ticker\":{\"id\":\"068851af-1ab7-4175-b92e-5cb3d6f2241a\",\"type\":\"BasicTicker\"}},\"id\":\"88b36aa0-cfbb-40af-a6a6-2a09a9639e61\",\"type\":\"Grid\"},{\"attributes\":{\"below\":[{\"id\":\"90c943c6-3c3a-47d9-88d5-1c39d4321721\",\"type\":\"LinearAxis\"}],\"left\":[{\"id\":\"dff3b2bf-440a-4d31-add1-a6a373f2a2c1\",\"type\":\"LinearAxis\"}],\"plot_height\":300,\"plot_width\":400,\"renderers\":[{\"id\":\"90c943c6-3c3a-47d9-88d5-1c39d4321721\",\"type\":\"LinearAxis\"},{\"id\":\"dae521a3-af2b-440a-a288-08824540bce0\",\"type\":\"Grid\"},{\"id\":\"dff3b2bf-440a-4d31-add1-a6a373f2a2c1\",\"type\":\"LinearAxis\"},{\"id\":\"2f4bd1ea-bd60-4b83-9ffd-5a1bfd7a7d52\",\"type\":\"Grid\"},{\"id\":\"ba638410-5693-47e4-8af1-c91c62c4a9e0\",\"type\":\"Legend\"},{\"id\":\"57b1a388-f1e0-417c-8258-4b1ff3511a1a\",\"type\":\"GlyphRenderer\"},{\"id\":\"34efd1a4-3518-4b96-9302-04dd060e7e40\",\"type\":\"GlyphRenderer\"},{\"id\":\"76c0768a-b832-4538-a5df-9ce2b58547d3\",\"type\":\"GlyphRenderer\"}],\"title\":{\"id\":\"19a64826-4408-488c-b197-9789abc30ad5\",\"type\":\"Title\"},\"toolbar\":{\"id\":\"bc3177d6-d550-4932-ba30-8a0ed2a3e1d2\",\"type\":\"Toolbar\"},\"x_range\":{\"id\":\"203756d4-eeca-4f4f-802a-8de099f0f1fd\",\"type\":\"DataRange1d\"},\"x_scale\":{\"id\":\"b8786d5c-93a0-4bbc-896f-33d2d341f810\",\"type\":\"LinearScale\"},\"y_range\":{\"id\":\"098882b7-f88e-4b0e-84f0-4a6cbf23f411\",\"type\":\"Range1d\"},\"y_scale\":{\"id\":\"5dcdb912-7e8a-48af-90f7-a02a806a924d\",\"type\":\"LinearScale\"}},\"id\":\"9bd5739e-c237-4e66-8c74-7821a041651d\",\"subtype\":\"Figure\",\"type\":\"Plot\"},{\"attributes\":{\"line_color\":\"dodgerblue\",\"line_width\":3,\"x\":{\"field\":\"x\"},\"y\":{\"field\":\"y\"}},\"id\":\"5c6d562e-260c-478d-bfae-7b3e05af316b\",\"type\":\"Line\"},{\"attributes\":{\"callback\":null,\"end\":1.05,\"start\":-0.05},\"id\":\"098882b7-f88e-4b0e-84f0-4a6cbf23f411\",\"type\":\"Range1d\"},{\"attributes\":{},\"id\":\"459db0f3-9757-471e-8480-c2ad9d878983\",\"type\":\"PanTool\"},{\"attributes\":{},\"id\":\"4a8c095e-ec71-4cd4-a4dc-c67545a206e7\",\"type\":\"WheelZoomTool\"},{\"attributes\":{},\"id\":\"a10d62a0-6cec-4f7d-8e53-474f2409bf22\",\"type\":\"ResetTool\"},{\"attributes\":{},\"id\":\"629b3975-2f21-435f-a682-e9a671bcf35f\",\"type\":\"SaveTool\"},{\"attributes\":{\"callback\":null},\"id\":\"203756d4-eeca-4f4f-802a-8de099f0f1fd\",\"type\":\"DataRange1d\"},{\"attributes\":{},\"id\":\"5dcdb912-7e8a-48af-90f7-a02a806a924d\",\"type\":\"LinearScale\"},{\"attributes\":{},\"id\":\"b8786d5c-93a0-4bbc-896f-33d2d341f810\",\"type\":\"LinearScale\"},{\"attributes\":{\"plot\":{\"id\":\"9bd5739e-c237-4e66-8c74-7821a041651d\",\"subtype\":\"Figure\",\"type\":\"Plot\"},\"ticker\":{\"id\":\"c68c57c7-28eb-4939-9bdc-3c6eea3330b9\",\"type\":\"BasicTicker\"}},\"id\":\"dae521a3-af2b-440a-a288-08824540bce0\",\"type\":\"Grid\"},{\"attributes\":{\"axis_label\":\"x\",\"formatter\":{\"id\":\"bb3bb579-31ea-43af-bf16-9185a178d696\",\"type\":\"BasicTickFormatter\"},\"plot\":{\"id\":\"9bd5739e-c237-4e66-8c74-7821a041651d\",\"subtype\":\"Figure\",\"type\":\"Plot\"},\"ticker\":{\"id\":\"c68c57c7-28eb-4939-9bdc-3c6eea3330b9\",\"type\":\"BasicTicker\"}},\"id\":\"90c943c6-3c3a-47d9-88d5-1c39d4321721\",\"type\":\"LinearAxis\"},{\"attributes\":{},\"id\":\"c68c57c7-28eb-4939-9bdc-3c6eea3330b9\",\"type\":\"BasicTicker\"},{\"attributes\":{\"axis_label\":\"F(x,\\u03bb)\",\"formatter\":{\"id\":\"09ecccf3-d05f-4d04-a8b5-afee6cc858de\",\"type\":\"BasicTickFormatter\"},\"plot\":{\"id\":\"9bd5739e-c237-4e66-8c74-7821a041651d\",\"subtype\":\"Figure\",\"type\":\"Plot\"},\"ticker\":{\"id\":\"6c18baf6-4c4a-471e-a345-e122dd3d7fc0\",\"type\":\"BasicTicker\"}},\"id\":\"dff3b2bf-440a-4d31-add1-a6a373f2a2c1\",\"type\":\"LinearAxis\"},{\"attributes\":{},\"id\":\"6c18baf6-4c4a-471e-a345-e122dd3d7fc0\",\"type\":\"BasicTicker\"},{\"attributes\":{\"dimension\":1,\"plot\":{\"id\":\"9bd5739e-c237-4e66-8c74-7821a041651d\",\"subtype\":\"Figure\",\"type\":\"Plot\"},\"ticker\":{\"id\":\"6c18baf6-4c4a-471e-a345-e122dd3d7fc0\",\"type\":\"BasicTicker\"}},\"id\":\"2f4bd1ea-bd60-4b83-9ffd-5a1bfd7a7d52\",\"type\":\"Grid\"},{\"attributes\":{\"callback\":null,\"column_names\":[\"x\",\"y\"],\"data\":{\"x\":{\"__ndarray__\":\"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\",\"dtype\":\"float64\",\"shape\":[200]},\"y\":{\"__ndarray__\":\"exSuR+F6hD+Y7UPH7XmDP35PsxmShYI/izh2PzCdgT86QFf3McCAP/YslboQ3H8/XNsTHFdMfj9sJG+eNNB8PxTAn3ezZns/FB9m6ekOej8d8Seq+cd4P+reNVUPkXc/nYkc4mFpdj/FbqgiMlB1P0ClSEfKRHQ/nYWAaX1Gcz+FOxwcp1RyPzL33wCrbnE/FAFtY/STcD9EoDay64dvP+7uEstR/G0/JphPRxuEbD83Eg3mVB5rPx/1YlIXymk/aarMjYaGaD/NwOph0VJnP4HqPNkwLmY//C59vucXZT9RIkkiQg9kP+4HyuaUE2M/+KYQUT0kYj86Rt2foEBhP0/Hj6craGA/iFz+5aQ0Xz+/HPbRH61dP1OyeOzKOFw/BNUbd7XWWj/2ze9/+oVZP+Ayd03ARVg/wejf0TcVVz+oZyIlnPNVP4avsAUy4FQ/yJtiX0faUz9fTFHYMuFSP0YxV2NT9FE/VOvt1w8TUT+vrSaP1jxQP/Iv+go64k4/DUmPAr9eTT8mhBd7Qe5LP7wN/THTj0o/ITz7kZFCST/FQp0gpQVIP6kD6/JA2EY/HenpKKK5RT88HJxvD6lEP1yfLInYpUM/8NH62lWvQj9drzsB6MRBP8G26mf35UA/tdjH6PMRQD+IGEbcqJA+P5uOcjQtET0/OBXT5XykOz9RAhcjrEk6P0W7Z63a/zg/r1dqQzPGNz+ha1wX65s2P3LR8ktBgDU/06mld35yND+N8Bgu9HEzP/73VI/8fTI/h9+F3PmVMT/Kq/wRVrkwPw8cYAwFzy8/6kX8Gu8/Lj8PCedEaMQsP7bsvSR7Wys/JHj3Wz4EKj92m/77070oPwBEs/Zohyc/eFPzlTRgJj+dvdP5d0clP/HiNZ19PCQ/7Ftp4Jg+Iz88UY6ZJU0iP781cKqHZyE/h0CUmyqNID8MxHR4AnsfP1pFJY4K8B0/qcfXFm54HD/xwEc1OhMbPxwXRvOHvxk/Fg9jrHt8GD8v3+l/REkXP4MR0skbJRY/uGJPokQPFT+UEa1jCwcUP1+lJTbFCxM/LRBsoc8cEj9fwJ4jkDkRP9S0YM1zYRA/xvavxd0nDz+NV6gC+aANP4PnxJI8LQw/ikwvGrjLCj+y8LYEh3sJP+ZaBfLPOwg/lNYQKcQLBz8xiXISn+oFP/KISbml1wQ/S8RYUibSAz/QkBHJd9kCPwCNQFL57AE/3CQWBBIMAT8hgEdzMDYAP/PYD6qU1f4+5O87S7hS/T5b1bSm0eL7PjJJdNvyhPo+bCr9sDk4+T7fJxYFz/v3Plqer0DmzvY+YLOa07yw9T7II7y2maD0PjtvafTMnfM+VwWjNq+n8j5m5OFaob3xPkS0MgsM3/A+2tVbXF8L8D5xRJ7hJITuPrFcVkBGBe0+UbYlRiuZ6z53j0mG6D7qPubLvR2e9eg+rfZ5Ine85z5ygsYZqZLmPu1EUXVzd+U+74asFh9q5D59KOjY/WnjPl1K+B9qduI+Kq+gbcaO4T5el5/7fLLgPnyArLX+wd8+TdBgLowz3j6Slx7AoLjcPs/2/mlHUNs+41oHLZf52T4ur4J1srPYPv+zvIvGfdc+sdbCCwtX1j4xc9JjwT7VPtK3IFk0NNQ+ln+skrc20z6FXs4pp0XSPmnSPkBnYNE+FBJOm2OG0D70ohiIHm7PPrwDSVjI480+rD5drsVszD5AAIMQJAjLPvyyHef8tMk+RZSt53RyyD4qbgWHuz/HPqZGc3IKHMY+VtaED6UGxT5G2xQC2P7DPtJvUrj4A8M+MWh3/GQVwj7IZ+aLgjLBPsrdbLO+WsA+09TQ4Bsbvz7dsSQt15S9PqG0bfSyIbw+1hNBPb/Auj5x9wbRF3G5Pi1Wa6jjMbg+pCoKX1QCtz7NQ/ytpeG1PrFo7uwcz7Q+DL9wmQjKsz4hbTDkv9GyPhg/0UOi5bE+Mb4gDRcFsT7kml8QjS+wPiYvw3b0yK4+un+OgLZGrT7xaC+BZterPhhLB/kWeqo+apA6DOYtqT4TQqfw/PGnPiXcA2OPxaY+m5LMItunpT6Go6l0J5ikPh1//arElaM+BYtNtAugoj4KDzyvXbahPotxzYMj2KA+g1i2gc0EoD7lBecGpneePg==\",\"dtype\":\"float64\",\"shape\":[200]}}},\"id\":\"14875a3d-7326-4d85-baf6-941be5e6411d\",\"type\":\"ColumnDataSource\"},{\"attributes\":{\"click_policy\":\"hide\",\"items\":[{\"id\":\"f237d5a9-8f5c-4584-9bff-047d2f6c04fe\",\"type\":\"LegendItem\"},{\"id\":\"b7ef25dc-5f7a-4b17-94c4-4e6d51ebe930\",\"type\":\"LegendItem\"},{\"id\":\"60c9d7bd-4f21-4eb1-9c1d-ed032ae7e71d\",\"type\":\"LegendItem\"}],\"plot\":{\"id\":\"a4926dab-ac1e-4e50-8761-54a833aaedc5\",\"subtype\":\"Figure\",\"type\":\"Plot\"}},\"id\":\"bae753a9-0bd3-442c-8be4-d5355abf8c63\",\"type\":\"Legend\"},{\"attributes\":{},\"id\":\"72d25cbb-677c-447d-a291-023e73cc66f1\",\"type\":\"BasicTickFormatter\"},{\"attributes\":{},\"id\":\"9b52bfd4-4269-46c3-b75e-c53dc60b794c\",\"type\":\"PanTool\"},{\"attributes\":{\"source\":{\"id\":\"14875a3d-7326-4d85-baf6-941be5e6411d\",\"type\":\"ColumnDataSource\"}},\"id\":\"9d509360-089d-4c6a-baa8-17cf9c5c9588\",\"type\":\"CDSView\"},{\"attributes\":{\"callback\":null,\"column_names\":[\"x\",\"y\"],\"data\":{\"x\":{\"__ndarray__\":\"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\",\"dtype\":\"float64\",\"shape\":[200]},\"y\":{\"__ndarray__\":\"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\",\"dtype\":\"float64\",\"shape\":[200]}}},\"id\":\"a89eb9fd-7b3e-4a55-a3f8-f4f2397b0ae7\",\"type\":\"ColumnDataSource\"},{\"attributes\":{},\"id\":\"c10ba70a-16b9-425f-bc7c-58adf327cb5e\",\"type\":\"WheelZoomTool\"},{\"attributes\":{},\"id\":\"9ec9cd79-bb86-44e5-b6f2-a192ac5495d2\",\"type\":\"ResetTool\"},{\"attributes\":{},\"id\":\"d97b4ff2-8fcc-4822-b309-ccac7229435d\",\"type\":\"SaveTool\"},{\"attributes\":{\"data_source\":{\"id\":\"14875a3d-7326-4d85-baf6-941be5e6411d\",\"type\":\"ColumnDataSource\"},\"glyph\":{\"id\":\"5c6d562e-260c-478d-bfae-7b3e05af316b\",\"type\":\"Line\"},\"hover_glyph\":null,\"muted_glyph\":null,\"nonselection_glyph\":{\"id\":\"108ed42f-e360-4048-ada3-7ec2099fb70e\",\"type\":\"Line\"},\"selection_glyph\":null,\"view\":{\"id\":\"9d509360-089d-4c6a-baa8-17cf9c5c9588\",\"type\":\"CDSView\"}},\"id\":\"b198715a-7b48-4630-bbfa-0787a86f3a50\",\"type\":\"GlyphRenderer\"},{\"attributes\":{},\"id\":\"299767a2-e07d-4986-b9f6-cffdc14ed2a2\",\"type\":\"BasicTickFormatter\"},{\"attributes\":{\"line_color\":\"red\",\"line_width\":3,\"x\":{\"field\":\"x\"},\"y\":{\"field\":\"y\"}},\"id\":\"d658e936-5420-47fa-9b8f-cd6b06783d9b\",\"type\":\"Line\"},{\"attributes\":{\"label\":{\"value\":\"\\u03bb=0.001\"},\"renderers\":[{\"id\":\"b198715a-7b48-4630-bbfa-0787a86f3a50\",\"type\":\"GlyphRenderer\"}]},\"id\":\"f237d5a9-8f5c-4584-9bff-047d2f6c04fe\",\"type\":\"LegendItem\"},{\"attributes\":{\"source\":{\"id\":\"a89eb9fd-7b3e-4a55-a3f8-f4f2397b0ae7\",\"type\":\"ColumnDataSource\"}},\"id\":\"0368e526-9cc2-4be3-9eae-7039230142cc\",\"type\":\"CDSView\"},{\"attributes\":{\"line_alpha\":0.1,\"line_color\":\"#1f77b4\",\"line_width\":3,\"x\":{\"field\":\"x\"},\"y\":{\"field\":\"y\"}},\"id\":\"778af8b3-1d01-4fbf-ba6a-6ca222bb2f18\",\"type\":\"Line\"},{\"attributes\":{\"callback\":null,\"column_names\":[\"x\",\"y\"],\"data\":{\"x\":{\"__ndarray__\":\"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\",\"dtype\":\"float64\",\"shape\":[200]},\"y\":{\"__ndarray__\":\"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\",\"dtype\":\"float64\",\"shape\":[200]}}},\"id\":\"27fbb619-dbdc-4946-8200-a84cac84bd93\",\"type\":\"ColumnDataSource\"},{\"attributes\":{\"callback\":null,\"column_names\":[\"x\",\"y\"],\"data\":{\"x\":{\"__ndarray__\":\"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\",\"dtype\":\"float64\",\"shape\":[200]},\"y\":{\"__ndarray__\":\"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\",\"dtype\":\"float64\",\"shape\":[200]}}},\"id\":\"126215b9-7c1d-4b8d-827e-c36c156ebe46\",\"type\":\"ColumnDataSource\"},{\"attributes\":{\"label\":{\"value\":\"\\u03bb=0.0001\"},\"renderers\":[{\"id\":\"a47a8c31-350b-44a0-a7db-b6e1ec758d0f\",\"type\":\"GlyphRenderer\"}]},\"id\":\"b7ef25dc-5f7a-4b17-94c4-4e6d51ebe930\",\"type\":\"LegendItem\"},{\"attributes\":{\"data_source\":{\"id\":\"a89eb9fd-7b3e-4a55-a3f8-f4f2397b0ae7\",\"type\":\"ColumnDataSource\"},\"glyph\":{\"id\":\"d658e936-5420-47fa-9b8f-cd6b06783d9b\",\"type\":\"Line\"},\"hover_glyph\":null,\"muted_glyph\":null,\"nonselection_glyph\":{\"id\":\"778af8b3-1d01-4fbf-ba6a-6ca222bb2f18\",\"type\":\"Line\"},\"selection_glyph\":null,\"view\":{\"id\":\"0368e526-9cc2-4be3-9eae-7039230142cc\",\"type\":\"CDSView\"}},\"id\":\"a47a8c31-350b-44a0-a7db-b6e1ec758d0f\",\"type\":\"GlyphRenderer\"}],\"root_ids\":[\"a7e4fcbb-b4b7-4fa1-9d8d-941cbb663f4d\"]},\"title\":\"Bokeh Application\",\"version\":\"0.12.13\"}};\n",
       "  var render_items = [{\"docid\":\"721832b6-4f98-4ac0-9db7-1c1c6a8df8c0\",\"elementid\":\"518f3a2d-0ccc-4c53-867c-309cfa53036b\",\"modelid\":\"a7e4fcbb-b4b7-4fa1-9d8d-941cbb663f4d\"}];\n",
       "  root.Bokeh.embed.embed_items_notebook(docs_json, render_items);\n",
       "\n",
       "  }\n",
       "  if (root.Bokeh !== undefined) {\n",
       "    embed_document(root);\n",
       "  } else {\n",
       "    var attempts = 0;\n",
       "    var timer = setInterval(function(root) {\n",
       "      if (root.Bokeh !== undefined) {\n",
       "        embed_document(root);\n",
       "        clearInterval(timer);\n",
       "      }\n",
       "      attempts++;\n",
       "      if (attempts > 100) {\n",
       "        console.log(\"Bokeh: ERROR: Unable to run BokehJS code because BokehJS library is missing\")\n",
       "        clearInterval(timer);\n",
       "      }\n",
       "    }, 10, root)\n",
       "  }\n",
       "})(window);"
      ],
      "application/vnd.bokehjs_exec.v0+json": ""
     },
     "metadata": {
      "application/vnd.bokehjs_exec.v0+json": {
       "id": "a7e4fcbb-b4b7-4fa1-9d8d-941cbb663f4d"
      }
     },
     "output_type": "display_data"
    }
   ],
   "source": [
    "from scipy.stats import expon\n",
    "\n",
    "x = np.linspace(0, 1000, 200)\n",
    "lambda_1 = 0.01\n",
    "lambda_2 = 0.001\n",
    "lambda_3 = 0.002\n",
    "\n",
    "# Tools for plots\n",
    "tools='pan,wheel_zoom,reset,save'\n",
    "\n",
    "# Set up plots\n",
    "fig_1 = Figure(width=400, height=300, tools=[tools,HoverTool(tooltips=[\n",
    "                (\"\", \"($x,$y)\")\n",
    "                ])], title=\"Exponential Distribution\")\n",
    "fig_2 = Figure(width=400, height=300, tools=[tools,HoverTool(tooltips=[\n",
    "                (\"\", \"($x,$y)\")\n",
    "                ])], \n",
    "               y_range=[-0.05, 1.05])\n",
    "\n",
    "fig_1.xaxis.axis_label = 'x'\n",
    "fig_1.yaxis.axis_label = 'f(x,λ)' \n",
    "\n",
    "fig_2.xaxis.axis_label = 'x'\n",
    "fig_2.yaxis.axis_label = 'F(x,λ)'\n",
    "\n",
    "# Figure #1\n",
    "y1 = expon.pdf(x,scale=1/lambda_1)\n",
    "y2 = expon.pdf(x,scale=1/lambda_2)\n",
    "y3 = expon.pdf(x,scale=1/lambda_3)\n",
    "\n",
    "fig_1.line(x, y1, line_width=3, color='dodgerblue',legend=\"λ=0.001\")\n",
    "fig_1.line(x, y2, line_width=3, color='red',legend=\"λ=0.0001\")\n",
    "fig_1.line(x, y3, line_width=3, color='green',legend=\"λ=0.0002\")\n",
    "\n",
    "fig_1.legend.location = \"top_right\"\n",
    "fig_1.legend.click_policy=\"hide\"\n",
    "\n",
    "#Figure #2\n",
    "y4 = expon.cdf(x,scale=1/lambda_1)\n",
    "y5 = expon.cdf(x,scale=1/lambda_2)\n",
    "y6 = expon.cdf(x,scale=1/lambda_3)\n",
    "\n",
    "fig_2.line(x, y4, line_width=3, color='dodgerblue',legend=\"λ=0.001\")\n",
    "fig_2.line(x, y5, line_width=3, color='red',legend=\"λ=0.0001\")\n",
    "fig_2.line(x, y6, line_width=3, color='green',legend=\"λ=0.0002\")\n",
    "fig_2.legend.location = \"bottom_right\"\n",
    "\n",
    "show(row([fig_1, fig_2]))"
   ]
  },
  {
   "cell_type": "markdown",
   "metadata": {},
   "source": [
    "# References"
   ]
  },
  {
   "cell_type": "markdown",
   "metadata": {},
   "source": [
    "http://bebi103.caltech.edu.s3-website-us-east-1.amazonaws.com/2016/tutorials/t3b_probability_stories.html\n",
    "\n",
    "http://students.brown.edu/seeing-theory/probability-distributions/index.html#section1"
   ]
  }
 ],
 "metadata": {
  "kernelspec": {
   "display_name": "Python 3",
   "language": "python",
   "name": "python3"
  },
  "language_info": {
   "codemirror_mode": {
    "name": "ipython",
    "version": 3
   },
   "file_extension": ".py",
   "mimetype": "text/x-python",
   "name": "python",
   "nbconvert_exporter": "python",
   "pygments_lexer": "ipython3",
   "version": "3.6.4"
  }
 },
 "nbformat": 4,
 "nbformat_minor": 2
}
