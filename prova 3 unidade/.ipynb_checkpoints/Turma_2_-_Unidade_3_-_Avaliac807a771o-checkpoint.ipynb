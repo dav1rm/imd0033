{
 "cells": [
  {
   "cell_type": "markdown",
   "metadata": {},
   "source": [
    "## Turma 2 - Unidade 03 - Avaliação\n",
    "\n",
    "- **Aluno**: --preencher o nome completo--\n",
    "- **Matrícula**: --preencer com a matrícula--\n",
    "\n",
    "<br>\n",
    "<div class=\"alert alert-info\">\n",
    "<b>Avisos.</b>\n",
    "</div>\n",
    "\n",
    "1. O notebook deverá ser renomeado para o nome completo do aluno seguindo o formato: Ivanovitch_Medeiros_Dantas_da_Silva.ipynb\n",
    "2. Todas as questões devem ser respondidas através de códigos escritos em linguagem Python e no espaço destinado para esse fim. Criem células Markdown para destacar quando inicia e termina as questões. \n",
    "3. O notebook resultante deverá ser enviado através do Sigaa conforme tarefa cadastrada pelo professor. Ressalta-se que após o horário de final da aula, a submissão da tarefa estará fechada no Sigaa. \n",
    "4. Os arquivo das bases de dados não devem ser alterados. "
   ]
  },
  {
   "cell_type": "markdown",
   "metadata": {},
   "source": [
    "Desde 1930 a cada 04 anos temos a oportunidade de vivenciar um grande evento futebolístico, a [Copa do Mundo de Futebol](https://pt.wikipedia.org/wiki/Copa_do_Mundo_FIFA_de_2018). Nessa avaliação iremos analisar um pouco mais sobre os dados dessa competição."
   ]
  },
  {
   "cell_type": "code",
   "execution_count": 1,
   "metadata": {},
   "outputs": [],
   "source": [
    "import pandas as pd\n",
    "import matplotlib.pyplot as plt\n",
    "import seaborn as sns\n",
    "from scipy.stats import skew\n",
    "from scipy.stats import kurtosis\n",
    "from scipy.stats import binom\n",
    "%matplotlib inline\n",
    "\n",
    "sns.set()"
   ]
  },
  {
   "cell_type": "markdown",
   "metadata": {},
   "source": [
    "### 1. ( 4,0 pontos) \n",
    "Utilize nessa questão o conjunto de dados representado pelo arquivo \"CopaMundoGeral.csv\". A leitura correta do arquivo é parte da avaliação. No arquivo é possível perceber as seguintes colunas:\n",
    "\n",
    "- **Ano**: ano que a Copa do Mundo ocorreu.\n",
    "- **Organizador**: país que organizou o evento.\n",
    "- **Campeao, Vice, Terceiro, Quarto**: as principais colocações da Copa do Mundo.\n",
    "- **Gols**: número total de gols na competição.\n",
    "- **Numero\\_Selecoes**: quantidade de seleções participantes.\n",
    "- **Jogos_Disputados**: número de jogos disputados.\n",
    "- **Torcedores**: quantidade de torcedores. "
   ]
  },
  {
   "cell_type": "code",
   "execution_count": 2,
   "metadata": {},
   "outputs": [
    {
     "data": {
      "text/html": [
       "<div>\n",
       "<style scoped>\n",
       "    .dataframe tbody tr th:only-of-type {\n",
       "        vertical-align: middle;\n",
       "    }\n",
       "\n",
       "    .dataframe tbody tr th {\n",
       "        vertical-align: top;\n",
       "    }\n",
       "\n",
       "    .dataframe thead th {\n",
       "        text-align: right;\n",
       "    }\n",
       "</style>\n",
       "<table border=\"1\" class=\"dataframe\">\n",
       "  <thead>\n",
       "    <tr style=\"text-align: right;\">\n",
       "      <th></th>\n",
       "      <th>Ano</th>\n",
       "      <th>Organizador</th>\n",
       "      <th>Campeao</th>\n",
       "      <th>Vice</th>\n",
       "      <th>Terceiro</th>\n",
       "      <th>Quarto</th>\n",
       "      <th>Gols</th>\n",
       "      <th>Numero_Selecoes</th>\n",
       "      <th>Jogos_Disputados</th>\n",
       "      <th>Torcedores</th>\n",
       "    </tr>\n",
       "  </thead>\n",
       "  <tbody>\n",
       "    <tr>\n",
       "      <th>0</th>\n",
       "      <td>1930</td>\n",
       "      <td>Uruguay</td>\n",
       "      <td>Uruguay</td>\n",
       "      <td>Argentina</td>\n",
       "      <td>USA</td>\n",
       "      <td>Yugoslavia</td>\n",
       "      <td>70</td>\n",
       "      <td>13</td>\n",
       "      <td>18</td>\n",
       "      <td>590549</td>\n",
       "    </tr>\n",
       "    <tr>\n",
       "      <th>1</th>\n",
       "      <td>1934</td>\n",
       "      <td>Italy</td>\n",
       "      <td>Italy</td>\n",
       "      <td>Czechoslovakia</td>\n",
       "      <td>Germany</td>\n",
       "      <td>Austria</td>\n",
       "      <td>70</td>\n",
       "      <td>16</td>\n",
       "      <td>17</td>\n",
       "      <td>363000</td>\n",
       "    </tr>\n",
       "    <tr>\n",
       "      <th>2</th>\n",
       "      <td>1938</td>\n",
       "      <td>France</td>\n",
       "      <td>Italy</td>\n",
       "      <td>Hungary</td>\n",
       "      <td>Brazil</td>\n",
       "      <td>Sweden</td>\n",
       "      <td>84</td>\n",
       "      <td>15</td>\n",
       "      <td>18</td>\n",
       "      <td>375700</td>\n",
       "    </tr>\n",
       "    <tr>\n",
       "      <th>3</th>\n",
       "      <td>1950</td>\n",
       "      <td>Brazil</td>\n",
       "      <td>Uruguay</td>\n",
       "      <td>Brazil</td>\n",
       "      <td>Sweden</td>\n",
       "      <td>Spain</td>\n",
       "      <td>88</td>\n",
       "      <td>13</td>\n",
       "      <td>22</td>\n",
       "      <td>1045246</td>\n",
       "    </tr>\n",
       "    <tr>\n",
       "      <th>4</th>\n",
       "      <td>1954</td>\n",
       "      <td>Switzerland</td>\n",
       "      <td>Germany FR</td>\n",
       "      <td>Hungary</td>\n",
       "      <td>Austria</td>\n",
       "      <td>Uruguay</td>\n",
       "      <td>140</td>\n",
       "      <td>16</td>\n",
       "      <td>26</td>\n",
       "      <td>768607</td>\n",
       "    </tr>\n",
       "  </tbody>\n",
       "</table>\n",
       "</div>"
      ],
      "text/plain": [
       "    Ano  Organizador     Campeao            Vice Terceiro      Quarto  Gols  \\\n",
       "0  1930      Uruguay     Uruguay       Argentina      USA  Yugoslavia    70   \n",
       "1  1934        Italy       Italy  Czechoslovakia  Germany     Austria    70   \n",
       "2  1938       France       Italy         Hungary   Brazil      Sweden    84   \n",
       "3  1950       Brazil     Uruguay          Brazil   Sweden       Spain    88   \n",
       "4  1954  Switzerland  Germany FR         Hungary  Austria     Uruguay   140   \n",
       "\n",
       "   Numero_Selecoes  Jogos_Disputados  Torcedores  \n",
       "0               13                18      590549  \n",
       "1               16                17      363000  \n",
       "2               15                18      375700  \n",
       "3               13                22     1045246  \n",
       "4               16                26      768607  "
      ]
     },
     "execution_count": 2,
     "metadata": {},
     "output_type": "execute_result"
    }
   ],
   "source": [
    "dados = pd.read_csv(\"CopaMundoGeral.csv\", sep =\";\")\n",
    "dados.head()"
   ]
  },
  {
   "cell_type": "markdown",
   "metadata": {},
   "source": [
    "a) (1,5 pontos) Encontre a assimetria da distribuição de Torcedores e justifique/interprete o resultado a partir de um gráfico. (sugestão: utilizar a função *sns.distplot*). O texto da justificativa/interpretação deverá ser realizado em formato de Markdown. "
   ]
  },
  {
   "cell_type": "markdown",
   "metadata": {},
   "source": [
    "Folha de resposta\n",
    "- Assimetria próxima de zero e positiva representa uma tendência similar a uma distribuição normal e com a cauda levemente tendenciosa para o lado direito da distribuição."
   ]
  },
  {
   "cell_type": "code",
   "execution_count": 5,
   "metadata": {
    "scrolled": true
   },
   "outputs": [
    {
     "data": {
      "image/png": "[encoded data removed]",
      "text/plain": [
       "<matplotlib.figure.Figure at 0x7f320d73be10>"
      ]
     },
     "metadata": {},
     "output_type": "display_data"
    }
   ],
   "source": [
    "assimetria = skew(dados.Torcedores)\n",
    "sns.distplot(dados.Torcedores)\n",
    "plt.title(\"Assimetria[Torcedores]: \" + str(assimetria))\n",
    "plt.show()"
   ]
  },
  {
   "cell_type": "markdown",
   "metadata": {},
   "source": [
    "b) (1,5 pontos) A partir da análise do curtose da distribuição de Gols pode-se chegar a qual conclusão? Justifique a sua resposta baseada em um gráfico de sua escolha e no valor do curtose. O texto da justificativa deverá ser realizado em formato de Markdown. "
   ]
  },
  {
   "cell_type": "markdown",
   "metadata": {},
   "source": [
    "Folha de resposta\n",
    "- Curtose platicúrtico (negativo)\n",
    "- Tendência de possuir um número de outliers similar ao da distribuição normal"
   ]
  },
  {
   "cell_type": "code",
   "execution_count": 5,
   "metadata": {},
   "outputs": [
    {
     "data": {
      "image/png": "[encoded data removed]",
      "text/plain": [
       "<matplotlib.figure.Figure at 0x108846828>"
      ]
     },
     "metadata": {},
     "output_type": "display_data"
    }
   ],
   "source": [
    "curtose = kurtosis(dados.Gols)\n",
    "sns.distplot(dados.Gols)\n",
    "plt.title(\"Curtose[Gols]: \" + str(curtose))\n",
    "plt.show()"
   ]
  },
  {
   "cell_type": "markdown",
   "metadata": {},
   "source": [
    "c) (1,0 ponto) Utilizando como base um gráfico de caixa (box-plot) faça uma análise sobre os valores da média e mediana das distribuições de Gols e Torcedores. Adicionalmente, utilize as informações da variância e desvio padrão dessas distribuições para reforçar as suas conclusões. O texto da análise deverá ser realizado em formato de Markdown. "
   ]
  },
  {
   "cell_type": "markdown",
   "metadata": {},
   "source": [
    "Folha de resposta\n",
    "- Ambas as distribuições não possuem outliers\n",
    "- Para a distribuição de Gols a mediana é maior que a média\n",
    "- Para a distribuição de Torcedores a mediana é inferior que a média\n",
    "- Em ambas as distribuições o valor da $média \\pm std$ está entre o primeiro e o terceiro quartil"
   ]
  },
  {
   "cell_type": "code",
   "execution_count": 6,
   "metadata": {},
   "outputs": [
    {
     "data": {
      "image/png": "[encoded data removed]",
      "text/plain": [
       "<matplotlib.figure.Figure at 0x1a0f69f208>"
      ]
     },
     "metadata": {},
     "output_type": "display_data"
    }
   ],
   "source": [
    "# subplot com 1 linha e duas colunas\n",
    "fig, (ax1,ax2) = plt.subplots(figsize=(8,3), ncols=2, nrows=1)\n",
    "\n",
    "# título principal\n",
    "plt.suptitle(\"Análise das distribuições de Gols e Torcedores\", y=1.09, fontsize=12)\n",
    "\n",
    "### Títulos dos subplot\n",
    "ax1.set_title(\"Gols: var({:.2f}), std({:.2f})\".format(dados.Gols.var(),\n",
    "                                                      dados.Gols.std()), fontsize=12)\n",
    "ax2.set_title(\"Torcedores: var({:.2f}), std({:.2f})\".format(dados.Torcedores.var(),\n",
    "                                                      dados.Torcedores.std()), fontsize=12)\n",
    "\n",
    "sns.boxplot(dados.Gols, ax=ax1,showmeans=True,meanline=True,orient='v',color='white')\n",
    "sns.swarmplot(y=dados.Gols,ax=ax1)\n",
    "sns.boxplot(dados.Torcedores, ax=ax2,showmeans=True,meanline=True,orient='v',color='white')\n",
    "sns.swarmplot(y=dados.Torcedores,ax=ax2)\n",
    "\n",
    "# ajustar automaticamente as distâncias entre os subplots\n",
    "fig.tight_layout()\n",
    "\n",
    "plt.show()"
   ]
  },
  {
   "cell_type": "markdown",
   "metadata": {},
   "source": [
    "### 2. ( 6,0 pontos) \n",
    "\n",
    "Utilize nessa questão o conjunto de dados representado pelo arquivo \"jogos.csv\". A leitura correta do arquivo é parte da avaliação. No arquivo é possível perceber as seguintes colunas:\n",
    "\n",
    "- **data**: período que foi realizado o jogo.\n",
    "- **Selecao_a e Selecao_b**: seleções que disputaram o jogo.\n",
    "- **gols_a e gols_b**: gols realizados pelas respectivas seleções.\n",
    "- **organizador**: país sede do evento."
   ]
  },
  {
   "cell_type": "code",
   "execution_count": 7,
   "metadata": {},
   "outputs": [
    {
     "data": {
      "text/html": [
       "<div>\n",
       "<style scoped>\n",
       "    .dataframe tbody tr th:only-of-type {\n",
       "        vertical-align: middle;\n",
       "    }\n",
       "\n",
       "    .dataframe tbody tr th {\n",
       "        vertical-align: top;\n",
       "    }\n",
       "\n",
       "    .dataframe thead th {\n",
       "        text-align: right;\n",
       "    }\n",
       "</style>\n",
       "<table border=\"1\" class=\"dataframe\">\n",
       "  <thead>\n",
       "    <tr style=\"text-align: right;\">\n",
       "      <th></th>\n",
       "      <th>data</th>\n",
       "      <th>Selecao_a</th>\n",
       "      <th>Selecao_b</th>\n",
       "      <th>gols_a</th>\n",
       "      <th>gols_b</th>\n",
       "      <th>organizador</th>\n",
       "    </tr>\n",
       "  </thead>\n",
       "  <tbody>\n",
       "    <tr>\n",
       "      <th>0</th>\n",
       "      <td>13/07/30</td>\n",
       "      <td>Belgium</td>\n",
       "      <td>USA</td>\n",
       "      <td>0</td>\n",
       "      <td>3</td>\n",
       "      <td>Uruguay</td>\n",
       "    </tr>\n",
       "    <tr>\n",
       "      <th>1</th>\n",
       "      <td>13/07/30</td>\n",
       "      <td>France</td>\n",
       "      <td>Mexico</td>\n",
       "      <td>4</td>\n",
       "      <td>1</td>\n",
       "      <td>Uruguay</td>\n",
       "    </tr>\n",
       "    <tr>\n",
       "      <th>2</th>\n",
       "      <td>14/07/30</td>\n",
       "      <td>Brazil</td>\n",
       "      <td>Yugoslavia</td>\n",
       "      <td>1</td>\n",
       "      <td>2</td>\n",
       "      <td>Uruguay</td>\n",
       "    </tr>\n",
       "    <tr>\n",
       "      <th>3</th>\n",
       "      <td>14/07/30</td>\n",
       "      <td>Peru</td>\n",
       "      <td>Romania</td>\n",
       "      <td>1</td>\n",
       "      <td>3</td>\n",
       "      <td>Uruguay</td>\n",
       "    </tr>\n",
       "    <tr>\n",
       "      <th>4</th>\n",
       "      <td>15/07/30</td>\n",
       "      <td>Argentina</td>\n",
       "      <td>France</td>\n",
       "      <td>1</td>\n",
       "      <td>0</td>\n",
       "      <td>Uruguay</td>\n",
       "    </tr>\n",
       "  </tbody>\n",
       "</table>\n",
       "</div>"
      ],
      "text/plain": [
       "       data  Selecao_a   Selecao_b  gols_a  gols_b organizador\n",
       "0  13/07/30    Belgium         USA       0       3     Uruguay\n",
       "1  13/07/30     France      Mexico       4       1     Uruguay\n",
       "2  14/07/30     Brazil  Yugoslavia       1       2     Uruguay\n",
       "3  14/07/30       Peru     Romania       1       3     Uruguay\n",
       "4  15/07/30  Argentina      France       1       0     Uruguay"
      ]
     },
     "execution_count": 7,
     "metadata": {},
     "output_type": "execute_result"
    }
   ],
   "source": [
    "dados = pd.read_csv(\"jogos.csv\", sep = \";\")\n",
    "dados.head()"
   ]
  },
  {
   "cell_type": "markdown",
   "metadata": {},
   "source": [
    "a) (1,0 ponto) Considerando o histórico de gols em todas as partidas de todas as Copas do Mundo, qual a probabilidade que em um jogo tenhamos pelo menos um gol? E que não tenhamos gol? Justifique a sua resposta. O texto da justificativa deverá ser realizado em formato de Markdown. "
   ]
  },
  {
   "cell_type": "markdown",
   "metadata": {},
   "source": [
    "Folha de resposta\n",
    "\n",
    "- Encontrar a soma dos gols por partida\n",
    "- Verificar as partidas que não tiveram gol e calcular a probabilidade considerando o tamanho da população\n",
    "- O complemento da probabilidade que não tenhamos gol é justamente a probabilidade que tenhamos pelo menos 1 gol"
   ]
  },
  {
   "cell_type": "code",
   "execution_count": 8,
   "metadata": {},
   "outputs": [
    {
     "name": "stdout",
     "output_type": "stream",
     "text": [
      "Probabilidade quem em um jogo não tenhamos gol é de 0.08\n",
      "Probabilidade quem em um jogo tenhamos pelo menos um gol é de 0.92\n"
     ]
    }
   ],
   "source": [
    "prob_sem_gol = sum((dados.gols_a + dados.gols_b).apply(lambda x: 1 if x == 0 else 0))/dados.shape[0]\n",
    "print(\"Probabilidade quem em um jogo não tenhamos gol é de {:.2f}\".format(prob_sem_gol))\n",
    "print(\"Probabilidade quem em um jogo tenhamos pelo menos um gol é de {:.2f}\".format(1-prob_sem_gol))"
   ]
  },
  {
   "cell_type": "markdown",
   "metadata": {},
   "source": [
    "b) (1,0 ponto) Qual a quantidade de gols por partida mais comum considerando todas as partidas de todas as Copas do Mundo? Justifique a sua resposta. O texto da justificativa deverá ser realizado em formato de Markdown. "
   ]
  },
  {
   "cell_type": "markdown",
   "metadata": {},
   "source": [
    "Folha de resposta\n",
    "\n",
    "- o evento mais comum é a moda da distribuição"
   ]
  },
  {
   "cell_type": "code",
   "execution_count": 10,
   "metadata": {},
   "outputs": [
    {
     "name": "stdout",
     "output_type": "stream",
     "text": [
      "A quantidade de gols mais comum em todas as copas do mundo foi 3\n"
     ]
    }
   ],
   "source": [
    "print(\"A quantidade de gols mais comum em todas as copas do mundo foi {}\".\n",
    "      format((dados.gols_a + dados.gols_b).mode()[0]))"
   ]
  },
  {
   "cell_type": "markdown",
   "metadata": {},
   "source": [
    "c) (1,0 ponto) Qual o placar mais comum considerando todas as partidas de todas as Copas do Mundo? Justifique a sua resposta. O texto da justificativa deverá ser realizado em formato de Markdown. "
   ]
  },
  {
   "cell_type": "markdown",
   "metadata": {},
   "source": [
    "Folha de resposta\n",
    "- O resultado mais comum é a vitória do time da casa por 1 x 0\n",
    "- A moda da distribuição caracteriza o valor mais comum da distribuição."
   ]
  },
  {
   "cell_type": "code",
   "execution_count": 11,
   "metadata": {},
   "outputs": [
    {
     "data": {
      "text/plain": [
       "(1, 0)"
      ]
     },
     "execution_count": 11,
     "metadata": {},
     "output_type": "execute_result"
    }
   ],
   "source": [
    "pd.Series(list(zip(dados.gols_a,dados.gols_b))).mode()[0]"
   ]
  },
  {
   "cell_type": "markdown",
   "metadata": {},
   "source": [
    "d) (2,0 pontos) Considere **p** como sendo a probabilidade de que ocorra pelo menos 1 gol em uma partida (considerando todas as partidas de todas as Copas do Mundo). Assuma **N** o número de jogos disputados pelas copas do mundo organizadas pelo Brasil (na base de dados a grafia está 'Brazil'). Considerando que o número de gols em uma partida de copa do mundo realizada no Brasil segue uma distribuição Binomial, qual a probabilidade de que pelo menos 20 partidas tenham ao menos 3 gols?"
   ]
  },
  {
   "cell_type": "markdown",
   "metadata": {},
   "source": [
    "Folha de resposta\n",
    "$$\n",
    "\\begin{eqnarray*}\n",
    "P(X \\leq k) \\Leftrightarrow  F(k,n,p_3)  & = &\n",
    "               \\displaystyle \\sum_{i=0}^{k}\\binom{n}{i}p_3^i(1-p_3)^{n-i} \\\\\n",
    "               P(X \\geq 20) = 1 - P(X \\leq 19) =  1 - F(19,86,0.6162) & = & \\displaystyle 1 -\\sum_{i=0}^{19}\\binom{86}{i}(0.6162)^i(0.3837)^{86-i} \n",
    "\\end{eqnarray*}\n",
    "$$"
   ]
  },
  {
   "cell_type": "code",
   "execution_count": 17,
   "metadata": {},
   "outputs": [
    {
     "name": "stdout",
     "output_type": "stream",
     "text": [
      "Probabilidade de que pelo menos 20 partidas tenham ao menos 3 gols é 1.0000\n"
     ]
    }
   ],
   "source": [
    "dados_brasil = dados[dados.organizador == 'Brazil']\n",
    "N = dados_brasil.shape[0]\n",
    "p3 = sum((dados_brasil.gols_a + dados_brasil.gols_b).apply(lambda x: 1 if x >= 3 else 0))/N\n",
    "prob = 1-binom.cdf(19,86,p3)\n",
    "print(\"Probabilidade de que pelo menos 20 partidas tenham ao menos 3 gols é {:.4f}\".format(prob))"
   ]
  },
  {
   "cell_type": "markdown",
   "metadata": {},
   "source": [
    "e) (1,0 ponto) Qual conclusão é possível extrair da correlação entre as colunas gols_a e gols_b? Justifique a sua resposta apropriadamente indicando o fator de correlação e uma figura de livre escolha. O texto da justificativa deverá ser realizado em formato de Markdown. "
   ]
  },
  {
   "cell_type": "markdown",
   "metadata": {},
   "source": [
    "Folha de resposta\n",
    "- correlação igual ou próximo de zero indica que as variáveis não apresentam correlação"
   ]
  },
  {
   "cell_type": "code",
   "execution_count": 18,
   "metadata": {},
   "outputs": [
    {
     "data": {
      "text/plain": [
       "<seaborn.axisgrid.JointGrid at 0x107bd34e0>"
      ]
     },
     "execution_count": 18,
     "metadata": {},
     "output_type": "execute_result"
    },
    {
     "data": {
      "image/png": "[encoded data removed]",
      "text/plain": [
       "<matplotlib.figure.Figure at 0x1a0f58bbe0>"
      ]
     },
     "metadata": {},
     "output_type": "display_data"
    }
   ],
   "source": [
    "sns.jointplot(dados.gols_a,dados.gols_b)"
   ]
  },
  {
   "cell_type": "code",
   "execution_count": 19,
   "metadata": {},
   "outputs": [
    {
     "data": {
      "text/plain": [
       "<matplotlib.axes._subplots.AxesSubplot at 0x1a0fa9ed30>"
      ]
     },
     "execution_count": 19,
     "metadata": {},
     "output_type": "execute_result"
    },
    {
     "data": {
      "image/png": "[encoded data removed]",
      "text/plain": [
       "<matplotlib.figure.Figure at 0x1a0f767b38>"
      ]
     },
     "metadata": {},
     "output_type": "display_data"
    }
   ],
   "source": [
    "sns.heatmap(dados.corr())"
   ]
  }
 ],
 "metadata": {
  "kernelspec": {
   "display_name": "Python 3",
   "language": "python",
   "name": "python3"
  },
  "language_info": {
   "codemirror_mode": {
    "name": "ipython",
    "version": 3
   },
   "file_extension": ".py",
   "mimetype": "text/x-python",
   "name": "python",
   "nbconvert_exporter": "python",
   "pygments_lexer": "ipython3",
   "version": "3.6.4"
  }
 },
 "nbformat": 4,
 "nbformat_minor": 2
}
